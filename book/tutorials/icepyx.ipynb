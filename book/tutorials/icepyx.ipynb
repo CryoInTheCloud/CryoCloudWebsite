{
 "cells": [
  {
   "cell_type": "markdown",
   "id": "7fd4844a-aee8-4a9c-b22a-02688a8067f9",
   "metadata": {
    "user_expressions": []
   },
   "source": [
    "# NASA Earthdata Cloud and data access using earthaccess and icepyx:\n",
    "## Using the `icepyx` python library to access ICESat-2 data\n",
    "\n",
    "TODOs / Questions:\n",
    "* Where does this live within the existing CryoCloud book?\n",
    "\n",
    "## 1. Tutorial Overview\n",
    "___\n",
    "\n",
    "### Introduction\n",
    "This tutorial is designed for the \"[Cloud Computing and Open-Source Scientific Software for Cryosphere Communities](https://agu.confex.com/agu/fm23/meetingapp.cgi/Session/193477)\" Learning Workshop at the 2023 AGU Fall Meeting.\n",
    "\n",
    "### Credits\n",
    "\n",
    "\n",
    "### Learning Objectives\n",
    "\n",
    "### Prerequisites"
   ]
  },
  {
   "cell_type": "markdown",
   "id": "7cc66d51-9b34-440d-9edc-617499c3cec9",
   "metadata": {
    "tags": [],
    "user_expressions": []
   },
   "source": [
    "## 2. Using `icepyx` to search and access ICESat-2 data"
   ]
  },
  {
   "cell_type": "code",
   "execution_count": null,
   "id": "d070bb18-ff3e-49c3-9cae-d933c871984d",
   "metadata": {},
   "outputs": [],
   "source": []
  }
 ],
 "metadata": {
  "kernelspec": {
   "display_name": "Python 3 (ipykernel)",
   "language": "python",
   "name": "python3"
  },
  "language_info": {
   "codemirror_mode": {
    "name": "ipython",
    "version": 3
   },
   "file_extension": ".py",
   "mimetype": "text/x-python",
   "name": "python",
   "nbconvert_exporter": "python",
   "pygments_lexer": "ipython3",
   "version": "3.10.12"
  }
 },
 "nbformat": 4,
 "nbformat_minor": 5
}
