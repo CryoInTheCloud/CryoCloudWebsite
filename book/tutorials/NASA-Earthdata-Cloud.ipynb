{
 "cells": [
  {
   "cell_type": "markdown",
   "id": "7fd4844a-aee8-4a9c-b22a-02688a8067f9",
   "metadata": {
    "user_expressions": []
   },
   "source": [
    "# NASA Earthdata Cloud and data access using earthaccess and icepyx\n",
    "\n",
    "TODOs / Questions:\n",
    "* Do we want to break this into multiple notebooks/ md files?\n",
    "* Where does this live within the existing CryoCloud book?\n",
    "\n",
    "## 1. Tutorial Overview\n",
    "___\n",
    "\n",
    "### Introduction\n",
    "This tutorial is designed for the \"[Cloud Computing and Open-Source Scientific Software for Cryosphere Communities](https://agu.confex.com/agu/fm23/meetingapp.cgi/Session/193477)\" Learning Workshop at the 2023 AGU Fall Meeting.\n",
    "\n",
    "### Credits\n",
    "\n",
    "\n",
    "### Learning Objectives\n",
    "\n",
    "### Prerequisites"
   ]
  },
  {
   "cell_type": "markdown",
   "id": "b651cd5d-5e8f-4747-88fd-c05b736c554b",
   "metadata": {},
   "source": [
    "## 2. Introduction to NASA Earthdata and NASA Earthdata Cloud"
   ]
  },
  {
   "cell_type": "code",
   "execution_count": null,
   "id": "9e0e96c6-ede7-4b4b-88b0-fcbaf8050a1f",
   "metadata": {},
   "outputs": [],
   "source": []
  },
  {
   "cell_type": "markdown",
   "id": "cda28d37-7a59-4571-ad2f-62c91f324e38",
   "metadata": {},
   "source": [
    "## 3. Cloud Computing Considerations"
   ]
  },
  {
   "cell_type": "code",
   "execution_count": null,
   "id": "b3be0ba0-01f7-4753-a984-5d9e04b02e68",
   "metadata": {},
   "outputs": [],
   "source": []
  },
  {
   "cell_type": "markdown",
   "id": "ca5df483-a6a1-4680-be2f-d5497a47b077",
   "metadata": {
    "tags": []
   },
   "source": [
    "## 4. Introduction to ICESat-2\n",
    "\n",
    "* Scientific use case leveraging cloud computing\n",
    "* Consider Andy's slides from Coiled Community call: https://github.com/andypbarrett/openscapes_community_chat_coiled"
   ]
  },
  {
   "cell_type": "markdown",
   "id": "08f25ec2-348f-4855-9aa3-97cc64f9bffa",
   "metadata": {},
   "source": [
    "## 5. Search and access data using `earthaccess` "
   ]
  },
  {
   "cell_type": "code",
   "execution_count": null,
   "id": "c965d59f-5e6b-45cf-a63b-694c94e95d0a",
   "metadata": {},
   "outputs": [],
   "source": []
  },
  {
   "cell_type": "markdown",
   "id": "7cc66d51-9b34-440d-9edc-617499c3cec9",
   "metadata": {},
   "source": [
    "## 6. Using `icepyx` to search and access ICESat-2 data"
   ]
  }
 ],
 "metadata": {
  "kernelspec": {
   "display_name": "Python 3 (ipykernel)",
   "language": "python",
   "name": "python3"
  },
  "language_info": {
   "codemirror_mode": {
    "name": "ipython",
    "version": 3
   },
   "file_extension": ".py",
   "mimetype": "text/x-python",
   "name": "python",
   "nbconvert_exporter": "python",
   "pygments_lexer": "ipython3",
   "version": "3.10.12"
  }
 },
 "nbformat": 4,
 "nbformat_minor": 5
}
