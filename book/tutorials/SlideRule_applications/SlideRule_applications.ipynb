{
 "cells": [
  {
   "cell_type": "markdown",
   "metadata": {},
   "source": [
    "# CryoCloud Tutorials: SlideRule\n",
    "\n",
    "Tutorial Leads: [Tyler Sutterley](mailto:tsutterl@uw.edu) and [Scott Henderson](scottyh@uw.edu)\n",
    "\n",
    "Learning Objectives\n",
    "-------------------\n",
    "- Learn how to use SlideRule APIs\n",
    "- Learn about using ICESat-2 data in coordination with other datasets\n",
    "- Learn about interactive maps\n",
    "\n",
    "### SlideRule Introduction\n",
    "\n",
    "SlideRule is an on-demand science data processing service that runs in on Amazon Web Services and responds to REST API calls to process and return science results.  SlideRule was designed to enable researchers and other data systems to have low-latency access to custom-generated, high-level, analysis-ready data products using processing parameters supplied at the time of the request. \n",
    "\n",
    "The SlideRule ICESat-2 plug-in is a cloud-optimized version of the [land ice algorithm (ATL06)](https://nsidc.org/data/atl06) that can process the lower-level [geolocated photon height data products (ATL03)](https://nsidc.org/data/atl03) hosted on AWS by the NSIDC DAAC.  This work supports science applications for the NASA Ice Cloud and land Elevation Satellite-2 (ICESat-2) mission. \n",
    "\n",
    "[Documentation for using SlideRule](https://slideruleearth.io/web/rtd/) is available from the [project website](https://slideruleearth.io/web/) \n",
    "\n",
    "#### **Q: What does SlideRule ICESat-2 actually do?**\n",
    "SlideRule creates a simplified version of the [ICESat-2 land ice height product](https://nsidc.org/data/atl06) that can be adjusted to suit different needs.  SlideRule let's you create customized ICESat-2 segment heights _directly_ from the photon height data anywhere on the globe, _on-demand_ and quickly."
   ]
  },
  {
   "cell_type": "code",
   "execution_count": null,
   "metadata": {},
   "outputs": [],
   "source": [
    "from sliderule import icesat2, ipysliderule, sliderule\n",
    "from io import BytesIO\n",
    "import geopandas as gpd\n",
    "import logging, warnings\n",
    "import matplotlib.pyplot as plt\n",
    "import shapely.geometry\n",
    "import owslib.wms\n",
    "\n",
    "# autoreload\n",
    "%load_ext autoreload\n",
    "%autoreload 2"
   ]
  },
  {
   "cell_type": "markdown",
   "metadata": {},
   "source": [
    "#### Initiate SlideRule API\n",
    "- Sets the URL for accessing the SlideRule service\n",
    "- Builds a table of servers available for processing data"
   ]
  },
  {
   "cell_type": "code",
   "execution_count": null,
   "metadata": {},
   "outputs": [],
   "source": [
    "# set the url for the sliderule service\n",
    "# set the logging level\n",
    "icesat2.init(\"slideruleearth.io\", loglevel=logging.WARNING)\n",
    "# turn off warnings for demo\n",
    "warnings.filterwarnings('ignore')"
   ]
  },
  {
   "cell_type": "markdown",
   "metadata": {},
   "source": [
    "### Set options for making science data processing requests to SlideRule"
   ]
  },
  {
   "cell_type": "code",
   "execution_count": null,
   "metadata": {},
   "outputs": [],
   "source": [
    "# display widgets for setting SlideRule parameters\n",
    "SRwidgets = ipysliderule.widgets()\n",
    "SRwidgets.set_atl06_defaults()\n",
    "SRwidgets.VBox(SRwidgets.atl06(display='basic'))"
   ]
  },
  {
   "cell_type": "markdown",
   "metadata": {},
   "source": [
    "### Interactive Mapping with Leaflet\n",
    "\n",
    "Interactive maps within the SlideRule python API are build upon [ipyleaflet](https://ipyleaflet.readthedocs.io), which are Jupyter and python bindings for the fantastic [Leaflet](https://leafletjs.com/) javascript library.\n",
    "\n",
    "### Select regions of interest for submitting to SlideRule\n",
    "\n",
    "Here, we create polygons or bounding boxes for our regions of interest.  \n",
    "This map is also our viewer for inspecting our SlideRule ICESat-2 data returns."
   ]
  },
  {
   "cell_type": "code",
   "execution_count": null,
   "metadata": {},
   "outputs": [],
   "source": [
    "# create ipyleaflet map in specified projection\n",
    "m = ipysliderule.leaflet(SRwidgets.projection.value,\n",
    "    center=(37.8, -122.4), zoom=11,\n",
    "    full_screen_control=True)\n",
    "# install click handler callback\n",
    "m.add_selected_callback(SRwidgets.atl06_click_handler)\n",
    "m.map"
   ]
  },
  {
   "cell_type": "markdown",
   "metadata": {},
   "source": [
    "### Build and transmit requests to SlideRule\n",
    "\n",
    "- SlideRule will query the [NASA Common Metadata Repository (CMR)](https://cmr.earthdata.nasa.gov/) for ATL03 data within our region of interest\n",
    "- When using the `icesat2` asset, the ICESat-2 ATL03 data are then accessed from the NSIDC AWS s3 bucket in `us-west-2`\n",
    "- The ATL03 granules is spatially subset within SlideRule to our exact region of interest\n",
    "- SlideRule then uses our specified parameters to calculate average height segments from the ATL03 data in parallel\n",
    "- The completed data is streamed concurrently back and combined into a geopandas GeoDataFrame within the Python client"
   ]
  },
  {
   "cell_type": "code",
   "execution_count": null,
   "metadata": {},
   "outputs": [],
   "source": [
    "%%time\n",
    "# build sliderule parameters using latest values from widget\n",
    "parms = SRwidgets.build_atl06()\n",
    "\n",
    "# clear existing geodataframe results\n",
    "elevations = [sliderule.emptyframe()]\n",
    "\n",
    "# for each region of interest\n",
    "for poly in m.regions:\n",
    "    # add polygon from map to sliderule parameters\n",
    "    parms[\"poly\"] = poly\n",
    "    # make the request to the SlideRule (ATL06-SR) endpoint\n",
    "    # and pass it the request parameters to request ATL06 Data\n",
    "    elevations.append(icesat2.atl06p(parms))\n",
    "# concatenate the results into a single geodataframe\n",
    "gdf = gpd.pd.concat(elevations)"
   ]
  },
  {
   "cell_type": "markdown",
   "metadata": {},
   "source": [
    "### Review GeoDataFrame output\n",
    "Can inspect the columns, number of returns and returns at the top of the GeoDataFrame.\n",
    "\n",
    "See the [ICESat-2 documentation](https://slideruleearth.io/rtd/user_guide/ICESat-2.html#elevations) for descriptions of each column"
   ]
  },
  {
   "cell_type": "code",
   "execution_count": null,
   "metadata": {},
   "outputs": [],
   "source": [
    "print(f'Returned {gdf.shape[0]} records')\n",
    "gdf.head()"
   ]
  },
  {
   "cell_type": "markdown",
   "metadata": {
    "tags": []
   },
   "source": [
    "### Add GeoDataFrame to map\n",
    "\n",
    "For stability of the leaflet map, SlideRule will as a default limit the plot to have up to 10000 points from the GeoDataFrame\n",
    "\n",
    "GeoDataFrames can be plotted in any available [matplotlib colormap](https://matplotlib.org/stable/tutorials/colors/colormaps.html)"
   ]
  },
  {
   "cell_type": "code",
   "execution_count": null,
   "metadata": {},
   "outputs": [],
   "source": [
    "SRwidgets.VBox([\n",
    "    SRwidgets.variable,\n",
    "    SRwidgets.cmap,\n",
    "    SRwidgets.reverse,\n",
    "])"
   ]
  },
  {
   "cell_type": "code",
   "execution_count": null,
   "metadata": {},
   "outputs": [],
   "source": [
    "%matplotlib inline\n",
    "# ATL06-SR fields for hover tooltip\n",
    "fields = m.default_atl06_fields()\n",
    "m.GeoData(gdf, column_name=SRwidgets.column_name, cmap=SRwidgets.colormap,\n",
    "    max_plot_points=10000, tooltip=True, colorbar=True, fields=fields)"
   ]
  },
  {
   "cell_type": "markdown",
   "metadata": {},
   "source": [
    "### Create plots for a single track\n",
    "- `cycles`: Will plot all available cycles of data returned by SlideRule for a single RGT and ground track\n",
    "- `scatter`: Will plot data returned by SlideRule for a single RGT, ground track and cycle\n",
    "\n",
    "To select a track from the leaflet plot above, click on one of the plotted elevations and the RGT and Cycle will automatically get populated below\n",
    "\n",
    "The cycles plots should only be used in regions with [repeat Reference Ground Track (RGT) pointing](https://icesat-2.gsfc.nasa.gov/science/specs)"
   ]
  },
  {
   "cell_type": "code",
   "execution_count": null,
   "metadata": {},
   "outputs": [],
   "source": [
    "SRwidgets.VBox([\n",
    "    SRwidgets.plot_kind,\n",
    "    SRwidgets.rgt,\n",
    "    SRwidgets.ground_track,\n",
    "    SRwidgets.cycle,\n",
    "])"
   ]
  },
  {
   "cell_type": "code",
   "execution_count": null,
   "metadata": {},
   "outputs": [],
   "source": [
    "%matplotlib widget\n",
    "# default is to skip cycles with significant off-pointing\n",
    "SRwidgets.plot(gdf, kind=SRwidgets.plot_kind.value, cycle_start=3,\n",
    "    legend=True, legend_frameon=False)"
   ]
  },
  {
   "cell_type": "markdown",
   "metadata": {},
   "source": [
    "### Advanced ICESat-2 SlideRule Example\n",
    "\n",
    "SlideRule also can use different sources for photon classification before calculating the average segment height.  \n",
    "This is useful for example, in cases where there may be a vegetated canopy affecting the spread of the photon returns.\n",
    "- ATL03 photon confidence values, based on algorithm-specific classification types for land, ocean, sea-ice, land-ice, or inland water\n",
    "- [ATL08 Land and Vegetation Height product](https://nsidc.org/data/atl08) photon classification\n",
    "- Experimental [YAPC (Yet Another Photon Classification)](https://github.com/tsutterley/yapc) photon-density-based classification"
   ]
  },
  {
   "cell_type": "markdown",
   "metadata": {},
   "source": [
    "#### Leaflet Basemaps and Layers\n",
    "\n",
    "There are 3 projections available within SlideRule for mapping ([Global](https://epsg.io/3857), [North](https://epsg.io/5936) and [South](https://epsg.io/3031)).  There are also contextual layers available for each projection.\n",
    "\n",
    "<table>\n",
    "  <tbody>\n",
    "    <tr>\n",
    "      <th align='center' max-width=\"30%\"><a href=\"https://epsg.io/3857\">Global (Web Mercator, EPSG:3857)</a></th>\n",
    "      <th align='center' max-width=\"30%\"><a href=\"https://epsg.io/5936\">North (Alaska Polar Stereographic, EPSG:5936)</a></th>\n",
    "      <th align='center' max-width=\"30%\"><a href=\"https://epsg.io/3031\">South (Antarctic Polar Stereographic, EPSG:3031)</a></th>\n",
    "    </tr>\n",
    "    <tr>\n",
    "      <td align='left' valign='top' width=\"30%\">\n",
    "        <ul style=\"line-height: 1.5em\">\n",
    "            <li><a href=\"https://apps.nationalmap.gov/3depdem/\">USGS 3DEP Hillshade</a></li>\n",
    "            <li><a href=\"https://asterweb.jpl.nasa.gov/gdem.asp\">ASTER GDEM Hillshade</a></li>\n",
    "            <li><a href=\"https://www.arcgis.com/home/item.html?id=10df2279f9684e4a9f6a7f08febac2a9\">ESRI Imagery</a></li>\n",
    "            <li><a href=\"http://glims.colorado.edu/glacierdata/\">Global Land Ice Measurements from Space (GLIMS)</a></li>\n",
    "            <li><a href=\"https://www.glims.org/RGI/\">Randolph Glacier Inventory (RGI)</a></li>\n",
    "        </ul>\n",
    "       </td>\n",
    "       <td align='left' valign='top' width=\"30%\">\n",
    "        <ul style=\"line-height: 1.5em\">\n",
    "            <li><a href=\"http://goto.arcgisonline.com/maps/Arctic_Imagery\">ESRI Imagery</a></li>\n",
    "            <li><a href=\"https://www.pgc.umn.edu/data/arcticdem\">ArcticDEM</a></li>\n",
    "        </ul>\n",
    "       </td>\n",
    "       <td align='left' valign='top' width=\"30%\">\n",
    "        <ul style=\"line-height: 1.5em\">\n",
    "            <li><a href=\"https://lima.usgs.gov/\">Landsat Image Mosaic of Antarctica (LIMA)</a></li>\n",
    "            <li><a href=\"https://nsidc.org/data/nsidc-0280\">MODIS Mosaic of Antarctica (MOA)</a></li>\n",
    "            <li><a href=\"https://nsidc.org/data/NSIDC-0103\">Radarsat Antarctic Mapping Project (RAMP)</a></li>\n",
    "            <li><a href=\"https://www.pgc.umn.edu/data/rema\">Reference Elevation Model of Antarctica (REMA)</a></li>\n",
    "        </ul>\n",
    "      </td>\n",
    "    </tr>\n",
    "  </tbody>\n",
    "</table>\n",
    "\n",
    "In addition, most [xyzservice providers](https://xyzservices.readthedocs.io/en/stable/introduction.html) can be added as contextual layers to the global Web Mercator maps"
   ]
  },
  {
   "cell_type": "code",
   "execution_count": null,
   "metadata": {},
   "outputs": [],
   "source": [
    "SRwidgets.projection.value = 'North'\n",
    "SRwidgets.layers.value = ['ArcticDEM']\n",
    "SRwidgets.VBox([\n",
    "    SRwidgets.projection,\n",
    "    SRwidgets.layers,\n",
    "    SRwidgets.raster_functions\n",
    "])"
   ]
  },
  {
   "cell_type": "code",
   "execution_count": null,
   "metadata": {},
   "outputs": [],
   "source": [
    "# create ipyleaflet map in specified projection\n",
    "m1 = ipysliderule.leaflet(SRwidgets.projection.value)\n",
    "# install click handler callback\n",
    "m1.add_selected_callback(SRwidgets.atl06_click_handler)\n",
    "m1.map"
   ]
  },
  {
   "cell_type": "code",
   "execution_count": null,
   "metadata": {},
   "outputs": [],
   "source": [
    "m1.add_layer(\n",
    "    layers=SRwidgets.layers.value,\n",
    "    rendering_rule=SRwidgets.rendering_rule\n",
    ")"
   ]
  },
  {
   "cell_type": "code",
   "execution_count": null,
   "metadata": {},
   "outputs": [],
   "source": [
    "# display widgets for setting SlideRule parameters\n",
    "SRwidgets.classification.value = ['atl03']\n",
    "SRwidgets.surface_type.value = 'Land ice'\n",
    "SRwidgets.VBox(SRwidgets.atl06())"
   ]
  },
  {
   "cell_type": "code",
   "execution_count": null,
   "metadata": {},
   "outputs": [],
   "source": [
    "%%time\n",
    "# build sliderule parameters using latest values from widget\n",
    "parms = SRwidgets.build_atl06()\n",
    "\n",
    "# clear existing geodataframe results\n",
    "elevations = [sliderule.emptyframe()]\n",
    "\n",
    "# for each region of interest\n",
    "for poly in m1.regions:\n",
    "    # add polygon from map to sliderule parameters\n",
    "    parms[\"poly\"] = poly\n",
    "    # make the request to the SlideRule (ATL06-SR) endpoint\n",
    "    # and pass it the request parameters to request ATL06 Data\n",
    "    elevations.append(icesat2.atl06p(parms))\n",
    "# concatenate the results into a single geodataframe\n",
    "gdf1 = gpd.pd.concat(elevations)"
   ]
  },
  {
   "cell_type": "code",
   "execution_count": null,
   "metadata": {},
   "outputs": [],
   "source": [
    "%matplotlib inline\n",
    "# ATL06-SR fields for hover tooltip\n",
    "fields = m1.default_atl06_fields()\n",
    "m1.GeoData(gdf1, column_name=SRwidgets.column_name, cmap=SRwidgets.colormap,\n",
    "    max_plot_points=10000, tooltip=True, colorbar=True, fields=fields)"
   ]
  },
  {
   "cell_type": "markdown",
   "metadata": {},
   "source": [
    "#### Create a static map with SlideRule returns\n",
    "[geopandas GeoDataFrames can be transformed to different Coordinate Reference Systems (CRS)](http://geopandas.org/projections.html) using the `to_crs()` function.\n",
    "\n",
    "Here, we can make a static map of Greenland containing our SlideRule returns."
   ]
  },
  {
   "cell_type": "code",
   "execution_count": null,
   "metadata": {},
   "outputs": [],
   "source": [
    "def plot_nasa_gibs(ax=None, **kwargs):\n",
    "    \"\"\"Plot NASA WMS layers as a basemap\n",
    "\n",
    "    Parameters\n",
    "    ----------\n",
    "    ax: obj, default None\n",
    "        Figure axis\n",
    "    kwargs: dict, default {}\n",
    "        Additional keyword arguments for ``wms.getmap``\n",
    "    \"\"\"\n",
    "    # set default keyword arguments\n",
    "    kwargs.setdefault('layers', ['BlueMarble_NextGeneration'])\n",
    "    kwargs.setdefault('format', 'image/png')\n",
    "    kwargs.setdefault('srs', 'EPSG:3413')\n",
    "    # create figure axis if non-existent\n",
    "    if (ax is None):\n",
    "        _, ax = plt.subplots()\n",
    "    # get the pixel bounds and resolution of the map\n",
    "    width = int(ax.get_window_extent().width)\n",
    "    height = int(ax.get_window_extent().height)\n",
    "    # calculate the size of the map in pixels\n",
    "    kwargs.setdefault('size', [width, height])\n",
    "    # calculate the bounding box of the map in projected coordinates\n",
    "    bbox = [None]*4\n",
    "    bbox[0], bbox[2] = ax.get_xbound()\n",
    "    bbox[1], bbox[3] = ax.get_ybound()\n",
    "    kwargs.setdefault('bbox', bbox)\n",
    "    # create WMS request for basemap image at bounds and resolution\n",
    "    srs = kwargs['srs'].replace(':', '').lower()\n",
    "    # url of NASA Global Imagery Browse Services (GIBS)\n",
    "    # https://wiki.earthdata.nasa.gov/display/GIBS\n",
    "    # https://worldview.earthdata.nasa.gov/\n",
    "    url = f'https://gibs.earthdata.nasa.gov/wms/{srs}/best/wms.cgi?'\n",
    "    wms = owslib.wms.WebMapService(url=url, version='1.1.1')\n",
    "    basemap = wms.getmap(**kwargs)\n",
    "    # read WMS layer and plot\n",
    "    img = plt.imread(BytesIO(basemap.read()))\n",
    "    ax.imshow(img, extent=[bbox[0],bbox[2],bbox[1],bbox[3]])"
   ]
  },
  {
   "cell_type": "code",
   "execution_count": null,
   "metadata": {},
   "outputs": [],
   "source": [
    "%matplotlib inline\n",
    "# create polar stereographic plot of ATL06-SR data\n",
    "crs = 'EPSG:3413'\n",
    "# create figure axis\n",
    "fig,ax1 = plt.subplots(num=1)\n",
    "ax1.set_aspect('equal', adjustable='box')\n",
    "\n",
    "# add sliderule returns\n",
    "gdfproj = gdf1.to_crs(crs)\n",
    "label = f'SlideRule {SRwidgets.column_name}'\n",
    "sc = gdfproj.plot(ax=ax1, zorder=1, markersize=0.5,\n",
    "    column=SRwidgets.column_name,\n",
    "    cmap=SRwidgets.colormap, legend=True,\n",
    "    legend_kwds=dict(label=label, shrink=0.95))\n",
    "sc.set_rasterized(True)\n",
    "\n",
    "# plot each region of interest\n",
    "regions = []\n",
    "for poly in m1.regions:\n",
    "    lon,lat = sliderule.io.from_region(poly)\n",
    "    regions.append(shapely.geometry.Polygon(zip(lon,lat)))\n",
    "gs = gpd.GeoSeries(regions, crs='EPSG:4326').to_crs(crs)\n",
    "gs.plot(ax=ax1, facecolor='none', edgecolor='black', lw=3)\n",
    "\n",
    "# plot basemap using NASA GIBS imagery\n",
    "plot_nasa_gibs(ax1, srs=crs)\n",
    "\n",
    "# add x and y labels\n",
    "ax1.set_xlabel('{0} [{1}]'.format('Easting','m'))\n",
    "ax1.set_ylabel('{0} [{1}]'.format('Northing','m'))\n",
    "\n",
    "# adjust subplot and show\n",
    "fig.subplots_adjust(left=0.06, right=0.98, bottom=0.08, top=0.98)"
   ]
  }
 ],
 "metadata": {
  "interpreter": {
   "hash": "31f2aee4e71d21fbe5cf8b01ff0e069b9275f58929596ceb00d14d90e3e16cd6"
  },
  "kernelspec": {
   "display_name": "Python 3 (ipykernel)",
   "language": "python",
   "name": "python3"
  },
  "language_info": {
   "codemirror_mode": {
    "name": "ipython",
    "version": 3
   },
   "file_extension": ".py",
   "mimetype": "text/x-python",
   "name": "python",
   "nbconvert_exporter": "python",
   "pygments_lexer": "ipython3",
   "version": "3.10.12"
  }
 },
 "nbformat": 4,
 "nbformat_minor": 4
}
