{
 "cells": [
  {
   "cell_type": "markdown",
   "id": "927cf40c-fe04-439b-a065-07daa155b522",
   "metadata": {},
   "source": [
    "# Using ICESat-2 ATL15 (Gridded Arctic Land Ice Height) to investigate ice-surface height anomalies\n",
    "\n",
    "### Written by \n",
    "- Wilson Sauthoff (https://wsauthoff.github.io)\n",
    "- Luis Lopez (https://betolink.dev/)\n",
    "- Jessica Scheick (https://eos.unh.edu/person/jessica-scheick)\n",
    "- Tasha Snow (https://tsnow03.github.io)\n",
    "\n",
    "### Key learning outcomes:\n",
    "- How to gather data from disparate sources.\n",
    "- What is a Coordinate Reference System (CRS) and why it matters.\n",
    "- How to use geometries including Points and Polygons to define an area of interest and subset data. \n",
    "- The basics of how the icepyx library simplifies obtaining and interacting with ICESat-2 data. \n",
    "- How Xarray can simplify the import of multi-dimensional data.\n",
    "- Open, plot, and explore gridded raster data."
   ]
  },
  {
   "cell_type": "markdown",
   "id": "7aa3fc55-9a2e-458e-a0a9-3354be7420a5",
   "metadata": {
    "tags": []
   },
   "source": [
    "## Computing environment"
   ]
  },
  {
   "cell_type": "markdown",
   "id": "e452d675-7c0a-4081-8e85-300a53997e2c",
   "metadata": {},
   "source": [
    "We will set up our computing environment with library imports and utility functions\n",
    "\n",
    "Tip: If you need to import a library that is not pre-installed, use `%pip install <package-name>` alone within a Jupyter notebook cell to install it for this instance of CryoCloud (the pip installation will not presist between logins. All of the libraries we intend to use are pre-installed so we can skip this step. "
   ]
  },
  {
   "cell_type": "code",
   "execution_count": null,
   "id": "0e226454-c730-4656-ae88-19297a8a855a",
   "metadata": {
    "scrolled": true,
    "tags": []
   },
   "outputs": [],
   "source": [
    "# Needed for pandas read_excel\n",
    "%pip install openpyxl\n",
    "%pip install ~/icepyx"
   ]
  },
  {
   "cell_type": "code",
   "execution_count": null,
   "id": "1a2db536-38fa-40b2-b01e-6f2f97881789",
   "metadata": {
    "tags": []
   },
   "outputs": [],
   "source": [
    "%matplotlib widget\n",
    "\n",
    "# Import internal libraries\n",
    "import earthaccess\n",
    "import cartopy.crs as ccrs\n",
    "import cartopy.feature as cfeature\n",
    "import geopandas as gpd\n",
    "import h5py\n",
    "import hvplot.xarray\n",
    "import icepyx as ipx\n",
    "from IPython.display import Image, display\n",
    "import matplotlib.colors as colors\n",
    "import matplotlib.pyplot as plt\n",
    "import matplotlib.ticker as ticker\n",
    "from mpl_toolkits.axes_grid1 import make_axes_locatable\n",
    "import numpy as np\n",
    "import pandas as pd\n",
    "import os\n",
    "from pyproj import CRS, Transformer\n",
    "import rioxarray\n",
    "import s3fs\n",
    "import xarray as xr\n",
    "\n",
    "# define utility function\n",
    "def ll2ps(lon, lat):\n",
    "    \"\"\"\n",
    "    Transform coordinates from geodetic coordinates (lon, lat)\n",
    "    to Greenland (epsg:3413) coordinates (x, y)\n",
    "    x, y = ll2ps(lon, lat)\n",
    "    Inputs\n",
    "    * lon, lat in decimal degrees (lon: W is negative; lat: S is negative)\n",
    "    Outputs\n",
    "    * x, y in [m]\n",
    "    \"\"\"\n",
    "    crs_ll = CRS(\"EPSG:4326\")\n",
    "    crs_xy = CRS(\"EPSG:3413\")\n",
    "    ll_to_xy = Transformer.from_crs(crs_ll, crs_xy, always_xy = True)\n",
    "    x, y = ll_to_xy.transform(lon, lat)\n",
    "    return x, y"
   ]
  },
  {
   "cell_type": "markdown",
   "id": "19ded922-7e2e-42a4-9435-5399d92fb289",
   "metadata": {},
   "source": [
    "## Greenland subglacial lakes\n",
    "\n",
    "There are two classes of subglacial lakes: stable and active. Stable lakes have had a stable volume over the observational record whereas active episodically drain and fill. We can observe active subglacial lakes using ice-surface deformation time series. \n",
    "\n",
    "In this tutorial, we will focus on Greenland where active subglacial lakes have been inferred from surface height changes. \n",
    "\n",
    "Northern hemisphere subglacial lakes compiled in a global inventory by Livingstone and others (2020):\n",
    "\n",
    "![N. hemisphere subglacial lakes](images/Livingstone_2020_Fig3a.png)\n",
    "\n",
    "We can investigate active subglacial lakes using ice surface height anomalies as the overlying ice deforms when active lakes drain and fill episodically. [These videos](https://svs.gsfc.nasa.gov/4913) from NASA's Science Visualization Studio illustrate how we observe active lakes filling and draining through time. "
   ]
  },
  {
   "cell_type": "markdown",
   "id": "0488386a-e802-49bc-b93e-bd5d031eec55",
   "metadata": {},
   "source": [
    "### Locating the Greenland subglacial lakes\n",
    "Consulting the supplementary data of the [Livingstone and others (2020) inventory](https://www.nature.com/articles/s43017-021-00246-9#Sec16), we can construct a [geopandas geodataframe](https://geopandas.org/en/stable/gallery/create_geopandas_from_pandas.html) to investigate Greenland's subglacial lakes."
   ]
  },
  {
   "cell_type": "markdown",
   "id": "37fd201d-2c1a-492f-ab82-4582787f8236",
   "metadata": {},
   "source": [
    "## Opening non-cloud-hosted data uploaded to your CryoCloud Jupyter hub"
   ]
  },
  {
   "cell_type": "markdown",
   "id": "c36750e1-eb53-426b-bc86-d09d9cf0c3cb",
   "metadata": {},
   "source": [
    "If we are working with a dataset that is not cloud hosted or unavailable via a URL, we can upload that dataset to CryoCloud. \n",
    "\n",
    "First, decide where the uploaded data will live on your CryoCloud hub. It could be a data directory folder that you create in your CryoCloud's base directory or put the data into your working directory (whichever file management technique you prefer). \n",
    "\n",
    "Second, download the paper's supplementary data by [clicking here](https://static-content.springer.com/esm/art%3A10.1038%2Fs43017-021-00246-9/MediaObjects/43017_2021_246_MOESM1_ESM.xlsx). \n",
    "\n",
    "Third, upload the supplementary data spreadsheet into your new data directory folder or your working directory. The supplementary data spreadsheet (.xlsx) is already uploaded to our working directory. "
   ]
  },
  {
   "cell_type": "code",
   "execution_count": null,
   "id": "7a5d4ad8-cef2-4d6e-bc88-2ee1d3673c8e",
   "metadata": {
    "tags": []
   },
   "outputs": [],
   "source": [
    "# Read in spreadsheet using pandas read_excel\n",
    "use_cols = ['Name / Location', 'Lat. oN', 'Lon. oE', 'Lake Type', 'References']\n",
    "import_rows = np.arange(0,65)\n",
    "# You may add a path/to/file if you'd like to try reading spreadsheet from where you saved it in a data directory \n",
    "df = pd.read_excel('43017_2021_246_MOESM1_ESM.xlsx', 'Greenland', usecols=use_cols, skiprows = lambda x: x not in import_rows)\n",
    "\n",
    "# View pandas dataset head (first 5 rows)\n",
    "df.head()"
   ]
  },
  {
   "cell_type": "markdown",
   "id": "0b979f8c-8bb5-446c-8511-283025ff945d",
   "metadata": {
    "user_expressions": []
   },
   "source": [
    "However, since this data has a direct download URL, so we can read the data directly into CryoCloud skipping the download and upload steps, like so: "
   ]
  },
  {
   "cell_type": "markdown",
   "id": "fff870cc-3b5e-42df-8ce0-a3c256ad4ffd",
   "metadata": {
    "user_expressions": []
   },
   "source": [
    "## Open data directly via URL"
   ]
  },
  {
   "cell_type": "code",
   "execution_count": null,
   "id": "047bbc78-a049-4055-8002-425d6881b70a",
   "metadata": {
    "tags": []
   },
   "outputs": [],
   "source": [
    "# Read in spreadsheet using pandas read_excel\n",
    "use_cols = ['Name / Location', 'Lat. oN', 'Lon. oE', 'Lake Type', 'References']\n",
    "import_rows = np.arange(0,65)\n",
    "# You may add a path/to/file if you'd like to try reading spreadsheet from where you saved it in a data directory \n",
    "df = pd.read_excel('43017_2021_246_MOESM1_ESM.xlsx', 'Greenland', usecols=use_cols, skiprows = lambda x: x not in import_rows)\n",
    "\n",
    "# View pandas dataset head (first 5 rows)\n",
    "df.head()"
   ]
  },
  {
   "cell_type": "markdown",
   "id": "0b979f8c-8bb5-446c-8511-283025ff945d",
   "metadata": {},
   "source": [
    "However, since this data has a direct download URL, so we can read the data directly into CryoCloud skipping the download and upload steps, like so: "
   ]
  },
  {
   "cell_type": "markdown",
   "id": "fff870cc-3b5e-42df-8ce0-a3c256ad4ffd",
   "metadata": {},
   "source": [
    "## Open data directly via URL"
   ]
  },
  {
   "cell_type": "code",
   "execution_count": 4,
   "id": "047bbc78-a049-4055-8002-425d6881b70a",
   "metadata": {
    "tags": []
   },
   "outputs": [
    {
     "data": {
      "text/html": [
       "<div>\n",
       "<style scoped>\n",
       "    .dataframe tbody tr th:only-of-type {\n",
       "        vertical-align: middle;\n",
       "    }\n",
       "\n",
       "    .dataframe tbody tr th {\n",
       "        vertical-align: top;\n",
       "    }\n",
       "\n",
       "    .dataframe thead th {\n",
       "        text-align: right;\n",
       "    }\n",
       "</style>\n",
       "<table border=\"1\" class=\"dataframe\">\n",
       "  <thead>\n",
       "    <tr style=\"text-align: right;\">\n",
       "      <th></th>\n",
       "      <th>Name / Location</th>\n",
       "      <th>Lat. oN</th>\n",
       "      <th>Lon. oE</th>\n",
       "      <th>Lake Type</th>\n",
       "      <th>References</th>\n",
       "    </tr>\n",
       "  </thead>\n",
       "  <tbody>\n",
       "    <tr>\n",
       "      <th>0</th>\n",
       "      <td>NaN</td>\n",
       "      <td>78.000000</td>\n",
       "      <td>-48.000000</td>\n",
       "      <td>NaN</td>\n",
       "      <td>Ekholm et al. (1998)</td>\n",
       "    </tr>\n",
       "    <tr>\n",
       "      <th>1</th>\n",
       "      <td>L2</td>\n",
       "      <td>78.005022</td>\n",
       "      <td>-68.393971</td>\n",
       "      <td>Stable</td>\n",
       "      <td>Palmer et al. (2013)</td>\n",
       "    </tr>\n",
       "    <tr>\n",
       "      <th>2</th>\n",
       "      <td>L1</td>\n",
       "      <td>77.969500</td>\n",
       "      <td>-68.440875</td>\n",
       "      <td>Stable</td>\n",
       "      <td>Palmer et al. (2013)</td>\n",
       "    </tr>\n",
       "    <tr>\n",
       "      <th>3</th>\n",
       "      <td>Flade Isblink ice cap</td>\n",
       "      <td>81.160000</td>\n",
       "      <td>-16.580000</td>\n",
       "      <td>Active</td>\n",
       "      <td>Willis et al. (2015)</td>\n",
       "    </tr>\n",
       "    <tr>\n",
       "      <th>4</th>\n",
       "      <td>Inuppaat Quuat</td>\n",
       "      <td>67.611136</td>\n",
       "      <td>-48.709000</td>\n",
       "      <td>Active</td>\n",
       "      <td>Howat et al. (2015); Palmer et al. (2015)</td>\n",
       "    </tr>\n",
       "  </tbody>\n",
       "</table>\n",
       "</div>"
      ],
      "text/plain": [
       "         Name / Location    Lat. oN    Lon. oE Lake Type  \\\n",
       "0                    NaN  78.000000 -48.000000       NaN   \n",
       "1                     L2  78.005022 -68.393971    Stable   \n",
       "2                     L1  77.969500 -68.440875    Stable   \n",
       "3  Flade Isblink ice cap  81.160000 -16.580000    Active   \n",
       "4         Inuppaat Quuat  67.611136 -48.709000    Active   \n",
       "\n",
       "                                  References  \n",
       "0                       Ekholm et al. (1998)  \n",
       "1                       Palmer et al. (2013)  \n",
       "2                       Palmer et al. (2013)  \n",
       "3                       Willis et al. (2015)  \n",
       "4  Howat et al. (2015); Palmer et al. (2015)  "
      ]
     },
     "execution_count": 4,
     "metadata": {},
     "output_type": "execute_result"
    }
   ],
   "source": [
    "# Read in spreadsheet using pandas read_excel\n",
    "url = 'https://static-content.springer.com/esm/art%3A10.1038%2Fs43017-021-00246-9/MediaObjects/43017_2021_246_MOESM1_ESM.xlsx'\n",
    "use_cols = ['Name / Location', 'Lat. oN', 'Lon. oE', 'Lake Type', 'References']\n",
    "import_rows = np.arange(0,65)\n",
    "df = pd.read_excel(url, sheet_name='Greenland', usecols=use_cols, skiprows = lambda x: x not in import_rows)\n",
    "\n",
    "# View pandas dataset head (first 5 rows)\n",
    "df.head()"
   ]
  },
  {
   "cell_type": "markdown",
   "id": "539d0285-380e-4e16-9979-73f73170e1cd",
   "metadata": {},
   "source": [
    "This is looking good, but we can make it even better by storing the data in a GeoPandas GeoDataFrame which offers additional functionality beyond pandas. You can add a geometry column of Shapely objects that make geospatial data processing and visualization easier. Here we have Shapely points:"
   ]
  },
  {
   "cell_type": "code",
   "execution_count": null,
   "id": "0a7195c0-606b-4467-8b2d-1deb94030b04",
   "metadata": {
    "tags": []
   },
   "outputs": [],
   "source": [
    "# Create GeoPandas GeoDataFrame from Pandas DataFrame\n",
    "gdf = gpd.GeoDataFrame(\n",
    "    df, geometry=gpd.points_from_xy(df['Lon. oE'], df['Lat. oN']))\n",
    "\n",
    "# Set the Coordinate Reference System (CRS) of the geodataframe\n",
    "if gdf.crs is None: \n",
    "    # set CRS WGS84 in lon, lat\n",
    "    gdf.set_crs('epsg:4326', inplace=True)\n",
    "    \n",
    "# Display GeoDataFrame\n",
    "gdf"
   ]
  },
  {
   "cell_type": "markdown",
   "id": "aa5c3f03-ffe6-44fa-9128-b83d7d88af33",
   "metadata": {},
   "source": [
    "Let's look at Greenland's active subglacial lake inventory by filtering on the Lake Type column:"
   ]
  },
  {
   "cell_type": "code",
   "execution_count": null,
   "id": "9d1751a6-f1fa-4e66-9bc4-c0fed6dcf6ba",
   "metadata": {
    "tags": []
   },
   "outputs": [],
   "source": [
    "# Let's look at Greenland's active subglacial lake inventory\n",
    "gdf[gdf['Lake Type'] == 'Active']"
   ]
  },
  {
   "cell_type": "markdown",
   "id": "2f8b6465-dfff-4c1a-bf4c-44adee10cda1",
   "metadata": {},
   "source": [
    "Now let's plot the lake locations to ensure our data read-in went as expected. But first, we need to make sure all projections for the data we want to show are the same. "
   ]
  },
  {
   "cell_type": "markdown",
   "id": "14dc8db1-be7f-4933-8b1f-64cbc6af90bc",
   "metadata": {
    "tags": []
   },
   "source": [
    "## What is a CRS/EPSG?\n",
    "\n",
    "- A Coordinate Reference System (CRS) tells you how the Earth's 3-D surface is projected onto a 2-D plane map. Below are examples of various projections of continguous USA from an excellent [Data Carpentry tutorial on the CRS topic](https://datacarpentry.org/organization-geospatial/03-crs/): \n",
    "\n",
    "![Coordinate Reference System comparison](images/DataCarpentryCRS.jpg)\n",
    "\n",
    "- A particular CRS can be referenced by its EPSG code (e.g., epsg:4326 as we used in the GeoPandas GeoDataFrame example above). The EPSG is a structured dataset of CRS and Coordinate Transformations. It was originally compiled by the now defunct European Petroleum Survey Group (EPSG) but continues to be one common way of representing a specific CRS.\n",
    "- Most map projections make land areas look proportionally larger or smaller than they actually are. Below is intuitive visualization of this from another excellent site of tutorials on geospatial topics called [Earth Lab](https://www.earthdatascience.org/courses/earth-analytics/spatial-data-r/intro-to-coordinate-reference-systems/): \n",
    "\n",
    "![How projections distort a human head](images/EarthLabProjectionDistortion.jpg)\n",
    "\n",
    "- Because of this distortion, we select a projection that is best suited for the geographic region we are studying to minimize distortions.\n",
    "- Previously we used epsg:4326, which is a geographic coordinate system that makes use of the World Geodetic System 1984 (WGS84) ellipsoid as a datum reference elevation. A datum consists in an ellipsoid relative to which the latitude and longitude of points are defined, with a geoid defining the surface at zero height (visual from [ESA's navipedia](https://gssc.esa.int/navipedia/index.php/Regional_Datums_and_Map_Projections)):\n",
    "\n",
    "![What is a datum](images/ESANavipediaDatum.png)\n",
    "\n",
    "- A geographic coordinate system is more than just the ellipsoid. It adds a coordinate system and units of measurement. epsg:4326 uses the very familiar longitude and latitude and degrees as the coordinate system and units. We selected epsg:4326 because longitude and latitude were the coordinates in the dataset.\n",
    "- There are numerous formats that are used to document a CRS. Three common formats include: proj.4, EPSG, and Well-known Text (WKT) formats.\n",
    "- Useful websites to look up CRS strings are [spatialreference.org](Spatialreference.org) and [espg.io](https://epsg.io/). You can use the search on these sites to find an EPSG code.\n",
    "- Often you have data in one format or projection (CRS) and you need to transform it to a more regionally accurate CRS or match it to another datasets' CRS to plot them together. Let’s transform our geopandas data to the NSIDC Sea Ice North Polar Stereographic projection (epsg:3413) easily visualize our lakes on a projection that minimizes distortion of our area of interest (Greenland). "
   ]
  },
  {
   "cell_type": "code",
   "execution_count": null,
   "id": "d33b2914-2a57-40aa-ba26-113e15adf373",
   "metadata": {
    "tags": []
   },
   "outputs": [],
   "source": [
    "# Create a figure with two subplots: one with Plate Carree projection (EPSG:4326), one with Stereographic projection (EPSG:3413)\n",
    "fig, axs = plt.subplots(1, 2, figsize=(6, 3), subplot_kw={'projection': ccrs.PlateCarree()})\n",
    "\n",
    "# Define Greenland's extent (rough bounding box around Greenland)\n",
    "greenland_extent = [-75, -10, 55, 85]  # [west, east, south, north]\n",
    "\n",
    "# Plot Greenland in EPSG:4326\n",
    "axs[0].set_extent(greenland_extent)\n",
    "axs[0].add_feature(cfeature.LAND)\n",
    "axs[0].add_feature(cfeature.COASTLINE)\n",
    "axs[0].add_feature(cfeature.BORDERS)\n",
    "axs[0].set_title(\"EPSG:4326 (WGS84) Projection\")\n",
    "\n",
    "# Now plot Greenland in EPSG:3413 (Polar Stereographic)\n",
    "axs[1] = plt.subplot(122, projection=ccrs.Stereographic(central_latitude=90, central_longitude=-45))\n",
    "axs[1].set_extent(greenland_extent, crs=ccrs.PlateCarree())\n",
    "axs[1].add_feature(cfeature.LAND)\n",
    "axs[1].add_feature(cfeature.COASTLINE)\n",
    "axs[1].add_feature(cfeature.BORDERS)\n",
    "axs[1].set_title(\"EPSG:3413 (Polar Stereographic Projection)\")\n",
    "\n",
    "plt.suptitle('Greenland Boundaries in Two Projections')\n",
    "plt.show()"
   ]
  },
  {
   "cell_type": "markdown",
   "id": "38bccee8-6a13-40dd-b59e-ad96602b54d7",
   "metadata": {},
   "source": [
    "## Using the Shapely Polygon geometry to create a search radius and subset data\n",
    "- The Shapely points used before are useful to tell us the centroid of the lakes.\n",
    "- However, we'd like to be able to create a search radius around that point to search for and subset data. \n",
    "- Some datasets are massive, so using Shapely polygons as a search radius around your region of interest will speed up your computation."
   ]
  },
  {
   "cell_type": "code",
   "execution_count": null,
   "id": "24e94b90-a04d-4d8a-9a8b-fb499f9bbc53",
   "metadata": {
    "tags": []
   },
   "outputs": [],
   "source": [
    "# Create GeoSeries of our GeoDataFrame that converts to Arcic polar stereographic projection \n",
    "# and makes 10-km radius buffered polygon around each lake point\n",
    "gs = gdf.to_crs('3413').buffer(10000)\n",
    "\n",
    "# Create a copy of the original GeoPandas GeoDataFrame so that we don't alter the original\n",
    "gdf_polys = gdf.copy(deep=True)\n",
    "\n",
    "# Create new GeoDataFrame to store the polygons\n",
    "gdf_polys = gpd.GeoDataFrame(gdf, \n",
    "                             # We use the GeoDataFrame (gdf) copy, gdf_polys, and replaced its geometry with the GeoSeries of polygons\n",
    "                             geometry=gs, \n",
    "                             # We must specify the crs, so we use the one used to create the GeoSeries of polygons\n",
    "                             crs='epsg:3413'\n",
    "                             # But then we switch the crs back to good ol' 4623 lon, lat\n",
    "                             ).to_crs('4623')\n",
    "\n",
    "# Look at active lakes to ensure it worked as expected\n",
    "gdf_polys[gdf_polys['Lake Type'] == 'Active']"
   ]
  },
  {
   "cell_type": "markdown",
   "id": "e1ac86c8-710f-4c6b-926d-7cac63c69572",
   "metadata": {},
   "source": [
    "Now that we know our active lake locations, let’s grab data to study the filling and draining of the lakes. We will use ICESat-2 surface elevations to investigate."
   ]
  },
  {
   "cell_type": "markdown",
   "id": "96604dff-c7d7-4117-b859-326545f486bc",
   "metadata": {},
   "source": [
    "## What is ICESat-2?\n",
    "\n",
    "ICESat-2 (Ice, Cloud, and land Elevation Satellite 2), part of NASA's Earth Observing System, is a satellite mission for measuring ice sheet elevation and sea ice thickness, as well as land topography, vegetation characteristics, and clouds. It does so using an altimeter or an altitude meter, which is an instrument used to measure the altitude of an object above a fixed level (the datum we talked about earlier). This is typically achieved by measuring the time it takes for a lidar or radar pulse, released by a satellite-based altimeter, to travel to a surface, reflect, and return to be recorded by an onboard instrument. ICESat-2 uses three pairs of laser pulsers and the detector to count the reflected photons. \n",
    "\n",
    "ICESat-2 laser configuration (from [Smith and others, 2019](https://doi.org/10.1016/j.rse.2019.111352)): \n",
    "\n",
    "![ICESat-2 laser configuration](images/Smith_2019_fig1.jpg)"
   ]
  },
  {
   "cell_type": "markdown",
   "id": "5f3c610d-4406-49a5-85be-b26c98a32af0",
   "metadata": {},
   "source": [
    "## What is ATL14/15?\n",
    "ATL15 is one of the various [ICESat-2 data products](https://icesat-2.gsfc.nasa.gov/science/data-products). ATL15 provides various resolutions (1 km, 10 km, 20 km, and 40 km) of gridded raster data of height change at 3-month intervals, allowing for visualization of height-change patterns and calculation of integrated active subglacial lake volume change (Smith and others, 2022).\n",
    "\n",
    "ATL14 is an accompanying high-resolution (100 m) digital elevation model (DEM) that provides spatially continuous gridded data of ice sheet surface height.\n",
    "\n",
    "Learn more about the ICESat-2 ATL14/15 Gridded Antarctic and Arctic Land Ice Height Change data product dataset [here](https://doi.org/10.5067/ATLAS/ATL15.002)."
   ]
  },
  {
   "cell_type": "markdown",
   "id": "ca2863c3-3967-47a4-8be6-2eee3d6af0ed",
   "metadata": {},
   "source": [
    "## Streaming cloud-hosted data from NASA Earth Data Cloud\n",
    "We will be working with cloud-hosted data files. This [guide](https://nsidc.org/data/user-resources/help-center/nasa-earthdata-cloud-data-access-guide) explains how to find and access Earthdata cloud-hosted data. [Here](https://nsidc.org/data/earthdata-cloud) is a complete list of earthdata cloud-hosted data products currently available from NSIDC."
   ]
  },
  {
   "cell_type": "markdown",
   "id": "9da0209d-f39a-4566-8966-6798631be98d",
   "metadata": {},
   "source": [
    "### Using icepyx to simplify searching for ICESat-2 data\n",
    "[icepyx](https://icepyx.readthedocs.io/en/latest/) is a community and Python software library that simplifies the process of searching (querying), accessing (via download or in the cloud), and working with (including subsetting, visualizing, and reading in) ICESat-2 data products. A series of [examples](https://github.com/icesat2py/icepyx/tree/main/doc/source/example_notebooks) introduce users to its functionality, and the icepyx community always welcomes new members, feature requests, bug reports, etc.\n",
    "\n",
    "To search for data spatially, icepyx accepts shapefiles, kml files, and geopackage files, as well as bounding boxes and polygons, as input bounding regions. We have two options for supplying this information: (1) save one of the lakes' geometries as a geopackage or (2) extract the exterior coordinates and supply them directly. You may run either of the next two cells; then we'll use the spatial information to query ICESat-2 data for that region."
   ]
  },
  {
   "cell_type": "code",
   "execution_count": null,
   "id": "a6ea8f8c-ce47-4090-919f-d30863309495",
   "metadata": {
    "tags": []
   },
   "outputs": [],
   "source": [
    "# (1) save one of the lakes' geometries as a geopackage\n",
    "# Export to geopackage to subset ICESat-2 data\n",
    "gdf_polys[gdf_polys['Name / Location'] == 'Flade Isblink ice cap'].to_file(os.getcwd() + '/Flade_Isblink_poly.gpkg')\n",
    "spatial_extent = 'Flade_Isblink_poly.gpkg'"
   ]
  },
  {
   "cell_type": "code",
   "execution_count": null,
   "id": "3f3f1628-0fc1-407c-a8e5-a85cb8735345",
   "metadata": {
    "tags": []
   },
   "outputs": [],
   "source": [
    "# (2) use the shapely package to supply the polygon coordinates directly as a list\n",
    "from shapely.geometry import mapping\n",
    "spatial_extent = list(mapping(gdf_polys[gdf_polys['Name / Location'] == 'Flade Isblink ice cap'].geometry.iloc[0])[\"coordinates\"][0])"
   ]
  },
  {
   "cell_type": "code",
   "execution_count": null,
   "id": "3e15602f-3fc1-40de-9519-a75ae5b3b4b1",
   "metadata": {
    "tags": []
   },
   "outputs": [],
   "source": [
    "# Specifying the necessary icepyx parameters\n",
    "short_name = 'ATL15'  # The data product we would like to query\n",
    "date_range = ['2018-09-15','2023-03-02']"
   ]
  },
  {
   "cell_type": "code",
   "execution_count": null,
   "id": "1a352b60-b203-47d6-9785-2cfdbcfdeb6b",
   "metadata": {
    "tags": []
   },
   "outputs": [],
   "source": [
    "# Setup the Query object\n",
    "region = ipx.Query(short_name, spatial_extent, date_range)"
   ]
  },
  {
   "cell_type": "markdown",
   "id": "cb7f484f-f476-4547-ac9b-6637fe880758",
   "metadata": {
    "tags": []
   },
   "source": [
    "We can visualize our spatial extent on an interactive map with background imagery."
   ]
  },
  {
   "cell_type": "code",
   "execution_count": null,
   "id": "e852347c-fafd-4db0-b81e-e70e3e98ed98",
   "metadata": {
    "tags": []
   },
   "outputs": [],
   "source": [
    "# Visualize area of interest\n",
    "region.visualize_spatial_extent()"
   ]
  },
  {
   "cell_type": "code",
   "execution_count": null,
   "id": "b68bdc52-4de8-44fa-8f8e-fcdd89da01bf",
   "metadata": {
    "tags": []
   },
   "outputs": [],
   "source": [
    "# Let's find out some information about the available data granuales (files)\n",
    "region.avail_granules()"
   ]
  },
  {
   "cell_type": "code",
   "execution_count": null,
   "id": "87dc30f0-dc2e-4dc4-a13b-305944246691",
   "metadata": {
    "tags": []
   },
   "outputs": [],
   "source": [
    "# Let's see the granule IDs and cloud access urls\n",
    "gran_ids = region.avail_granules(ids=True, cloud=True)\n",
    "gran_ids"
   ]
  },
  {
   "cell_type": "code",
   "execution_count": null,
   "id": "bc3e741b-9f35-4598-accf-827e4eb6b447",
   "metadata": {
    "tags": []
   },
   "outputs": [],
   "source": [
    "# Let's grab the s3 URL of the highest resolution available product\n",
    "s3url = gran_ids[1][3]\n",
    "s3url"
   ]
  },
  {
   "cell_type": "markdown",
   "id": "3bd249ae-dbe8-49c9-90e4-b291613659bf",
   "metadata": {},
   "source": [
    "You can manually find s3 URL's for cloud-hosted data from [NASA Earth Data](https://www.earthdata.nasa.gov/)\n",
    "\n",
    "Learn more about finding cloud-hosted data from NASA Earth data cloud [here](https://nsidc.org/data/user-resources/help-center/nasa-earthdata-cloud-data-access-guide)"
   ]
  },
  {
   "cell_type": "markdown",
   "id": "3ba938e7-0ac0-4c6f-99f1-854a57ac2779",
   "metadata": {},
   "source": [
    "The next step (accessing data in the cloud) requires a NASA Earthdata user account.\n",
    "You can register for a free account [here](https://www.earthdata.nasa.gov/eosdis/science-system-description/eosdis-components/earthdata-login).\n",
    "We provide two options for reading in your data: (1) by setting up an s3 file system and using Xarray directly; or (2) by using icepyx (which uses Xarray under the hood).\n",
    "Currently, the read time is similar with both methods.\n",
    "The h5coro library will soon be available to help speed up this process.\n",
    "\n",
    "The file system method requires you complete a login step.\n",
    "icepyx will automatically ask for your credentials when you perform a task that needs them.\n",
    "If you do not have them stored as environment variables or in a .netrc file, you will be prompted to enter them."
   ]
  },
  {
   "cell_type": "code",
   "execution_count": null,
   "id": "b2af9f40-c9a8-48ed-9f81-c93d52d960e6",
   "metadata": {
    "tags": []
   },
   "outputs": [],
   "source": [
    "# (1) authenticate\n",
    "auth = earthaccess.login()"
   ]
  },
  {
   "cell_type": "code",
   "execution_count": null,
   "id": "e16e81f6-9092-4523-8565-34a75d8631f1",
   "metadata": {
    "tags": []
   },
   "outputs": [],
   "source": [
    "# (1) set up our s3 file system using our credentials\n",
    "s3 = earthaccess.get_s3fs_session(daac='NSIDC')"
   ]
  },
  {
   "cell_type": "code",
   "execution_count": null,
   "id": "7377ae88-8552-4ee8-8595-d15b786b003c",
   "metadata": {
    "tags": []
   },
   "outputs": [],
   "source": [
    "# (1) Open s3url data file and store in Xarray Dataset\n",
    "# This cell takes 10s of secs to load\n",
    "with s3.open(s3url,'rb') as f:\n",
    "    # ATL15_dh = rioxarray.open_rasterio(f, group='delta_h').load()  # FIXME: preferred, but giving error\n",
    "    ATL15_dh = xr.open_dataset(f, group='delta_h').load()\n",
    "\n",
    "# View Xarray Dataset\n",
    "ATL15_dh"
   ]
  },
  {
   "cell_type": "code",
   "execution_count": null,
   "id": "f4e72f9a-c6bc-448c-891a-3b4870c0ecea",
   "metadata": {
    "tags": []
   },
   "outputs": [],
   "source": [
    "# (2) create a Read object; you'll be asked to authenticate at this step if you haven't already\n",
    "reader = ipx.Read(s3url)"
   ]
  },
  {
   "cell_type": "code",
   "execution_count": null,
   "id": "cc752711-13aa-4d0a-b15d-b21a79894b21",
   "metadata": {
    "scrolled": true,
    "tags": []
   },
   "outputs": [],
   "source": [
    "# (2) see what variables are available\n",
    "reader.vars.avail()"
   ]
  },
  {
   "cell_type": "code",
   "execution_count": null,
   "id": "52e93f16-b98e-4690-b273-aeeadb5bfdb4",
   "metadata": {
    "tags": []
   },
   "outputs": [],
   "source": [
    "# (2) Indicate which variables you'd like to read in.\n",
    "# More information on managing ICESat-2 variables is available in the icepyx documentation and examples.\n",
    "reader.vars.append(keyword_list=[\"delta_h\"])\n",
    "# view the variables that will be loaded into memory in your DataSet\n",
    "reader.vars.wanted"
   ]
  },
  {
   "cell_type": "code",
   "execution_count": null,
   "id": "5475a92f-4b55-4307-acca-1c16f76144c5",
   "metadata": {
    "tags": []
   },
   "outputs": [],
   "source": [
    "# (2) load your data into memory\n",
    "# if you are asked if you want to proceed, enter 'y' and press return/enter\n",
    "# Depending on your hub settings, the warning letting you know this operation will take a moment may or may not show up\n",
    "ATL15_dh = reader.load()"
   ]
  },
  {
   "cell_type": "code",
   "execution_count": null,
   "id": "e589974d-78ec-4747-a4de-223d17252dfe",
   "metadata": {
    "tags": []
   },
   "outputs": [],
   "source": [
    "ATL15_dh"
   ]
  },
  {
   "cell_type": "markdown",
   "id": "3b0e5f8a-a7fb-4f76-b70d-cd9c55c94f08",
   "metadata": {},
   "source": [
    "We can acquaint ourselves with this dataset in a few ways: \n",
    "- The data product's [overview page](https://doi.org/10.5067/ATLAS/ATL15.002) (Smith and others, 2022) to get the very basics such as geographic coverage, CRS, and what the data product tells us (quarterly height changes).\n",
    "- The Xarray Dataset read-in metadata: clicking on the written document icon of each data variable will expand metadata including a data variable's dimensions, datatype, etc. \n",
    "- The data product's [data dictionary](https://nsidc.org/sites/default/files/documents/technical-reference/icesat2_atl15_data_dict_v002.pdf) (Smith and others, 2021) to do a deep dive on what individual variables tell us. \n",
    "- The data product's [Algorithm Theoretical Basis Document](https://icesat-2.gsfc.nasa.gov/sites/default/files/page_files/ICESat2_ATL14_ATL15_ATBD_r001.pdf)\n",
    "\n",
    "We'll be plotting the delta_h data variable in this tutorial, here's what we can learn about from these sources:\n",
    "- [ATL14/15's overview page](https://doi.org/10.5067/ATLAS/ATL15.002): this is likely the 'quarterly height changes' described, but let's dive deeper to be sure\n",
    "- ATL14/15's Xarray Dataset imbedded metadata tells us a couple things: delta_h =height change  at 1 km (the resolution selected earlier) and height change relative to the datum (Jan 1, 2020) surface\n",
    "- [ATL14/15's data dictionary](https://nsidc.org/sites/default/files/documents/technical-reference/icesat2_atl15_data_dict_v002.pdf): delta_h = quarterly height change at 40 km\n",
    "\n",
    "Ok, since the data is relative to a datum, we have two options: \n",
    "1) Difference individual time slices to subtract out the datum, like so: \n",
    "\n",
    "    (time$_0$ - datum) - (time$_1$ - datum) = time$_0$ - datum - time$_1$ + datum = time$_0$ - time$_1$\n",
    "\n",
    "2) Subtract out the datum directly. The datum is the complementary dataset high-resolution DEM surface contained in tha accompanying dataset ATL14.\n",
    "\n",
    "In this tutorial we'll use the first method. We'll use some explanatory data analysis to illustrate this.  "
   ]
  },
  {
   "cell_type": "code",
   "execution_count": null,
   "id": "ced9c230-1b92-4468-8231-5f90a9f119ff",
   "metadata": {
    "tags": []
   },
   "outputs": [],
   "source": [
    "# Let's make a simple plot of the first minus the zeroth time slices\n",
    "fig, ax = plt.subplots(figsize=(5,3))\n",
    "dhdt = ATL15_dh['delta_h'][1,:,:] - ATL15_dh['delta_h'][0,:,:]\n",
    "cb = ax.imshow(dhdt, origin='lower', norm=colors.CenteredNorm(), cmap='coolwarm_r', \n",
    "    extent = [greenland_extent[0],  # minx (west)\n",
    "              greenland_extent[1],  # maxx (east)\n",
    "              greenland_extent[2],  # miny (south)\n",
    "              greenland_extent[3]]  # maxy (north)\n",
    "              )\n",
    "ax.set_xlabel('longitude'); ax.set_ylabel('latitude')\n",
    "plt.colorbar(cb, fraction=0.02, label='height change [m]')\n",
    "plt.show()"
   ]
  },
  {
   "cell_type": "markdown",
   "id": "00c743f6-7df7-4bd4-a407-547179f985d3",
   "metadata": {},
   "source": [
    "Hmmm...doesn't look like much change over this quarter. Why? Check out the bounds of the colorbar, we've got some pretty extreme values (colorbar is defaulting to ±10 m!) that appear to be along the margin. It's making more sense now. We can change the bounds of the colorbar to plot see more of the smaller scale change in the continental interior."
   ]
  },
  {
   "cell_type": "code",
   "execution_count": null,
   "id": "1e2b2eae-00fc-4a4b-8343-28b38688433a",
   "metadata": {
    "tags": []
   },
   "outputs": [],
   "source": [
    "# Let's calculate some basic stats to determine appropriate coloarbar bounds\n",
    "print(dhdt.min().values)\n",
    "print(dhdt.max().values)"
   ]
  },
  {
   "cell_type": "markdown",
   "id": "f5eb944c-b268-44cb-a4f3-690e8a7ae8ef",
   "metadata": {},
   "source": [
    "We can use a TwoSlopeNorm to achieve different mapping for positive and negative values while still keeping the center at zero:"
   ]
  },
  {
   "cell_type": "code",
   "execution_count": null,
   "id": "faf7223f-02fa-4570-9704-9c631b3b996b",
   "metadata": {
    "tags": []
   },
   "outputs": [],
   "source": [
    "# We can make that same plot with more representative colorbar bounds\n",
    "fig, ax = plt.subplots(figsize=(6,3))\n",
    "dhdt = ATL15_dh['delta_h'][1,:,:] - ATL15_dh['delta_h'][0,:,:]\n",
    "divnorm = colors.TwoSlopeNorm(vmin=dhdt.min(), vcenter=0, vmax=dhdt.max())\n",
    "cb = ax.imshow(dhdt, origin='lower', norm=divnorm, cmap='coolwarm_r', \n",
    "   extent = [greenland_extent[0],  # minx (west)\n",
    "             greenland_extent[1],  # maxx (east)\n",
    "             greenland_extent[2],  # miny (south)\n",
    "             greenland_extent[3]]  # maxy (north)\n",
    "             )\n",
    "ax.set_xlabel('longitude'); ax.set_ylabel('latitude')\n",
    "plt.colorbar(cb, fraction=0.02, label='height change [m]')\n",
    "plt.show()"
   ]
  },
  {
   "cell_type": "markdown",
   "id": "6d3b76be-6df8-4cb1-b475-d962a7d7eb06",
   "metadata": {},
   "source": [
    "Now the colorbar bounds are more representative, but we still have the issue that extreme values along the margin are swapping any signals we might see in the continental interior. "
   ]
  },
  {
   "cell_type": "code",
   "execution_count": null,
   "id": "82678fa1-fd9a-469f-9eac-2254624f5e3e",
   "metadata": {
    "tags": []
   },
   "outputs": [],
   "source": [
    "# Let's use the Xarray DataArray quantile method to find the 1% and 99% quantiles (Q1 and Q3) of the data\n",
    "dhdt.quantile([0.01,0.99])"
   ]
  },
  {
   "cell_type": "markdown",
   "id": "f0ff22ef-89ee-4f85-9b14-e46dfe528978",
   "metadata": {},
   "source": [
    "We can use these quantiles as the colorbar bounds so that we see the data variability by plotting the most extreme values at the maxed out value of the colorbar. We'll adjust the caps of the colorbar (using `extend`) to express that there are data values beyond the bounds. "
   ]
  },
  {
   "cell_type": "code",
   "execution_count": null,
   "id": "8320be7d-73dd-45ec-8a7f-7efdb9b629d3",
   "metadata": {
    "tags": []
   },
   "outputs": [],
   "source": [
    "# Let's make the same plot but using the quantiles as the colorbar bounds\n",
    "fig, ax = plt.subplots(figsize=(6,3))\n",
    "dhdt = ATL15_dh['delta_h'][1,:,:] - ATL15_dh['delta_h'][0,:,:]\n",
    "divnorm = colors.TwoSlopeNorm(vmin=dhdt.quantile(0.01), vcenter=0, vmax=dhdt.quantile(0.99))\n",
    "cb = ax.imshow(dhdt, origin='lower', norm=divnorm, cmap='coolwarm_r', \n",
    "    extent = [greenland_extent[0],  # minx (west)\n",
    "              greenland_extent[1],  # maxx (east)\n",
    "              greenland_extent[2],  # miny (south)\n",
    "              greenland_extent[3]]  # maxy (north)\n",
    "              )\n",
    "ax.set_xlabel('longitude'); ax.set_ylabel('latitude')\n",
    "plt.colorbar(cb, fraction=0.02, extend='both', label='height change [m]')\n",
    "plt.tight_layout()\n",
    "plt.show()"
   ]
  },
  {
   "cell_type": "code",
   "execution_count": null,
   "id": "b53dab15-820d-45d9-bf17-72a8702af057",
   "metadata": {
    "tags": []
   },
   "outputs": [],
   "source": [
    "# Let's make the same plot but for all the available time slices and let's turn it in a function so that we can reuse this code for a smaller subset of data\n",
    "# create empty lists to store data\n",
    "def plot_icesat2_atl15(xmin, xmax, ymin, ymax, dataset):\n",
    "    # subset data using bounding box in epsg:3134 x,y\n",
    "    mask_x = (dataset.x >= xmin) & (dataset.x <= xmax)\n",
    "    mask_y = (dataset.y >= ymin) & (dataset.y <= ymax)\n",
    "    ds_sub = dataset.where(mask_x & mask_y, drop=True)\n",
    "    \n",
    "    # Create empty lists to store data\n",
    "    vmins_maxs = []\n",
    "\n",
    "    # Find the min's and max's of each inter time slice comparison and store into lists\n",
    "    for idx in range(len(ds_sub['time'].values)-1): \n",
    "        dhdt = ds_sub['delta_h'][idx+1,:,:] - ds_sub['delta_h'][idx,:,:]\n",
    "        vmin=dhdt.quantile(0.01)\n",
    "        vmins_maxs += [vmin]\n",
    "        vmax=dhdt.quantile(0.99)\n",
    "        vmins_maxs += [vmax]\n",
    "        if (min(vmins_maxs)<0) & (max(vmins_maxs)>0):\n",
    "            vcenter = 0\n",
    "        else: \n",
    "            vcenter = max(vmins_maxs) - min(vmins_maxs)\n",
    "        divnorm = colors.TwoSlopeNorm(vmin=min(vmins_maxs), vcenter=vcenter, vmax=max(vmins_maxs))\n",
    "\n",
    "    # create fig, ax\n",
    "    fig, axs = plt.subplots(7,2, sharex=True, sharey=True, figsize=(10,10))\n",
    "\n",
    "    idx = 0\n",
    "    for ax in axs.ravel():   \n",
    "        ax.set_aspect('equal')\n",
    "        dhdt = ds_sub['delta_h'][idx+1,:,:] - ds_sub['delta_h'][idx,:,:]\n",
    "        cb = ax.imshow(dhdt, origin='lower', norm=divnorm, cmap='coolwarm_r', \n",
    "                       extent=[xmin[0], xmax[0], ymin[0], ymax[0]])\n",
    "        # Change polar stereographic m to km\n",
    "        km_scale = 1e3\n",
    "        ticks_x = ticker.FuncFormatter(lambda x, pos: '{0:g}'.format(x/km_scale))\n",
    "        ax.xaxis.set_major_formatter(ticks_x)\n",
    "        ticks_y = ticker.FuncFormatter(lambda x, pos: '{0:g}'.format(x/km_scale))\n",
    "        ax.yaxis.set_major_formatter(ticks_y)\n",
    "        # Create common axes labels\n",
    "        fig.supxlabel('easting (km)'); fig.supylabel('northing (km)')\n",
    "        # Increment the idx\n",
    "        idx = idx + 1\n",
    "     \n",
    "    fig.colorbar(cb, extend='both', ax=axs.ravel().tolist(), label='height change [m]')\n",
    "    plt.show()"
   ]
  },
  {
   "cell_type": "markdown",
   "id": "277c6fa1-5013-46d8-80a9-1ca545e17611",
   "metadata": {},
   "source": [
    "Let's zoom into an individual active lake to see more detail. First let's remind ourselves of the Greenland active subglacial lakes by filtering on lake type:"
   ]
  },
  {
   "cell_type": "code",
   "execution_count": null,
   "id": "7eb6cefc-7794-45e3-a5d6-3900d7204d85",
   "metadata": {
    "tags": []
   },
   "outputs": [],
   "source": [
    "gdf_polys_active = gdf_polys[gdf_polys['Lake Type'] == 'Active']\n",
    "gdf_polys_active"
   ]
  },
  {
   "cell_type": "code",
   "execution_count": null,
   "id": "eb54bca1-def0-46cd-b2c0-d08a1e79611d",
   "metadata": {
    "tags": []
   },
   "outputs": [],
   "source": [
    "# We can call the bounds of the geometry of the Shapely Polygon we created earlier\n",
    "gdf_sub = gdf_polys_active[gdf_polys_active['Name / Location'] == 'Inuppaat Quuat']"
   ]
  },
  {
   "cell_type": "markdown",
   "id": "64cb4599-4193-4c0e-8a9e-e96a01fcdb01",
   "metadata": {},
   "source": [
    "Now using these geometry bounds we can plot the area immediately around the active subglacial lake. "
   ]
  },
  {
   "cell_type": "code",
   "execution_count": null,
   "id": "5e949e39-f84f-42ff-8e7f-7b45270d9a39",
   "metadata": {
    "tags": []
   },
   "outputs": [],
   "source": [
    "# If the figure doesn't pop up, it is because the holoviews plot was run immediately after and interferred with \n",
    "# matplotlib. Just rerun this cell and it will be fixed\n",
    "%matplotlib widget\n",
    "\n",
    "# Assigning the min, max lon, lat coords of the lower-left and upper-right corners of our bounding box \n",
    "# around the lake's buffer polygon\n",
    "lon_min = gdf_sub.geometry.bounds.minx\n",
    "lon_max = gdf_sub.geometry.bounds.maxx\n",
    "lat_min = gdf_sub.geometry.bounds.miny\n",
    "lat_max = gdf_sub.geometry.bounds.maxy\n",
    "\n",
    "# Now we re-project the lon, lat into x, y coords in the 3413 CRS, which ATL15 uses\n",
    "xmin, ymin = ll2ps(lon_min, lat_min)\n",
    "xmax, ymax = ll2ps(lon_max, lat_max)\n",
    "\n",
    "# Use our plotting fuction to plot up the data based on min, max x, y bounds\n",
    "plot_icesat2_atl15(xmin, xmax, ymin, ymax, ATL15_dh)"
   ]
  },
  {
   "cell_type": "code",
   "execution_count": null,
   "id": "f6a59c54-792e-4a6b-8cbb-590d555405a3",
   "metadata": {
    "tags": []
   },
   "outputs": [],
   "source": [
    "# Let's explore plotting the data interactively using Xarray and Holoviews\n",
    "hvplot.extension('matplotlib')\n",
    "divnorm = colors.TwoSlopeNorm(vmin=-0.25, vcenter=0, vmax=1.25)\n",
    "ATL15_dh['delta_h'].hvplot(groupby='time', cmap='coolwarm_r', norm=divnorm, invert=True, \n",
    "                           width=(ATL15_dh['x'].max()-ATL15_dh['x'].min())/3e3, height=(ATL15_dh['y'].max()-ATL15_dh['y'].min())/3e3, \n",
    "                           widget_type='scrubber', widget_location='bottom')"
   ]
  },
  {
   "cell_type": "code",
   "execution_count": null,
   "id": "64f4a56e-23dd-492d-b433-14412e22590a",
   "metadata": {
    "tags": []
   },
   "outputs": [],
   "source": [
    "# clean up environment by deleting intermediary files\n",
    "os.remove('Flade_Isblink_poly.gpkg')"
   ]
  },
  {
   "cell_type": "markdown",
   "id": "373dba30-f76d-4eea-8a04-8105531fab0a",
   "metadata": {},
   "source": [
    "## Streaming cloud-hosted data via earthaccess\n",
    "We will next use earthaccess to authenicate for NASA EarthData, and search and stream cloud-hosted data directly. "
   ]
  },
  {
   "cell_type": "markdown",
   "id": "869a0c7c-cb2f-4594-90f0-1210e0c8f812",
   "metadata": {},
   "source": [
    "<!-- DELETE -->\n",
    "<!-- ***\n",
    "IMPORTANT: Restart the kernel to ensure these recent changes are implemented in the computing environment.\n",
    "On CryoCloud's top menu: click Kernel>Restart Kernel...\n",
    "*** -->"
   ]
  },
  {
   "cell_type": "code",
   "execution_count": null,
   "id": "339bcb88-0bcc-40bc-8a83-fdef598b0c91",
   "metadata": {
    "tags": []
   },
   "outputs": [],
   "source": [
    "# Import earthaccess Library and view version\n",
    "import earthaccess\n",
    "print(f\"Using earthaccess v{earthaccess.__version__}\")"
   ]
  },
  {
   "cell_type": "markdown",
   "id": "9669aa7c-325b-4ce3-850f-01d272c73b01",
   "metadata": {},
   "source": [
    "### Log into NASA's Earthdata using the earthaccess package"
   ]
  },
  {
   "cell_type": "markdown",
   "id": "16c436c5-9a3c-487c-b196-a67e80e01b3f",
   "metadata": {},
   "source": [
    "There are multiple ways to provide your Earthdata credentials via [earthaccess](https://nsidc.github.io/earthaccess/). The [earthaccess authentication class](https://nsidc.github.io/earthaccess/tutorials/restricted-datasets/#auth) automatically tries three methods for getting user credentials to log in:\n",
    "1) with `EARTHDATA_USERNAME` and `EARTHDATA_PASSWORD` environment variables\n",
    "2) through an interactive, in-notebook login (used below); passwords are not shown plain text\n",
    "3) with stored credentials in a .netrc file (not recommended for security reasons)"
   ]
  },
  {
   "cell_type": "code",
   "execution_count": null,
   "id": "4be86745-179a-4010-b033-3e2e10438fdd",
   "metadata": {
    "tags": []
   },
   "outputs": [],
   "source": [
    "# Try to authenticate\n",
    "auth = earthaccess.login()\n",
    "print(auth.authenticated)"
   ]
  },
  {
   "cell_type": "markdown",
   "id": "51385d73-f828-48ba-9b69-a93473adfea0",
   "metadata": {},
   "source": [
    "### Search for cloud-available datasets from NASA"
   ]
  },
  {
   "cell_type": "code",
   "execution_count": null,
   "id": "c0e74d67-7dc5-4404-a8fe-fbec06801bca",
   "metadata": {
    "tags": []
   },
   "outputs": [],
   "source": [
    "# Using a keyword search\n",
    "\n",
    "from pprint import pprint\n",
    "datasets = earthaccess.search_datasets(keyword=\"SENTINEL\",\n",
    "                                       cloud_hosted=True)\n",
    "\n",
    "for dataset in datasets[0:2]:\n",
    "    pprint(dataset.summary())"
   ]
  },
  {
   "cell_type": "code",
   "execution_count": null,
   "id": "197a6bb3-9ca7-4353-99e8-b3acb0691f53",
   "metadata": {
    "tags": []
   },
   "outputs": [],
   "source": [
    "# Using a known short name\n",
    "datasets = earthaccess.search_datasets(short_name=\"HLSS30\",\n",
    "                                       cloud_hosted=True)\n",
    "for dataset in datasets:\n",
    "    pprint(dataset.summary())\n",
    "    pprint(dataset.abstract())"
   ]
  },
  {
   "cell_type": "markdown",
   "id": "86364ad2-5b96-4619-b283-82e56e9b6790",
   "metadata": {},
   "source": [
    "### Searching for granules (files) from a given collection (dataset)\n",
    "earthaccess has two different ways of querying for data:\n",
    "1) We can build a query object or \n",
    "2) we can use the top level API. \n",
    "\n",
    "The difference is that the query object is a bit more flexible and we don't retrieve the metadata from CMR until we execute the `.get()` or `.get_all()` methods."
   ]
  },
  {
   "cell_type": "markdown",
   "id": "76f6b3bc-7c40-43af-b03d-31616f0fae7d",
   "metadata": {},
   "source": [
    "Let's use [bboxfinder.com](http://bboxfinder.com) to get the extent of our bounding box and enter it into our bounding box input below. You are also welcome to put in a bounding box you already have available. You can uncomment the Iceland bounding box if you don't want to find your own. Order should be: `min_lon, min_lat, max_lon, max_lat`"
   ]
  },
  {
   "cell_type": "code",
   "execution_count": null,
   "id": "c61b74b9-6a08-4938-8ed1-3ef8545eae43",
   "metadata": {
    "tags": []
   },
   "outputs": [],
   "source": [
    "# Using a specific concept-id, which is unique to the specific product and version\n",
    "\n",
    "# bbox for ~Iceland is -22.1649, 63.3052, -11.9366, 65.5970 \n",
    "granules_query = earthaccess.granule_query().cloud_hosted(True) \\\n",
    "        .concept_id(\"C2021957295-LPCLOUD\") \\\n",
    "        .bounding_box(-22.1649, 63.3052, -11.9366, 65.5970) \\\n",
    "        .temporal(\"2020-01-01\",\"2023-01-01\")\n",
    "granules_query.params"
   ]
  },
  {
   "cell_type": "code",
   "execution_count": null,
   "id": "ef5ba481-f579-4a5c-a34b-8f19097ae1b6",
   "metadata": {
    "tags": []
   },
   "outputs": [],
   "source": [
    "granules_query.hits()"
   ]
  },
  {
   "cell_type": "markdown",
   "id": "38559fcd-4e61-4b7c-bcfb-f8e15ac3b6e6",
   "metadata": {},
   "source": [
    "Earthaccess has many methods we can use for our search. For a complete list of the parameters we can use, go to [https://nsidc.github.io/earthaccess/user-reference/granules/granules-query/](https://nsidc.github.io/earthaccess/user-reference/granules/granules-query/)"
   ]
  },
  {
   "cell_type": "code",
   "execution_count": null,
   "id": "c92d48d0-524c-4a08-8845-4c1a8326c4d1",
   "metadata": {
    "tags": []
   },
   "outputs": [],
   "source": [
    "granule = granules_query.get(1)[0]\n",
    "granule.data_links()"
   ]
  },
  {
   "cell_type": "markdown",
   "id": "4065b490-7f8d-46be-b35e-3b5e90c734b4",
   "metadata": {},
   "source": [
    "### Downloading granules"
   ]
  },
  {
   "cell_type": "markdown",
   "id": "873ef4ad-f8b9-4032-b9e2-0272f096b9a9",
   "metadata": {
    "jp-MarkdownHeadingCollapsed": true,
    "tags": []
   },
   "source": [
    "**IMPORTANT**: Some datasets will require users to accept an EULA (end user license agreement), it is advisable trying to download a single granule using our browser first and see if we get redirected to a NASA form.\n",
    "![NASA end user license agreement)](images/EULA.png)"
   ]
  },
  {
   "cell_type": "markdown",
   "id": "945e661c-baf1-4d5a-8821-07ef9446829a",
   "metadata": {},
   "source": [
    "### Streaming data with earthaccess\n",
    "If we have enough RAM (memory), we can load our granules from an S3 bucket into memory. Earthaccess works with fsspec (xarray, h5netcdf) at the moment, so this is task is better suited for Level 3 and Level 4 netcdf datasets.\n",
    "\n",
    "We are going to select a few granules for the same day in February for 5 years."
   ]
  },
  {
   "cell_type": "code",
   "execution_count": null,
   "id": "a7f173ef-fb02-4d83-8c35-2fc1b4efd699",
   "metadata": {
    "tags": []
   },
   "outputs": [],
   "source": [
    "iceland_bbox = (-22.1649, 63.3052, -11.9366, 65.5970)\n",
    "# We are going to save our granules for each year on this list\n",
    "granule_list = []\n",
    "\n",
    "for year in range(2018, 2023):\n",
    "    print(f\"Querying {year}\")\n",
    "    granules = earthaccess.search_data(\n",
    "        short_name = \"HLSS30\",\n",
    "        bounding_box = iceland_bbox,\n",
    "        temporal = (f\"{year}-02-17\", f\"{year}-02-18\")\n",
    "    )\n",
    "    granule_list.extend(granules)"
   ]
  },
  {
   "cell_type": "code",
   "execution_count": null,
   "id": "55302fcc-8396-420f-b3ea-f0587ee5efa1",
   "metadata": {
    "tags": []
   },
   "outputs": [],
   "source": [
    "scene = granule_list[0]\n",
    "scene"
   ]
  },
  {
   "cell_type": "markdown",
   "id": "92001133-79db-416f-8664-3ba9b8d6e5d0",
   "metadata": {},
   "source": [
    "Retrieve the data link. \"Direct\" indicates an S3 bucket in the cloud, which you can stream from. \"External\" indicates an HTTPS link which is not cloud-based. Direct access link will allow you to stream the data, but you can also open from HTTPS into memory if it's the right file format (generally formats that Xarray can open). "
   ]
  },
  {
   "cell_type": "code",
   "execution_count": null,
   "id": "1fcca3fa-1319-4a1c-94de-50fb071e06c0",
   "metadata": {
    "tags": []
   },
   "outputs": [],
   "source": [
    "print(\"Direct access links: \", scene.data_links(access=\"direct\")[0])\n",
    "print(\"External links: \", scene.data_links(access=\"external\")[0])"
   ]
  },
  {
   "cell_type": "code",
   "execution_count": null,
   "id": "41e1cbfc-8bdc-4a10-b7de-14185ab86c1d",
   "metadata": {
    "tags": []
   },
   "outputs": [],
   "source": [
    "%matplotlib widget\n",
    "import rasterio as rio\n",
    "from rasterio.plot import show\n",
    "import xarray as xr\n",
    "\n",
    "# Read and plot with grid coordinates \n",
    "with rio.open(earthaccess.open(granule_list[1:2])[0]) as src:\n",
    "    fig, ax = plt.subplots(figsize=(9,8))\n",
    "\n",
    "    # To plot\n",
    "    show(src,1)\n",
    "\n",
    "    # To open data into a numpy array\n",
    "    profile = src.profile\n",
    "    arr = src.read(1)"
   ]
  },
  {
   "cell_type": "code",
   "execution_count": null,
   "id": "d55122f3-3989-4589-9b0f-9c378a782e21",
   "metadata": {
    "tags": []
   },
   "outputs": [],
   "source": [
    "hls_scene = xr.open_dataset(earthaccess.open(granule_list[1:2])[0], engine='rasterio')\n",
    "hls_scene"
   ]
  },
  {
   "cell_type": "markdown",
   "id": "ee74d663-1699-4ea6-88e2-14eeba18f97b",
   "metadata": {},
   "source": [
    "### Working with legacy data formats"
   ]
  },
  {
   "cell_type": "markdown",
   "id": "4f915ebe-ff0f-425d-8594-ba89cd9dbb52",
   "metadata": {},
   "source": [
    "**MOD07_L2** is an HDF EOS dataset providing atmospheric profiles from the MODerate Resolution Imaging Spectroradiometer instrument on the Terra satelite. You could use this data for providing an atmospheric correction for imagery to get a surface reflectance measurement. \n",
    "\n",
    "It is in a very old HDF data format and although streaming is technically possible, the only libraries that can open HDF EOS expect file paths not remote file systems like the one used by xarray (fsspec). So instead will access the netCDF endpoint via Opendap to download the granules instead of streaming them."
   ]
  },
  {
   "cell_type": "code",
   "execution_count": null,
   "id": "b5577154-f15c-464c-b68a-57a280d484d1",
   "metadata": {
    "tags": []
   },
   "outputs": [],
   "source": [
    "iceland_bbox = (-22.1649, 63.3052, -11.9366, 65.5970)\n",
    "\n",
    "granules = earthaccess.search_data(\n",
    "    short_name = \"MOD07_L2\",\n",
    "    bounding_box = iceland_bbox,\n",
    "    temporal = (f\"2020-01-01\", f\"2020-01-02\")\n",
    ")"
   ]
  },
  {
   "cell_type": "code",
   "execution_count": null,
   "id": "a89d0974-ecfd-45c5-9c6d-7a1595c167b2",
   "metadata": {
    "tags": []
   },
   "outputs": [],
   "source": [
    "print(\"Direct access link: \", granules[0].data_links(access=\"direct\"))\n",
    "print(\"External link: \", granules[0].data_links(access=\"external\"))"
   ]
  },
  {
   "cell_type": "markdown",
   "id": "cfbfb54d-798a-4bda-88c0-6461bb2c026c",
   "metadata": {},
   "source": [
    "If we try to open these HDF files in Xarray:"
   ]
  },
  {
   "cell_type": "code",
   "execution_count": 5,
   "id": "53a520f7-fb86-40ba-aee6-6a98e7615ce7",
   "metadata": {
    "tags": []
   },
   "outputs": [],
   "source": [
    "# This creates an anticipated error\n",
    "mod07 = xr.open_mfdataset(earthaccess.open(granules[0:3]), engine='rasterio')"
   ]
  },
  {
   "cell_type": "markdown",
   "id": "1d208b07-e4cf-4eb7-bb40-7a3da46db3e4",
   "metadata": {
    "user_expressions": []
   },
   "source": [
    "We notice that the access occurs quickly, but xarray is unable to recognize the legacy file format. HDF files are remarkably hard to open. You must download the files and open using pyhdf to open them using code like this: \\\n",
    "`from pyhdf.SD import SD,SDC` \\\n",
    "`mod07_l2 = SD(MODfile, SDC.READ)`"
   ]
  },
  {
   "cell_type": "markdown",
   "id": "ec910c79-4b11-43d9-9dbd-7c1d5113ebd3",
   "metadata": {
    "user_expressions": []
   },
   "source": [
    "We do have another option to convert hdf to nc4 files during download so that we can open the files in Xarray."
   ]
  },
  {
   "cell_type": "code",
   "execution_count": null,
   "id": "05800373-0640-44e2-9f7b-09c39ce03059",
   "metadata": {
    "tags": []
   },
   "outputs": [],
   "source": [
    "# We are going to retrieve the html endpoint link for one granule\n",
    "granules[0]._filter_related_links(\"USE SERVICE API\")"
   ]
  },
  {
   "cell_type": "code",
   "execution_count": null,
   "id": "82568336-a8be-4fa2-9135-c5bebb4148c2",
   "metadata": {
    "tags": []
   },
   "outputs": [],
   "source": [
    "netcdf_list = [g._filter_related_links(\"USE SERVICE API\")[0].replace(\".html\", \".nc4\") for g in granules]\n",
    "netcdf_list[0]"
   ]
  },
  {
   "cell_type": "code",
   "execution_count": null,
   "id": "5116ef2f-e27f-49a2-9e3f-07f70337226f",
   "metadata": {
    "tags": []
   },
   "outputs": [
    {
     "data": {
      "application/vnd.jupyter.widget-view+json": {
       "model_id": "4e07683e3ab74d7385c6671a397fff3a",
       "version_major": 2,
       "version_minor": 0
      },
      "text/plain": [
       "QUEUEING TASKS | :   0%|          | 0/3 [00:00<?, ?it/s]"
      ]
     },
     "metadata": {},
     "output_type": "display_data"
    },
    {
     "data": {
      "application/vnd.jupyter.widget-view+json": {
       "model_id": "a8fd25d454e8474a86373f07b2d26962",
       "version_major": 2,
       "version_minor": 0
      },
      "text/plain": [
       "PROCESSING TASKS | :   0%|          | 0/3 [00:00<?, ?it/s]"
      ]
     },
     "metadata": {},
     "output_type": "display_data"
    },
    {
     "name": "stderr",
     "output_type": "stream",
     "text": [
      "Error while downloading the file MOD07_L2.A2020001.0015.061.2020002183420.hdf.nc4\n",
      "Traceback (most recent call last):\n",
      "  File \"/srv/conda/envs/notebook/lib/python3.11/site-packages/earthaccess/store.py\", line 619, in _download_file\n",
      "    with open(path, \"wb\") as f:\n",
      "         ^^^^^^^^^^^^^^^^\n",
      "FileNotFoundError: [Errno 2] No such file or directory: 'test_data/MOD07_L2.A2020001.0015.061.2020002183420.hdf.nc4'\n",
      "Error while downloading the file MOD07_L2.A2020001.1200.061.2020002184553.hdf.nc4\n",
      "Traceback (most recent call last):\n",
      "  File \"/srv/conda/envs/notebook/lib/python3.11/site-packages/earthaccess/store.py\", line 619, in _download_file\n",
      "    with open(path, \"wb\") as f:\n",
      "         ^^^^^^^^^^^^^^^^\n",
      "FileNotFoundError: [Errno 2] No such file or directory: 'test_data/MOD07_L2.A2020001.1200.061.2020002184553.hdf.nc4'\n"
     ]
    },
    {
     "data": {
      "application/vnd.jupyter.widget-view+json": {
       "model_id": "a092f5559fb9434e84a19b92f3e7ea2c",
       "version_major": 2,
       "version_minor": 0
      },
      "text/plain": [
       "COLLECTING RESULTS | :   0%|          | 0/3 [00:00<?, ?it/s]"
      ]
     },
     "metadata": {},
     "output_type": "display_data"
    }
   ],
   "source": [
    "# This is going to be slow as we are asking Opendap to format HDF into NetCDF4 so we only processing 3 granules\n",
    "# and Opendap is very prone to failures due concurrent connections, not ideal.\n",
    "# Convert the list from HDF to netcdf4, then download.\n",
    "file_handlers = earthaccess.download(netcdf_list[0:3], local_path=\"test_data\", threads=4)"
   ]
  },
  {
   "cell_type": "code",
   "execution_count": 26,
   "id": "5612ab3c-b46c-4da3-9c86-25c6b225b3fc",
   "metadata": {
    "tags": []
   },
   "outputs": [
    {
     "ename": "FileNotFoundError",
     "evalue": "[Errno 2] No such file or directory: 'test_data'",
     "output_type": "error",
     "traceback": [
      "\u001b[0;31m---------------------------------------------------------------------------\u001b[0m",
      "\u001b[0;31mFileNotFoundError\u001b[0m                         Traceback (most recent call last)",
      "Cell \u001b[0;32mIn[26], line 3\u001b[0m\n\u001b[1;32m      1\u001b[0m \u001b[38;5;66;03m# Get the file names\u001b[39;00m\n\u001b[1;32m      2\u001b[0m path \u001b[38;5;241m=\u001b[39m \u001b[38;5;124m\"\u001b[39m\u001b[38;5;124mtest_data\u001b[39m\u001b[38;5;124m\"\u001b[39m\n\u001b[0;32m----> 3\u001b[0m dir_list \u001b[38;5;241m=\u001b[39m \u001b[43mos\u001b[49m\u001b[38;5;241;43m.\u001b[39;49m\u001b[43mlistdir\u001b[49m\u001b[43m(\u001b[49m\u001b[43mpath\u001b[49m\u001b[43m)\u001b[49m\n\u001b[1;32m      4\u001b[0m \u001b[38;5;28mprint\u001b[39m(dir_list)\n",
      "\u001b[0;31mFileNotFoundError\u001b[0m: [Errno 2] No such file or directory: 'test_data'"
     ]
    }
   ],
   "source": [
    "# Get the file names\n",
    "path = \"test_data\"\n",
    "dir_list = os.listdir(path)\n",
    "print(dir_list)"
   ]
  },
  {
   "cell_type": "code",
   "execution_count": null,
   "id": "9ec69a26-cde6-4d9f-8d7a-1092b548910a",
   "metadata": {
    "tags": []
   },
   "outputs": [],
   "source": [
    "cd test_data"
   ]
  },
  {
   "cell_type": "code",
   "execution_count": 14,
   "id": "207cc666-1583-4040-98d6-ae8dd041ddef",
   "metadata": {
    "tags": []
   },
   "outputs": [
    {
     "data": {
      "text/html": [
       "<div><svg style=\"position: absolute; width: 0; height: 0; overflow: hidden\">\n",
       "<defs>\n",
       "<symbol id=\"icon-database\" viewBox=\"0 0 32 32\">\n",
       "<path d=\"M16 0c-8.837 0-16 2.239-16 5v4c0 2.761 7.163 5 16 5s16-2.239 16-5v-4c0-2.761-7.163-5-16-5z\"></path>\n",
       "<path d=\"M16 17c-8.837 0-16-2.239-16-5v6c0 2.761 7.163 5 16 5s16-2.239 16-5v-6c0 2.761-7.163 5-16 5z\"></path>\n",
       "<path d=\"M16 26c-8.837 0-16-2.239-16-5v6c0 2.761 7.163 5 16 5s16-2.239 16-5v-6c0 2.761-7.163 5-16 5z\"></path>\n",
       "</symbol>\n",
       "<symbol id=\"icon-file-text2\" viewBox=\"0 0 32 32\">\n",
       "<path d=\"M28.681 7.159c-0.694-0.947-1.662-2.053-2.724-3.116s-2.169-2.030-3.116-2.724c-1.612-1.182-2.393-1.319-2.841-1.319h-15.5c-1.378 0-2.5 1.121-2.5 2.5v27c0 1.378 1.122 2.5 2.5 2.5h23c1.378 0 2.5-1.122 2.5-2.5v-19.5c0-0.448-0.137-1.23-1.319-2.841zM24.543 5.457c0.959 0.959 1.712 1.825 2.268 2.543h-4.811v-4.811c0.718 0.556 1.584 1.309 2.543 2.268zM28 29.5c0 0.271-0.229 0.5-0.5 0.5h-23c-0.271 0-0.5-0.229-0.5-0.5v-27c0-0.271 0.229-0.5 0.5-0.5 0 0 15.499-0 15.5 0v7c0 0.552 0.448 1 1 1h7v19.5z\"></path>\n",
       "<path d=\"M23 26h-14c-0.552 0-1-0.448-1-1s0.448-1 1-1h14c0.552 0 1 0.448 1 1s-0.448 1-1 1z\"></path>\n",
       "<path d=\"M23 22h-14c-0.552 0-1-0.448-1-1s0.448-1 1-1h14c0.552 0 1 0.448 1 1s-0.448 1-1 1z\"></path>\n",
       "<path d=\"M23 18h-14c-0.552 0-1-0.448-1-1s0.448-1 1-1h14c0.552 0 1 0.448 1 1s-0.448 1-1 1z\"></path>\n",
       "</symbol>\n",
       "</defs>\n",
       "</svg>\n",
       "<style>/* CSS stylesheet for displaying xarray objects in jupyterlab.\n",
       " *\n",
       " */\n",
       "\n",
       ":root {\n",
       "  --xr-font-color0: var(--jp-content-font-color0, rgba(0, 0, 0, 1));\n",
       "  --xr-font-color2: var(--jp-content-font-color2, rgba(0, 0, 0, 0.54));\n",
       "  --xr-font-color3: var(--jp-content-font-color3, rgba(0, 0, 0, 0.38));\n",
       "  --xr-border-color: var(--jp-border-color2, #e0e0e0);\n",
       "  --xr-disabled-color: var(--jp-layout-color3, #bdbdbd);\n",
       "  --xr-background-color: var(--jp-layout-color0, white);\n",
       "  --xr-background-color-row-even: var(--jp-layout-color1, white);\n",
       "  --xr-background-color-row-odd: var(--jp-layout-color2, #eeeeee);\n",
       "}\n",
       "\n",
       "html[theme=dark],\n",
       "html[data-theme=dark],\n",
       "body[data-theme=dark],\n",
       "body.vscode-dark {\n",
       "  --xr-font-color0: rgba(255, 255, 255, 1);\n",
       "  --xr-font-color2: rgba(255, 255, 255, 0.54);\n",
       "  --xr-font-color3: rgba(255, 255, 255, 0.38);\n",
       "  --xr-border-color: #1F1F1F;\n",
       "  --xr-disabled-color: #515151;\n",
       "  --xr-background-color: #111111;\n",
       "  --xr-background-color-row-even: #111111;\n",
       "  --xr-background-color-row-odd: #313131;\n",
       "}\n",
       "\n",
       ".xr-wrap {\n",
       "  display: block !important;\n",
       "  min-width: 300px;\n",
       "  max-width: 700px;\n",
       "}\n",
       "\n",
       ".xr-text-repr-fallback {\n",
       "  /* fallback to plain text repr when CSS is not injected (untrusted notebook) */\n",
       "  display: none;\n",
       "}\n",
       "\n",
       ".xr-header {\n",
       "  padding-top: 6px;\n",
       "  padding-bottom: 6px;\n",
       "  margin-bottom: 4px;\n",
       "  border-bottom: solid 1px var(--xr-border-color);\n",
       "}\n",
       "\n",
       ".xr-header > div,\n",
       ".xr-header > ul {\n",
       "  display: inline;\n",
       "  margin-top: 0;\n",
       "  margin-bottom: 0;\n",
       "}\n",
       "\n",
       ".xr-obj-type,\n",
       ".xr-array-name {\n",
       "  margin-left: 2px;\n",
       "  margin-right: 10px;\n",
       "}\n",
       "\n",
       ".xr-obj-type {\n",
       "  color: var(--xr-font-color2);\n",
       "}\n",
       "\n",
       ".xr-sections {\n",
       "  padding-left: 0 !important;\n",
       "  display: grid;\n",
       "  grid-template-columns: 150px auto auto 1fr 20px 20px;\n",
       "}\n",
       "\n",
       ".xr-section-item {\n",
       "  display: contents;\n",
       "}\n",
       "\n",
       ".xr-section-item input {\n",
       "  display: none;\n",
       "}\n",
       "\n",
       ".xr-section-item input + label {\n",
       "  color: var(--xr-disabled-color);\n",
       "}\n",
       "\n",
       ".xr-section-item input:enabled + label {\n",
       "  cursor: pointer;\n",
       "  color: var(--xr-font-color2);\n",
       "}\n",
       "\n",
       ".xr-section-item input:enabled + label:hover {\n",
       "  color: var(--xr-font-color0);\n",
       "}\n",
       "\n",
       ".xr-section-summary {\n",
       "  grid-column: 1;\n",
       "  color: var(--xr-font-color2);\n",
       "  font-weight: 500;\n",
       "}\n",
       "\n",
       ".xr-section-summary > span {\n",
       "  display: inline-block;\n",
       "  padding-left: 0.5em;\n",
       "}\n",
       "\n",
       ".xr-section-summary-in:disabled + label {\n",
       "  color: var(--xr-font-color2);\n",
       "}\n",
       "\n",
       ".xr-section-summary-in + label:before {\n",
       "  display: inline-block;\n",
       "  content: '►';\n",
       "  font-size: 11px;\n",
       "  width: 15px;\n",
       "  text-align: center;\n",
       "}\n",
       "\n",
       ".xr-section-summary-in:disabled + label:before {\n",
       "  color: var(--xr-disabled-color);\n",
       "}\n",
       "\n",
       ".xr-section-summary-in:checked + label:before {\n",
       "  content: '▼';\n",
       "}\n",
       "\n",
       ".xr-section-summary-in:checked + label > span {\n",
       "  display: none;\n",
       "}\n",
       "\n",
       ".xr-section-summary,\n",
       ".xr-section-inline-details {\n",
       "  padding-top: 4px;\n",
       "  padding-bottom: 4px;\n",
       "}\n",
       "\n",
       ".xr-section-inline-details {\n",
       "  grid-column: 2 / -1;\n",
       "}\n",
       "\n",
       ".xr-section-details {\n",
       "  display: none;\n",
       "  grid-column: 1 / -1;\n",
       "  margin-bottom: 5px;\n",
       "}\n",
       "\n",
       ".xr-section-summary-in:checked ~ .xr-section-details {\n",
       "  display: contents;\n",
       "}\n",
       "\n",
       ".xr-array-wrap {\n",
       "  grid-column: 1 / -1;\n",
       "  display: grid;\n",
       "  grid-template-columns: 20px auto;\n",
       "}\n",
       "\n",
       ".xr-array-wrap > label {\n",
       "  grid-column: 1;\n",
       "  vertical-align: top;\n",
       "}\n",
       "\n",
       ".xr-preview {\n",
       "  color: var(--xr-font-color3);\n",
       "}\n",
       "\n",
       ".xr-array-preview,\n",
       ".xr-array-data {\n",
       "  padding: 0 5px !important;\n",
       "  grid-column: 2;\n",
       "}\n",
       "\n",
       ".xr-array-data,\n",
       ".xr-array-in:checked ~ .xr-array-preview {\n",
       "  display: none;\n",
       "}\n",
       "\n",
       ".xr-array-in:checked ~ .xr-array-data,\n",
       ".xr-array-preview {\n",
       "  display: inline-block;\n",
       "}\n",
       "\n",
       ".xr-dim-list {\n",
       "  display: inline-block !important;\n",
       "  list-style: none;\n",
       "  padding: 0 !important;\n",
       "  margin: 0;\n",
       "}\n",
       "\n",
       ".xr-dim-list li {\n",
       "  display: inline-block;\n",
       "  padding: 0;\n",
       "  margin: 0;\n",
       "}\n",
       "\n",
       ".xr-dim-list:before {\n",
       "  content: '(';\n",
       "}\n",
       "\n",
       ".xr-dim-list:after {\n",
       "  content: ')';\n",
       "}\n",
       "\n",
       ".xr-dim-list li:not(:last-child):after {\n",
       "  content: ',';\n",
       "  padding-right: 5px;\n",
       "}\n",
       "\n",
       ".xr-has-index {\n",
       "  font-weight: bold;\n",
       "}\n",
       "\n",
       ".xr-var-list,\n",
       ".xr-var-item {\n",
       "  display: contents;\n",
       "}\n",
       "\n",
       ".xr-var-item > div,\n",
       ".xr-var-item label,\n",
       ".xr-var-item > .xr-var-name span {\n",
       "  background-color: var(--xr-background-color-row-even);\n",
       "  margin-bottom: 0;\n",
       "}\n",
       "\n",
       ".xr-var-item > .xr-var-name:hover span {\n",
       "  padding-right: 5px;\n",
       "}\n",
       "\n",
       ".xr-var-list > li:nth-child(odd) > div,\n",
       ".xr-var-list > li:nth-child(odd) > label,\n",
       ".xr-var-list > li:nth-child(odd) > .xr-var-name span {\n",
       "  background-color: var(--xr-background-color-row-odd);\n",
       "}\n",
       "\n",
       ".xr-var-name {\n",
       "  grid-column: 1;\n",
       "}\n",
       "\n",
       ".xr-var-dims {\n",
       "  grid-column: 2;\n",
       "}\n",
       "\n",
       ".xr-var-dtype {\n",
       "  grid-column: 3;\n",
       "  text-align: right;\n",
       "  color: var(--xr-font-color2);\n",
       "}\n",
       "\n",
       ".xr-var-preview {\n",
       "  grid-column: 4;\n",
       "}\n",
       "\n",
       ".xr-index-preview {\n",
       "  grid-column: 2 / 5;\n",
       "  color: var(--xr-font-color2);\n",
       "}\n",
       "\n",
       ".xr-var-name,\n",
       ".xr-var-dims,\n",
       ".xr-var-dtype,\n",
       ".xr-preview,\n",
       ".xr-attrs dt {\n",
       "  white-space: nowrap;\n",
       "  overflow: hidden;\n",
       "  text-overflow: ellipsis;\n",
       "  padding-right: 10px;\n",
       "}\n",
       "\n",
       ".xr-var-name:hover,\n",
       ".xr-var-dims:hover,\n",
       ".xr-var-dtype:hover,\n",
       ".xr-attrs dt:hover {\n",
       "  overflow: visible;\n",
       "  width: auto;\n",
       "  z-index: 1;\n",
       "}\n",
       "\n",
       ".xr-var-attrs,\n",
       ".xr-var-data,\n",
       ".xr-index-data {\n",
       "  display: none;\n",
       "  background-color: var(--xr-background-color) !important;\n",
       "  padding-bottom: 5px !important;\n",
       "}\n",
       "\n",
       ".xr-var-attrs-in:checked ~ .xr-var-attrs,\n",
       ".xr-var-data-in:checked ~ .xr-var-data,\n",
       ".xr-index-data-in:checked ~ .xr-index-data {\n",
       "  display: block;\n",
       "}\n",
       "\n",
       ".xr-var-data > table {\n",
       "  float: right;\n",
       "}\n",
       "\n",
       ".xr-var-name span,\n",
       ".xr-var-data,\n",
       ".xr-index-name div,\n",
       ".xr-index-data,\n",
       ".xr-attrs {\n",
       "  padding-left: 25px !important;\n",
       "}\n",
       "\n",
       ".xr-attrs,\n",
       ".xr-var-attrs,\n",
       ".xr-var-data,\n",
       ".xr-index-data {\n",
       "  grid-column: 1 / -1;\n",
       "}\n",
       "\n",
       "dl.xr-attrs {\n",
       "  padding: 0;\n",
       "  margin: 0;\n",
       "  display: grid;\n",
       "  grid-template-columns: 125px auto;\n",
       "}\n",
       "\n",
       ".xr-attrs dt,\n",
       ".xr-attrs dd {\n",
       "  padding: 0;\n",
       "  margin: 0;\n",
       "  float: left;\n",
       "  padding-right: 10px;\n",
       "  width: auto;\n",
       "}\n",
       "\n",
       ".xr-attrs dt {\n",
       "  font-weight: normal;\n",
       "  grid-column: 1;\n",
       "}\n",
       "\n",
       ".xr-attrs dt:hover span {\n",
       "  display: inline-block;\n",
       "  background: var(--xr-background-color);\n",
       "  padding-right: 10px;\n",
       "}\n",
       "\n",
       ".xr-attrs dd {\n",
       "  grid-column: 2;\n",
       "  white-space: pre-wrap;\n",
       "  word-break: break-all;\n",
       "}\n",
       "\n",
       ".xr-icon-database,\n",
       ".xr-icon-file-text2,\n",
       ".xr-no-icon {\n",
       "  display: inline-block;\n",
       "  vertical-align: middle;\n",
       "  width: 1em;\n",
       "  height: 1.5em !important;\n",
       "  stroke-width: 0;\n",
       "  stroke: currentColor;\n",
       "  fill: currentColor;\n",
       "}\n",
       "</style><pre class='xr-text-repr-fallback'>&lt;xarray.Dataset&gt; Size: 146MB\n",
       "Dimensions:                            (Band_Number: 12, Pressure_Level: 20,\n",
       "                                        Cell_Along_Swath: 406,\n",
       "                                        Cell_Across_Swath: 270,\n",
       "                                        Output_Parameter: 10,\n",
       "                                        Water_Vapor_QA_Bytes: 5)\n",
       "Coordinates:\n",
       "  * Band_Number                        (Band_Number) int32 48B 24 25 ... 35 36\n",
       "  * Pressure_Level                     (Pressure_Level) float32 80B 5.0 ... 1...\n",
       "    Latitude                           (Cell_Along_Swath, Cell_Across_Swath) float32 438kB ...\n",
       "    Longitude                          (Cell_Along_Swath, Cell_Across_Swath) float32 438kB ...\n",
       "  * Output_Parameter                   (Output_Parameter) int32 40B 0 1 ... 8 9\n",
       "  * Water_Vapor_QA_Bytes               (Water_Vapor_QA_Bytes) int32 20B 0 ... 4\n",
       "Dimensions without coordinates: Cell_Along_Swath, Cell_Across_Swath\n",
       "Data variables: (12/29)\n",
       "    Pressure_Levels                    (Pressure_Level) int16 40B ...\n",
       "    Scan_Start_Time                    (Cell_Along_Swath, Cell_Across_Swath) datetime64[ns] 877kB ...\n",
       "    Solar_Zenith                       (Cell_Along_Swath, Cell_Across_Swath) float64 877kB ...\n",
       "    Solar_Azimuth                      (Cell_Along_Swath, Cell_Across_Swath) float64 877kB ...\n",
       "    Sensor_Zenith                      (Cell_Along_Swath, Cell_Across_Swath) float64 877kB ...\n",
       "    Sensor_Azimuth                     (Cell_Along_Swath, Cell_Across_Swath) float64 877kB ...\n",
       "    ...                                 ...\n",
       "    Water_Vapor                        (Cell_Along_Swath, Cell_Across_Swath) float64 877kB ...\n",
       "    Water_Vapor_Direct                 (Cell_Along_Swath, Cell_Across_Swath) float64 877kB ...\n",
       "    Water_Vapor_Low                    (Cell_Along_Swath, Cell_Across_Swath) float64 877kB ...\n",
       "    Water_Vapor_High                   (Cell_Along_Swath, Cell_Across_Swath) float64 877kB ...\n",
       "    Quality_Assurance                  (Cell_Along_Swath, Cell_Across_Swath, Output_Parameter) float64 9MB ...\n",
       "    Quality_Assurance_Infrared         (Cell_Along_Swath, Cell_Across_Swath, Water_Vapor_QA_Bytes) float64 4MB ...\n",
       "Attributes:\n",
       "    HDFEOSVersion:                      HDFEOS_V2.19\n",
       "    ScaleFactor_AddOffset_Application:  Value=scale_factor*(stored integer - ...\n",
       "    Pressure_Levels:                    5, 10, 20, 30, 50, 70, 100, 150, 200,...\n",
       "    title:                              MODIS Level 2 Atmospheric Profiles   ...\n",
       "    identifier_product_doi:             10.5067/MODIS/MOD07_L2.061\n",
       "    identifier_product_doi_authority:   http://dx.doi.org\n",
       "    history:                            $Id: MOD07.V2.CDL,v 1.1 2005/12/14 16...\n",
       "    history_json:                       [{&quot;$schema&quot;:&quot;https:\\/\\/harmony.earthd...</pre><div class='xr-wrap' style='display:none'><div class='xr-header'><div class='xr-obj-type'>xarray.Dataset</div></div><ul class='xr-sections'><li class='xr-section-item'><input id='section-07e7ba82-7325-4ca7-b3e5-be87a773a67a' class='xr-section-summary-in' type='checkbox' disabled ><label for='section-07e7ba82-7325-4ca7-b3e5-be87a773a67a' class='xr-section-summary'  title='Expand/collapse section'>Dimensions:</label><div class='xr-section-inline-details'><ul class='xr-dim-list'><li><span class='xr-has-index'>Band_Number</span>: 12</li><li><span class='xr-has-index'>Pressure_Level</span>: 20</li><li><span>Cell_Along_Swath</span>: 406</li><li><span>Cell_Across_Swath</span>: 270</li><li><span class='xr-has-index'>Output_Parameter</span>: 10</li><li><span class='xr-has-index'>Water_Vapor_QA_Bytes</span>: 5</li></ul></div><div class='xr-section-details'></div></li><li class='xr-section-item'><input id='section-c188eec2-f90f-43cf-9f05-123e9bbdb7ef' class='xr-section-summary-in' type='checkbox'  checked><label for='section-c188eec2-f90f-43cf-9f05-123e9bbdb7ef' class='xr-section-summary' >Coordinates: <span>(6)</span></label><div class='xr-section-inline-details'></div><div class='xr-section-details'><ul class='xr-var-list'><li class='xr-var-item'><div class='xr-var-name'><span class='xr-has-index'>Band_Number</span></div><div class='xr-var-dims'>(Band_Number)</div><div class='xr-var-dtype'>int32</div><div class='xr-var-preview xr-preview'>24 25 27 28 29 30 31 32 33 34 35 36</div><input id='attrs-472dc3ca-5fd2-4b74-958a-2bf26f7f8a32' class='xr-var-attrs-in' type='checkbox' ><label for='attrs-472dc3ca-5fd2-4b74-958a-2bf26f7f8a32' title='Show/Hide attributes'><svg class='icon xr-icon-file-text2'><use xlink:href='#icon-file-text2'></use></svg></label><input id='data-fc38534f-d54d-4072-a85c-8cdfc726f685' class='xr-var-data-in' type='checkbox'><label for='data-fc38534f-d54d-4072-a85c-8cdfc726f685' title='Show/Hide data repr'><svg class='icon xr-icon-database'><use xlink:href='#icon-database'></use></svg></label><div class='xr-var-attrs'><dl class='xr-attrs'><dt><span>long_name :</span></dt><dd>MODIS Band Number</dd><dt><span>units :</span></dt><dd>none</dd></dl></div><div class='xr-var-data'><pre>array([24, 25, 27, 28, 29, 30, 31, 32, 33, 34, 35, 36], dtype=int32)</pre></div></li><li class='xr-var-item'><div class='xr-var-name'><span class='xr-has-index'>Pressure_Level</span></div><div class='xr-var-dims'>(Pressure_Level)</div><div class='xr-var-dtype'>float32</div><div class='xr-var-preview xr-preview'>5.0 10.0 20.0 ... 920.0 950.0 1e+03</div><input id='attrs-f9ebc78c-7cd2-458e-9a9b-cee98307ad83' class='xr-var-attrs-in' type='checkbox' ><label for='attrs-f9ebc78c-7cd2-458e-9a9b-cee98307ad83' title='Show/Hide attributes'><svg class='icon xr-icon-file-text2'><use xlink:href='#icon-file-text2'></use></svg></label><input id='data-f72d5582-d76c-442f-8cf2-cef08a2543c8' class='xr-var-data-in' type='checkbox'><label for='data-f72d5582-d76c-442f-8cf2-cef08a2543c8' title='Show/Hide data repr'><svg class='icon xr-icon-database'><use xlink:href='#icon-database'></use></svg></label><div class='xr-var-attrs'><dl class='xr-attrs'><dt><span>long_name :</span></dt><dd>Pressure Levels of Profiles</dd><dt><span>units :</span></dt><dd>hPa</dd></dl></div><div class='xr-var-data'><pre>array([   5.,   10.,   20.,   30.,   50.,   70.,  100.,  150.,  200.,  250.,\n",
       "        300.,  400.,  500.,  620.,  700.,  780.,  850.,  920.,  950., 1000.],\n",
       "      dtype=float32)</pre></div></li><li class='xr-var-item'><div class='xr-var-name'><span>Latitude</span></div><div class='xr-var-dims'>(Cell_Along_Swath, Cell_Across_Swath)</div><div class='xr-var-dtype'>float32</div><div class='xr-var-preview xr-preview'>...</div><input id='attrs-d6020773-746a-42bc-ac30-89f4aa8ef628' class='xr-var-attrs-in' type='checkbox' ><label for='attrs-d6020773-746a-42bc-ac30-89f4aa8ef628' title='Show/Hide attributes'><svg class='icon xr-icon-file-text2'><use xlink:href='#icon-file-text2'></use></svg></label><input id='data-d4ef9896-26fd-4586-b66a-82a20d5060a1' class='xr-var-data-in' type='checkbox'><label for='data-d4ef9896-26fd-4586-b66a-82a20d5060a1' title='Show/Hide data repr'><svg class='icon xr-icon-database'><use xlink:href='#icon-database'></use></svg></label><div class='xr-var-attrs'><dl class='xr-attrs'><dt><span>units :</span></dt><dd>degrees_north</dd><dt><span>valid_range :</span></dt><dd>[-90.  90.]</dd><dt><span>long_name :</span></dt><dd>Geodetic Latitude</dd><dt><span>Parameter_Type :</span></dt><dd>MODIS Input</dd><dt><span>Cell_Along_Swath_Sampling :</span></dt><dd>[   3 2028    5]</dd><dt><span>Cell_Across_Swath_Sampling :</span></dt><dd>[   3 1348    5]</dd><dt><span>Geolocation_Pointer :</span></dt><dd>Internal geolocation arrays</dd></dl></div><div class='xr-var-data'><pre>[109620 values with dtype=float32]</pre></div></li><li class='xr-var-item'><div class='xr-var-name'><span>Longitude</span></div><div class='xr-var-dims'>(Cell_Along_Swath, Cell_Across_Swath)</div><div class='xr-var-dtype'>float32</div><div class='xr-var-preview xr-preview'>...</div><input id='attrs-e1c776b5-e4ef-479a-9c7e-d3fdfcb93b57' class='xr-var-attrs-in' type='checkbox' ><label for='attrs-e1c776b5-e4ef-479a-9c7e-d3fdfcb93b57' title='Show/Hide attributes'><svg class='icon xr-icon-file-text2'><use xlink:href='#icon-file-text2'></use></svg></label><input id='data-02ca3c40-efab-4505-b5f9-a775da69ab63' class='xr-var-data-in' type='checkbox'><label for='data-02ca3c40-efab-4505-b5f9-a775da69ab63' title='Show/Hide data repr'><svg class='icon xr-icon-database'><use xlink:href='#icon-database'></use></svg></label><div class='xr-var-attrs'><dl class='xr-attrs'><dt><span>units :</span></dt><dd>degrees_east</dd><dt><span>valid_range :</span></dt><dd>[-180.  180.]</dd><dt><span>long_name :</span></dt><dd>Geodetic Longitude</dd><dt><span>Parameter_Type :</span></dt><dd>MODIS Input</dd><dt><span>Cell_Along_Swath_Sampling :</span></dt><dd>[   3 2028    5]</dd><dt><span>Cell_Across_Swath_Sampling :</span></dt><dd>[   3 1348    5]</dd><dt><span>Geolocation_Pointer :</span></dt><dd>Internal geolocation arrays</dd></dl></div><div class='xr-var-data'><pre>[109620 values with dtype=float32]</pre></div></li><li class='xr-var-item'><div class='xr-var-name'><span class='xr-has-index'>Output_Parameter</span></div><div class='xr-var-dims'>(Output_Parameter)</div><div class='xr-var-dtype'>int32</div><div class='xr-var-preview xr-preview'>0 1 2 3 4 5 6 7 8 9</div><input id='attrs-b93655da-5a1d-4691-9ca4-cc25578cfd6c' class='xr-var-attrs-in' type='checkbox' ><label for='attrs-b93655da-5a1d-4691-9ca4-cc25578cfd6c' title='Show/Hide attributes'><svg class='icon xr-icon-file-text2'><use xlink:href='#icon-file-text2'></use></svg></label><input id='data-bb4a489b-c9c6-4223-ad90-5e0fe8e7c63c' class='xr-var-data-in' type='checkbox'><label for='data-bb4a489b-c9c6-4223-ad90-5e0fe8e7c63c' title='Show/Hide data repr'><svg class='icon xr-icon-database'><use xlink:href='#icon-database'></use></svg></label><div class='xr-var-attrs'><dl class='xr-attrs'><dt><span>units :</span></dt><dd>level</dd><dt><span>long_name :</span></dt><dd>Output_Parameter(fake)</dd></dl></div><div class='xr-var-data'><pre>array([0, 1, 2, 3, 4, 5, 6, 7, 8, 9], dtype=int32)</pre></div></li><li class='xr-var-item'><div class='xr-var-name'><span class='xr-has-index'>Water_Vapor_QA_Bytes</span></div><div class='xr-var-dims'>(Water_Vapor_QA_Bytes)</div><div class='xr-var-dtype'>int32</div><div class='xr-var-preview xr-preview'>0 1 2 3 4</div><input id='attrs-dd709b8c-a0c6-4c68-a080-0e65cd0a2dd5' class='xr-var-attrs-in' type='checkbox' ><label for='attrs-dd709b8c-a0c6-4c68-a080-0e65cd0a2dd5' title='Show/Hide attributes'><svg class='icon xr-icon-file-text2'><use xlink:href='#icon-file-text2'></use></svg></label><input id='data-17fb71b4-f526-4a3e-bb75-6a5650db54ef' class='xr-var-data-in' type='checkbox'><label for='data-17fb71b4-f526-4a3e-bb75-6a5650db54ef' title='Show/Hide data repr'><svg class='icon xr-icon-database'><use xlink:href='#icon-database'></use></svg></label><div class='xr-var-attrs'><dl class='xr-attrs'><dt><span>units :</span></dt><dd>level</dd><dt><span>long_name :</span></dt><dd>Water_Vapor_QA_Bytes(fake)</dd></dl></div><div class='xr-var-data'><pre>array([0, 1, 2, 3, 4], dtype=int32)</pre></div></li></ul></div></li><li class='xr-section-item'><input id='section-5f839a9a-38ab-4f3b-bff1-7c5221d4edba' class='xr-section-summary-in' type='checkbox'  ><label for='section-5f839a9a-38ab-4f3b-bff1-7c5221d4edba' class='xr-section-summary' >Data variables: <span>(29)</span></label><div class='xr-section-inline-details'></div><div class='xr-section-details'><ul class='xr-var-list'><li class='xr-var-item'><div class='xr-var-name'><span>Pressure_Levels</span></div><div class='xr-var-dims'>(Pressure_Level)</div><div class='xr-var-dtype'>int16</div><div class='xr-var-preview xr-preview'>...</div><input id='attrs-ac3dbbd4-0367-4741-89ae-015bd2970c65' class='xr-var-attrs-in' type='checkbox' ><label for='attrs-ac3dbbd4-0367-4741-89ae-015bd2970c65' title='Show/Hide attributes'><svg class='icon xr-icon-file-text2'><use xlink:href='#icon-file-text2'></use></svg></label><input id='data-0e0755fc-96dd-441f-bad1-153f10c7cc53' class='xr-var-data-in' type='checkbox'><label for='data-0e0755fc-96dd-441f-bad1-153f10c7cc53' title='Show/Hide data repr'><svg class='icon xr-icon-database'><use xlink:href='#icon-database'></use></svg></label><div class='xr-var-attrs'><dl class='xr-attrs'><dt><span>long_name :</span></dt><dd>Pressure_Levels</dd></dl></div><div class='xr-var-data'><pre>[20 values with dtype=int16]</pre></div></li><li class='xr-var-item'><div class='xr-var-name'><span>Scan_Start_Time</span></div><div class='xr-var-dims'>(Cell_Along_Swath, Cell_Across_Swath)</div><div class='xr-var-dtype'>datetime64[ns]</div><div class='xr-var-preview xr-preview'>...</div><input id='attrs-8fff5334-48dc-4d02-91da-2ed118441b3c' class='xr-var-attrs-in' type='checkbox' ><label for='attrs-8fff5334-48dc-4d02-91da-2ed118441b3c' title='Show/Hide attributes'><svg class='icon xr-icon-file-text2'><use xlink:href='#icon-file-text2'></use></svg></label><input id='data-b0bf6395-7b20-40f5-b589-fc4f5ef34870' class='xr-var-data-in' type='checkbox'><label for='data-b0bf6395-7b20-40f5-b589-fc4f5ef34870' title='Show/Hide data repr'><svg class='icon xr-icon-database'><use xlink:href='#icon-database'></use></svg></label><div class='xr-var-attrs'><dl class='xr-attrs'><dt><span>valid_range :</span></dt><dd>[0.00000000e+00 3.15580006e+09]</dd><dt><span>long_name :</span></dt><dd>TAI time at start of scan replicated across the swath</dd><dt><span>Parameter_Type :</span></dt><dd>MODIS Input</dd><dt><span>Cell_Along_Swath_Sampling :</span></dt><dd>[   3 2028    5]</dd><dt><span>Cell_Across_Swath_Sampling :</span></dt><dd>[   3 1348    5]</dd><dt><span>Geolocation_Pointer :</span></dt><dd>Internal geolocation arrays</dd></dl></div><div class='xr-var-data'><pre>[109620 values with dtype=datetime64[ns]]</pre></div></li><li class='xr-var-item'><div class='xr-var-name'><span>Solar_Zenith</span></div><div class='xr-var-dims'>(Cell_Along_Swath, Cell_Across_Swath)</div><div class='xr-var-dtype'>float64</div><div class='xr-var-preview xr-preview'>...</div><input id='attrs-c364b643-4676-4cca-9436-0ea5a2a55d37' class='xr-var-attrs-in' type='checkbox' ><label for='attrs-c364b643-4676-4cca-9436-0ea5a2a55d37' title='Show/Hide attributes'><svg class='icon xr-icon-file-text2'><use xlink:href='#icon-file-text2'></use></svg></label><input id='data-4589493b-a267-42d3-b148-df298243f7e3' class='xr-var-data-in' type='checkbox'><label for='data-4589493b-a267-42d3-b148-df298243f7e3' title='Show/Hide data repr'><svg class='icon xr-icon-database'><use xlink:href='#icon-database'></use></svg></label><div class='xr-var-attrs'><dl class='xr-attrs'><dt><span>valid_range :</span></dt><dd>[    0 18000]</dd><dt><span>long_name :</span></dt><dd>Solar Zenith Angle, Cell to Sun</dd><dt><span>units :</span></dt><dd>degrees</dd><dt><span>Parameter_Type :</span></dt><dd>MODIS Input</dd><dt><span>Cell_Along_Swath_Sampling :</span></dt><dd>[   3 2028    5]</dd><dt><span>Cell_Across_Swath_Sampling :</span></dt><dd>[   3 1348    5]</dd><dt><span>Geolocation_Pointer :</span></dt><dd>Internal geolocation arrays</dd></dl></div><div class='xr-var-data'><pre>[109620 values with dtype=float64]</pre></div></li><li class='xr-var-item'><div class='xr-var-name'><span>Solar_Azimuth</span></div><div class='xr-var-dims'>(Cell_Along_Swath, Cell_Across_Swath)</div><div class='xr-var-dtype'>float64</div><div class='xr-var-preview xr-preview'>...</div><input id='attrs-3ef96920-5edc-4a1c-b94a-f04dcf61970a' class='xr-var-attrs-in' type='checkbox' ><label for='attrs-3ef96920-5edc-4a1c-b94a-f04dcf61970a' title='Show/Hide attributes'><svg class='icon xr-icon-file-text2'><use xlink:href='#icon-file-text2'></use></svg></label><input id='data-d81d0352-585a-452e-a271-e7a8a32c6795' class='xr-var-data-in' type='checkbox'><label for='data-d81d0352-585a-452e-a271-e7a8a32c6795' title='Show/Hide data repr'><svg class='icon xr-icon-database'><use xlink:href='#icon-database'></use></svg></label><div class='xr-var-attrs'><dl class='xr-attrs'><dt><span>valid_range :</span></dt><dd>[-18000  18000]</dd><dt><span>long_name :</span></dt><dd>Solar Azimuth Angle, Cell to Sun</dd><dt><span>units :</span></dt><dd>degrees</dd><dt><span>Parameter_Type :</span></dt><dd>MODIS Input</dd><dt><span>Cell_Along_Swath_Sampling :</span></dt><dd>[   3 2028    5]</dd><dt><span>Cell_Across_Swath_Sampling :</span></dt><dd>[   3 1348    5]</dd><dt><span>Geolocation_Pointer :</span></dt><dd>Internal geolocation arrays</dd></dl></div><div class='xr-var-data'><pre>[109620 values with dtype=float64]</pre></div></li><li class='xr-var-item'><div class='xr-var-name'><span>Sensor_Zenith</span></div><div class='xr-var-dims'>(Cell_Along_Swath, Cell_Across_Swath)</div><div class='xr-var-dtype'>float64</div><div class='xr-var-preview xr-preview'>...</div><input id='attrs-0e7b7061-1960-4576-8530-4ecdeb004509' class='xr-var-attrs-in' type='checkbox' ><label for='attrs-0e7b7061-1960-4576-8530-4ecdeb004509' title='Show/Hide attributes'><svg class='icon xr-icon-file-text2'><use xlink:href='#icon-file-text2'></use></svg></label><input id='data-2706210d-3188-4561-920b-a61bf9098aa3' class='xr-var-data-in' type='checkbox'><label for='data-2706210d-3188-4561-920b-a61bf9098aa3' title='Show/Hide data repr'><svg class='icon xr-icon-database'><use xlink:href='#icon-database'></use></svg></label><div class='xr-var-attrs'><dl class='xr-attrs'><dt><span>valid_range :</span></dt><dd>[    0 18000]</dd><dt><span>long_name :</span></dt><dd>Sensor Zenith Angle, Cell to Sensor</dd><dt><span>units :</span></dt><dd>degrees</dd><dt><span>Parameter_Type :</span></dt><dd>MODIS Input</dd><dt><span>Cell_Along_Swath_Sampling :</span></dt><dd>[   3 2028    5]</dd><dt><span>Cell_Across_Swath_Sampling :</span></dt><dd>[   3 1348    5]</dd><dt><span>Geolocation_Pointer :</span></dt><dd>Internal geolocation arrays</dd></dl></div><div class='xr-var-data'><pre>[109620 values with dtype=float64]</pre></div></li><li class='xr-var-item'><div class='xr-var-name'><span>Sensor_Azimuth</span></div><div class='xr-var-dims'>(Cell_Along_Swath, Cell_Across_Swath)</div><div class='xr-var-dtype'>float64</div><div class='xr-var-preview xr-preview'>...</div><input id='attrs-c60141e2-5dfd-40fb-aa63-dbef8ff0a300' class='xr-var-attrs-in' type='checkbox' ><label for='attrs-c60141e2-5dfd-40fb-aa63-dbef8ff0a300' title='Show/Hide attributes'><svg class='icon xr-icon-file-text2'><use xlink:href='#icon-file-text2'></use></svg></label><input id='data-20d474cf-fbdd-45a8-bbf7-ca228d19831a' class='xr-var-data-in' type='checkbox'><label for='data-20d474cf-fbdd-45a8-bbf7-ca228d19831a' title='Show/Hide data repr'><svg class='icon xr-icon-database'><use xlink:href='#icon-database'></use></svg></label><div class='xr-var-attrs'><dl class='xr-attrs'><dt><span>valid_range :</span></dt><dd>[-18000  18000]</dd><dt><span>long_name :</span></dt><dd>Sensor Azimuth Angle, Cell to Sensor</dd><dt><span>units :</span></dt><dd>degrees</dd><dt><span>Parameter_Type :</span></dt><dd>MODIS Input</dd><dt><span>Cell_Along_Swath_Sampling :</span></dt><dd>[   3 2028    5]</dd><dt><span>Cell_Across_Swath_Sampling :</span></dt><dd>[   3 1348    5]</dd><dt><span>Geolocation_Pointer :</span></dt><dd>Internal geolocation arrays</dd></dl></div><div class='xr-var-data'><pre>[109620 values with dtype=float64]</pre></div></li><li class='xr-var-item'><div class='xr-var-name'><span>Brightness_Temperature</span></div><div class='xr-var-dims'>(Band_Number, Cell_Along_Swath, Cell_Across_Swath)</div><div class='xr-var-dtype'>float64</div><div class='xr-var-preview xr-preview'>...</div><input id='attrs-008355f1-6736-4401-bdcc-76c80116a32f' class='xr-var-attrs-in' type='checkbox' ><label for='attrs-008355f1-6736-4401-bdcc-76c80116a32f' title='Show/Hide attributes'><svg class='icon xr-icon-file-text2'><use xlink:href='#icon-file-text2'></use></svg></label><input id='data-ae40c669-cf7c-49f6-928b-dd31bf339ae9' class='xr-var-data-in' type='checkbox'><label for='data-ae40c669-cf7c-49f6-928b-dd31bf339ae9' title='Show/Hide data repr'><svg class='icon xr-icon-database'><use xlink:href='#icon-database'></use></svg></label><div class='xr-var-attrs'><dl class='xr-attrs'><dt><span>valid_range :</span></dt><dd>[    0 20000]</dd><dt><span>long_name :</span></dt><dd>Brightness Temperature</dd><dt><span>units :</span></dt><dd>K</dd><dt><span>Parameter_Type :</span></dt><dd>MODIS Input</dd><dt><span>Cell_Along_Swath_Sampling :</span></dt><dd>[   3 2028    5]</dd><dt><span>Cell_Across_Swath_Sampling :</span></dt><dd>[   3 1348    5]</dd><dt><span>Geolocation_Pointer :</span></dt><dd>Internal geolocation arrays</dd></dl></div><div class='xr-var-data'><pre>[1315440 values with dtype=float64]</pre></div></li><li class='xr-var-item'><div class='xr-var-name'><span>Cloud_Mask</span></div><div class='xr-var-dims'>(Cell_Along_Swath, Cell_Across_Swath)</div><div class='xr-var-dtype'>float64</div><div class='xr-var-preview xr-preview'>...</div><input id='attrs-7bc6a242-8a02-47d7-bb7a-fb061d133699' class='xr-var-attrs-in' type='checkbox' ><label for='attrs-7bc6a242-8a02-47d7-bb7a-fb061d133699' title='Show/Hide attributes'><svg class='icon xr-icon-file-text2'><use xlink:href='#icon-file-text2'></use></svg></label><input id='data-9b57a9e8-3e81-450d-873f-0935778e92cf' class='xr-var-data-in' type='checkbox'><label for='data-9b57a9e8-3e81-450d-873f-0935778e92cf' title='Show/Hide data repr'><svg class='icon xr-icon-database'><use xlink:href='#icon-database'></use></svg></label><div class='xr-var-attrs'><dl class='xr-attrs'><dt><span>valid_range :</span></dt><dd>[ 0 -1]</dd><dt><span>long_name :</span></dt><dd>MODIS Cloud Mask, First Byte</dd><dt><span>units :</span></dt><dd>none</dd><dt><span>Parameter_Type :</span></dt><dd>MODIS Input</dd><dt><span>Cell_Along_Swath_Sampling :</span></dt><dd>[   3 2028    5]</dd><dt><span>Cell_Across_Swath_Sampling :</span></dt><dd>[   3 1348    5]</dd><dt><span>Geolocation_Pointer :</span></dt><dd>Internal geolocation arrays</dd><dt><span>description :</span></dt><dd>\\n                                                                                  \n",
       "                                                                                    \n",
       " Bit fields within each byte are numbered from the left:                            \n",
       " 7, 6, 5, 4, 3, 2, 1, 0.                                                            \n",
       " The left-most bit (bit 7) is the most significant bit.                             \n",
       " The right-most bit (bit 0) is the least significant bit.                           \n",
       "                                                                                    \n",
       " bit field       Description                             Key                        \n",
       " ---------       -----------                             ---                        \n",
       "                                                                                    \n",
       " 0               Cloud Mask Flag                      0 = Not  determined           \n",
       "                                                      1 = Determined                \n",
       "                                                                                    \n",
       " 2, 1            Unobstructed FOV Quality Flag        00 = Cloudy                   \n",
       "                                                      01 = Uncertain                \n",
       "                                                      10 = Probably  Clear          \n",
       "                                                      11 = Confident  Clear         \n",
       "                 PROCESSING PATH                                                    \n",
       "                 ---------------                                                    \n",
       " 3               Day or Night Path                    0 = Night  / 1 = Day          \n",
       " 4               Sunglint Path                        0 = Yes    / 1 = No           \n",
       " 5               Snow/Ice Background Path             0 = Yes    / 1 = No           \n",
       " 7, 6            Land or Water Path                   00 = Water                    \n",
       "                                                      01 = Coastal                  \n",
       "                                                      10 = Desert                   \n",
       "                                                      11 = Land                     \n",
       "</dd></dl></div><div class='xr-var-data'><pre>[109620 values with dtype=float64]</pre></div></li><li class='xr-var-item'><div class='xr-var-name'><span>Skin_Temperature</span></div><div class='xr-var-dims'>(Cell_Along_Swath, Cell_Across_Swath)</div><div class='xr-var-dtype'>float64</div><div class='xr-var-preview xr-preview'>...</div><input id='attrs-16ed8508-a3ce-4e25-a366-07be6685c7bd' class='xr-var-attrs-in' type='checkbox' ><label for='attrs-16ed8508-a3ce-4e25-a366-07be6685c7bd' title='Show/Hide attributes'><svg class='icon xr-icon-file-text2'><use xlink:href='#icon-file-text2'></use></svg></label><input id='data-ec0cbf05-2f5b-4052-be0a-b687447bfbec' class='xr-var-data-in' type='checkbox'><label for='data-ec0cbf05-2f5b-4052-be0a-b687447bfbec' title='Show/Hide data repr'><svg class='icon xr-icon-database'><use xlink:href='#icon-database'></use></svg></label><div class='xr-var-attrs'><dl class='xr-attrs'><dt><span>valid_range :</span></dt><dd>[    0 20000]</dd><dt><span>long_name :</span></dt><dd>Skin Temperature</dd><dt><span>units :</span></dt><dd>K</dd><dt><span>Parameter_Type :</span></dt><dd>Output</dd><dt><span>Cell_Along_Swath_Sampling :</span></dt><dd>[   3 2028    5]</dd><dt><span>Cell_Across_Swath_Sampling :</span></dt><dd>[   3 1348    5]</dd><dt><span>Geolocation_Pointer :</span></dt><dd>Internal geolocation arrays</dd></dl></div><div class='xr-var-data'><pre>[109620 values with dtype=float64]</pre></div></li><li class='xr-var-item'><div class='xr-var-name'><span>Surface_Pressure</span></div><div class='xr-var-dims'>(Cell_Along_Swath, Cell_Across_Swath)</div><div class='xr-var-dtype'>float64</div><div class='xr-var-preview xr-preview'>...</div><input id='attrs-3637135d-2925-4df1-9473-fd6611a4a5ab' class='xr-var-attrs-in' type='checkbox' ><label for='attrs-3637135d-2925-4df1-9473-fd6611a4a5ab' title='Show/Hide attributes'><svg class='icon xr-icon-file-text2'><use xlink:href='#icon-file-text2'></use></svg></label><input id='data-66d536de-7aa3-420d-af3c-08f680ca3335' class='xr-var-data-in' type='checkbox'><label for='data-66d536de-7aa3-420d-af3c-08f680ca3335' title='Show/Hide data repr'><svg class='icon xr-icon-database'><use xlink:href='#icon-database'></use></svg></label><div class='xr-var-attrs'><dl class='xr-attrs'><dt><span>valid_range :</span></dt><dd>[ 8000 11000]</dd><dt><span>long_name :</span></dt><dd>Surface Pressure</dd><dt><span>units :</span></dt><dd>hPa</dd><dt><span>Parameter_Type :</span></dt><dd>Non MODIS Input</dd><dt><span>Cell_Along_Swath_Sampling :</span></dt><dd>[   3 2028    5]</dd><dt><span>Cell_Across_Swath_Sampling :</span></dt><dd>[   3 1348    5]</dd><dt><span>Geolocation_Pointer :</span></dt><dd>Internal geolocation arrays</dd></dl></div><div class='xr-var-data'><pre>[109620 values with dtype=float64]</pre></div></li><li class='xr-var-item'><div class='xr-var-name'><span>Surface_Elevation</span></div><div class='xr-var-dims'>(Cell_Along_Swath, Cell_Across_Swath)</div><div class='xr-var-dtype'>float64</div><div class='xr-var-preview xr-preview'>...</div><input id='attrs-de3d5b32-153c-4a1e-89d8-c9507af4b4d6' class='xr-var-attrs-in' type='checkbox' ><label for='attrs-de3d5b32-153c-4a1e-89d8-c9507af4b4d6' title='Show/Hide attributes'><svg class='icon xr-icon-file-text2'><use xlink:href='#icon-file-text2'></use></svg></label><input id='data-3ea41d7b-7254-4243-9e58-e0c31902aa7f' class='xr-var-data-in' type='checkbox'><label for='data-3ea41d7b-7254-4243-9e58-e0c31902aa7f' title='Show/Hide data repr'><svg class='icon xr-icon-database'><use xlink:href='#icon-database'></use></svg></label><div class='xr-var-attrs'><dl class='xr-attrs'><dt><span>valid_range :</span></dt><dd>[-400 8840]</dd><dt><span>long_name :</span></dt><dd>Surface Elevation</dd><dt><span>units :</span></dt><dd>m</dd><dt><span>Parameter_Type :</span></dt><dd>Non MODIS Input</dd><dt><span>Cell_Along_Swath_Sampling :</span></dt><dd>[   3 2028    5]</dd><dt><span>Cell_Across_Swath_Sampling :</span></dt><dd>[   3 1348    5]</dd><dt><span>Geolocation_Pointer :</span></dt><dd>Internal geolocation arrays</dd></dl></div><div class='xr-var-data'><pre>[109620 values with dtype=float64]</pre></div></li><li class='xr-var-item'><div class='xr-var-name'><span>Processing_Flag</span></div><div class='xr-var-dims'>(Cell_Along_Swath, Cell_Across_Swath)</div><div class='xr-var-dtype'>float64</div><div class='xr-var-preview xr-preview'>...</div><input id='attrs-03b5487c-8e88-4d74-944b-24293e06b03a' class='xr-var-attrs-in' type='checkbox' ><label for='attrs-03b5487c-8e88-4d74-944b-24293e06b03a' title='Show/Hide attributes'><svg class='icon xr-icon-file-text2'><use xlink:href='#icon-file-text2'></use></svg></label><input id='data-0b376055-9b28-4d46-aae7-2e7d8933d1cf' class='xr-var-data-in' type='checkbox'><label for='data-0b376055-9b28-4d46-aae7-2e7d8933d1cf' title='Show/Hide data repr'><svg class='icon xr-icon-database'><use xlink:href='#icon-database'></use></svg></label><div class='xr-var-attrs'><dl class='xr-attrs'><dt><span>valid_range :</span></dt><dd>[0 1]</dd><dt><span>long_name :</span></dt><dd>Processing Flag</dd><dt><span>units :</span></dt><dd>none</dd><dt><span>Parameter_Type :</span></dt><dd>Output</dd><dt><span>Cell_Along_Swath_Sampling :</span></dt><dd>[   3 2028    5]</dd><dt><span>Cell_Across_Swath_Sampling :</span></dt><dd>[   3 1348    5]</dd><dt><span>Geolocation_Pointer :</span></dt><dd>Internal geolocation arrays</dd></dl></div><div class='xr-var-data'><pre>[109620 values with dtype=float64]</pre></div></li><li class='xr-var-item'><div class='xr-var-name'><span>Tropopause_Height</span></div><div class='xr-var-dims'>(Cell_Along_Swath, Cell_Across_Swath)</div><div class='xr-var-dtype'>float64</div><div class='xr-var-preview xr-preview'>...</div><input id='attrs-28f92584-a326-45fb-bc60-3a7f3a656819' class='xr-var-attrs-in' type='checkbox' ><label for='attrs-28f92584-a326-45fb-bc60-3a7f3a656819' title='Show/Hide attributes'><svg class='icon xr-icon-file-text2'><use xlink:href='#icon-file-text2'></use></svg></label><input id='data-aa1e0d1c-ca27-4395-af9b-62057a21600c' class='xr-var-data-in' type='checkbox'><label for='data-aa1e0d1c-ca27-4395-af9b-62057a21600c' title='Show/Hide data repr'><svg class='icon xr-icon-database'><use xlink:href='#icon-database'></use></svg></label><div class='xr-var-attrs'><dl class='xr-attrs'><dt><span>valid_range :</span></dt><dd>[   10 11000]</dd><dt><span>long_name :</span></dt><dd>Tropopause Height</dd><dt><span>units :</span></dt><dd>hPa</dd><dt><span>Parameter_Type :</span></dt><dd>Output</dd><dt><span>Cell_Along_Swath_Sampling :</span></dt><dd>[   3 2028    5]</dd><dt><span>Cell_Across_Swath_Sampling :</span></dt><dd>[   3 1348    5]</dd><dt><span>Geolocation_Pointer :</span></dt><dd>Internal geolocation arrays</dd></dl></div><div class='xr-var-data'><pre>[109620 values with dtype=float64]</pre></div></li><li class='xr-var-item'><div class='xr-var-name'><span>Guess_Temperature_Profile</span></div><div class='xr-var-dims'>(Pressure_Level, Cell_Along_Swath, Cell_Across_Swath)</div><div class='xr-var-dtype'>float64</div><div class='xr-var-preview xr-preview'>...</div><input id='attrs-2fafb3a6-a529-498d-9dbd-56f6fddae3ed' class='xr-var-attrs-in' type='checkbox' ><label for='attrs-2fafb3a6-a529-498d-9dbd-56f6fddae3ed' title='Show/Hide attributes'><svg class='icon xr-icon-file-text2'><use xlink:href='#icon-file-text2'></use></svg></label><input id='data-6dece250-50dc-41f9-8ae7-31b9ec089625' class='xr-var-data-in' type='checkbox'><label for='data-6dece250-50dc-41f9-8ae7-31b9ec089625' title='Show/Hide data repr'><svg class='icon xr-icon-database'><use xlink:href='#icon-database'></use></svg></label><div class='xr-var-attrs'><dl class='xr-attrs'><dt><span>valid_range :</span></dt><dd>[    0 20000]</dd><dt><span>long_name :</span></dt><dd>Guess Temperature Profile</dd><dt><span>units :</span></dt><dd>K</dd><dt><span>Parameter_Type :</span></dt><dd>Non MODIS Input</dd><dt><span>Cell_Along_Swath_Sampling :</span></dt><dd>[   3 2028    5]</dd><dt><span>Cell_Across_Swath_Sampling :</span></dt><dd>[   3 1348    5]</dd><dt><span>Geolocation_Pointer :</span></dt><dd>Internal geolocation arrays</dd></dl></div><div class='xr-var-data'><pre>[2192400 values with dtype=float64]</pre></div></li><li class='xr-var-item'><div class='xr-var-name'><span>Guess_Moisture_Profile</span></div><div class='xr-var-dims'>(Pressure_Level, Cell_Along_Swath, Cell_Across_Swath)</div><div class='xr-var-dtype'>float64</div><div class='xr-var-preview xr-preview'>...</div><input id='attrs-49382f10-33a0-4c9b-b67f-9153d72767db' class='xr-var-attrs-in' type='checkbox' ><label for='attrs-49382f10-33a0-4c9b-b67f-9153d72767db' title='Show/Hide attributes'><svg class='icon xr-icon-file-text2'><use xlink:href='#icon-file-text2'></use></svg></label><input id='data-80d0b950-4e8b-4e95-9e15-ddcc9a93f14e' class='xr-var-data-in' type='checkbox'><label for='data-80d0b950-4e8b-4e95-9e15-ddcc9a93f14e' title='Show/Hide data repr'><svg class='icon xr-icon-database'><use xlink:href='#icon-database'></use></svg></label><div class='xr-var-attrs'><dl class='xr-attrs'><dt><span>valid_range :</span></dt><dd>[    0 20000]</dd><dt><span>long_name :</span></dt><dd>Guess Mixing ratio Profile</dd><dt><span>units :</span></dt><dd>g/kg</dd><dt><span>Parameter_Type :</span></dt><dd>Non MODIS Input</dd><dt><span>Cell_Along_Swath_Sampling :</span></dt><dd>[   3 2028    5]</dd><dt><span>Cell_Across_Swath_Sampling :</span></dt><dd>[   3 1348    5]</dd><dt><span>Geolocation_Pointer :</span></dt><dd>Internal geolocation arrays</dd></dl></div><div class='xr-var-data'><pre>[2192400 values with dtype=float64]</pre></div></li><li class='xr-var-item'><div class='xr-var-name'><span>Retrieved_Temperature_Profile</span></div><div class='xr-var-dims'>(Pressure_Level, Cell_Along_Swath, Cell_Across_Swath)</div><div class='xr-var-dtype'>float64</div><div class='xr-var-preview xr-preview'>...</div><input id='attrs-8400cf45-3f5c-4104-ab88-890e0fc9c5ba' class='xr-var-attrs-in' type='checkbox' ><label for='attrs-8400cf45-3f5c-4104-ab88-890e0fc9c5ba' title='Show/Hide attributes'><svg class='icon xr-icon-file-text2'><use xlink:href='#icon-file-text2'></use></svg></label><input id='data-70165b50-3059-4b88-9b8c-0ed262154a8b' class='xr-var-data-in' type='checkbox'><label for='data-70165b50-3059-4b88-9b8c-0ed262154a8b' title='Show/Hide data repr'><svg class='icon xr-icon-database'><use xlink:href='#icon-database'></use></svg></label><div class='xr-var-attrs'><dl class='xr-attrs'><dt><span>valid_range :</span></dt><dd>[    0 20000]</dd><dt><span>long_name :</span></dt><dd>Retrieved Temperature Profile</dd><dt><span>units :</span></dt><dd>K</dd><dt><span>Parameter_Type :</span></dt><dd>MODIS Ouput</dd><dt><span>Cell_Along_Swath_Sampling :</span></dt><dd>[   3 2028    5]</dd><dt><span>Cell_Across_Swath_Sampling :</span></dt><dd>[   3 1348    5]</dd><dt><span>Geolocation_Pointer :</span></dt><dd>Internal geolocation arrays</dd></dl></div><div class='xr-var-data'><pre>[2192400 values with dtype=float64]</pre></div></li><li class='xr-var-item'><div class='xr-var-name'><span>Retrieved_Moisture_Profile</span></div><div class='xr-var-dims'>(Pressure_Level, Cell_Along_Swath, Cell_Across_Swath)</div><div class='xr-var-dtype'>float64</div><div class='xr-var-preview xr-preview'>...</div><input id='attrs-a74c7455-078f-4032-9ca8-15992acbee74' class='xr-var-attrs-in' type='checkbox' ><label for='attrs-a74c7455-078f-4032-9ca8-15992acbee74' title='Show/Hide attributes'><svg class='icon xr-icon-file-text2'><use xlink:href='#icon-file-text2'></use></svg></label><input id='data-452f5508-cf5a-4afa-9f71-3bd5eec6bcf6' class='xr-var-data-in' type='checkbox'><label for='data-452f5508-cf5a-4afa-9f71-3bd5eec6bcf6' title='Show/Hide data repr'><svg class='icon xr-icon-database'><use xlink:href='#icon-database'></use></svg></label><div class='xr-var-attrs'><dl class='xr-attrs'><dt><span>valid_range :</span></dt><dd>[    0 20000]</dd><dt><span>long_name :</span></dt><dd>Retrieved Dew Point Temperature Profile</dd><dt><span>units :</span></dt><dd>K</dd><dt><span>Parameter_Type :</span></dt><dd>MODIS Output</dd><dt><span>Cell_Along_Swath_Sampling :</span></dt><dd>[   3 2028    5]</dd><dt><span>Cell_Across_Swath_Sampling :</span></dt><dd>[   3 1348    5]</dd><dt><span>Geolocation_Pointer :</span></dt><dd>Internal geolocation arrays</dd></dl></div><div class='xr-var-data'><pre>[2192400 values with dtype=float64]</pre></div></li><li class='xr-var-item'><div class='xr-var-name'><span>Retrieved_WV_Mixing_Ratio_Profile</span></div><div class='xr-var-dims'>(Pressure_Level, Cell_Along_Swath, Cell_Across_Swath)</div><div class='xr-var-dtype'>float64</div><div class='xr-var-preview xr-preview'>...</div><input id='attrs-832e2d14-fde3-4a9e-b143-3c9714e16f7f' class='xr-var-attrs-in' type='checkbox' ><label for='attrs-832e2d14-fde3-4a9e-b143-3c9714e16f7f' title='Show/Hide attributes'><svg class='icon xr-icon-file-text2'><use xlink:href='#icon-file-text2'></use></svg></label><input id='data-4b99c38e-a8a5-4259-ba88-99ba2731d3fb' class='xr-var-data-in' type='checkbox'><label for='data-4b99c38e-a8a5-4259-ba88-99ba2731d3fb' title='Show/Hide data repr'><svg class='icon xr-icon-database'><use xlink:href='#icon-database'></use></svg></label><div class='xr-var-attrs'><dl class='xr-attrs'><dt><span>valid_range :</span></dt><dd>[    0 20000]</dd><dt><span>long_name :</span></dt><dd>Retrieved Water Vapour Mixing Ratio Profile</dd><dt><span>units :</span></dt><dd>g/kg</dd><dt><span>Parameter_Type :</span></dt><dd>MODIS Output</dd><dt><span>Cell_Along_Swath_Sampling :</span></dt><dd>[   3 2028    5]</dd><dt><span>Cell_Across_Swath_Sampling :</span></dt><dd>[   3 1348    5]</dd><dt><span>Geolocation_Pointer :</span></dt><dd>Internal geolocation arrays</dd></dl></div><div class='xr-var-data'><pre>[2192400 values with dtype=float64]</pre></div></li><li class='xr-var-item'><div class='xr-var-name'><span>Retrieved_Height_Profile</span></div><div class='xr-var-dims'>(Pressure_Level, Cell_Along_Swath, Cell_Across_Swath)</div><div class='xr-var-dtype'>float64</div><div class='xr-var-preview xr-preview'>...</div><input id='attrs-41dc2f4a-6587-4eaf-adda-015dd5a819a0' class='xr-var-attrs-in' type='checkbox' ><label for='attrs-41dc2f4a-6587-4eaf-adda-015dd5a819a0' title='Show/Hide attributes'><svg class='icon xr-icon-file-text2'><use xlink:href='#icon-file-text2'></use></svg></label><input id='data-372cc4ab-ff65-455b-8712-11f7ed6e8f77' class='xr-var-data-in' type='checkbox'><label for='data-372cc4ab-ff65-455b-8712-11f7ed6e8f77' title='Show/Hide data repr'><svg class='icon xr-icon-database'><use xlink:href='#icon-database'></use></svg></label><div class='xr-var-attrs'><dl class='xr-attrs'><dt><span>valid_range :</span></dt><dd>[-32500  32500]</dd><dt><span>long_name :</span></dt><dd>Retrieved Geopotential Height Profile</dd><dt><span>units :</span></dt><dd>m</dd><dt><span>Parameter_Type :</span></dt><dd>MODIS Output</dd><dt><span>Cell_Along_Swath_Sampling :</span></dt><dd>[   3 2028    5]</dd><dt><span>Cell_Across_Swath_Sampling :</span></dt><dd>[   3 1348    5]</dd><dt><span>Geolocation_Pointer :</span></dt><dd>Internal geolocation arrays</dd></dl></div><div class='xr-var-data'><pre>[2192400 values with dtype=float64]</pre></div></li><li class='xr-var-item'><div class='xr-var-name'><span>Total_Ozone</span></div><div class='xr-var-dims'>(Cell_Along_Swath, Cell_Across_Swath)</div><div class='xr-var-dtype'>float64</div><div class='xr-var-preview xr-preview'>...</div><input id='attrs-f19ba69a-e04a-4460-bdbc-6d77b6602dcf' class='xr-var-attrs-in' type='checkbox' ><label for='attrs-f19ba69a-e04a-4460-bdbc-6d77b6602dcf' title='Show/Hide attributes'><svg class='icon xr-icon-file-text2'><use xlink:href='#icon-file-text2'></use></svg></label><input id='data-ea9e218d-f0be-4953-8770-0a6360932e33' class='xr-var-data-in' type='checkbox'><label for='data-ea9e218d-f0be-4953-8770-0a6360932e33' title='Show/Hide data repr'><svg class='icon xr-icon-database'><use xlink:href='#icon-database'></use></svg></label><div class='xr-var-attrs'><dl class='xr-attrs'><dt><span>valid_range :</span></dt><dd>[   0 5000]</dd><dt><span>long_name :</span></dt><dd>Total Ozone Burden</dd><dt><span>units :</span></dt><dd>Dobson</dd><dt><span>Parameter_Type :</span></dt><dd>Output</dd><dt><span>Cell_Along_Swath_Sampling :</span></dt><dd>[   3 2028    5]</dd><dt><span>Cell_Across_Swath_Sampling :</span></dt><dd>[   3 1348    5]</dd><dt><span>Geolocation_Pointer :</span></dt><dd>Internal geolocation arrays</dd></dl></div><div class='xr-var-data'><pre>[109620 values with dtype=float64]</pre></div></li><li class='xr-var-item'><div class='xr-var-name'><span>Total_Totals</span></div><div class='xr-var-dims'>(Cell_Along_Swath, Cell_Across_Swath)</div><div class='xr-var-dtype'>float64</div><div class='xr-var-preview xr-preview'>...</div><input id='attrs-6b0eeaf0-d98f-43b5-bc32-dca05b94bfa4' class='xr-var-attrs-in' type='checkbox' ><label for='attrs-6b0eeaf0-d98f-43b5-bc32-dca05b94bfa4' title='Show/Hide attributes'><svg class='icon xr-icon-file-text2'><use xlink:href='#icon-file-text2'></use></svg></label><input id='data-b972fcca-b140-4022-b215-139518524071' class='xr-var-data-in' type='checkbox'><label for='data-b972fcca-b140-4022-b215-139518524071' title='Show/Hide data repr'><svg class='icon xr-icon-database'><use xlink:href='#icon-database'></use></svg></label><div class='xr-var-attrs'><dl class='xr-attrs'><dt><span>valid_range :</span></dt><dd>[   0 8000]</dd><dt><span>long_name :</span></dt><dd>Total Totals</dd><dt><span>units :</span></dt><dd>K</dd><dt><span>Parameter_Type :</span></dt><dd>Output</dd><dt><span>Cell_Along_Swath_Sampling :</span></dt><dd>[   3 2028    5]</dd><dt><span>Cell_Across_Swath_Sampling :</span></dt><dd>[   3 1348    5]</dd><dt><span>Geolocation_Pointer :</span></dt><dd>Internal geolocation arrays</dd></dl></div><div class='xr-var-data'><pre>[109620 values with dtype=float64]</pre></div></li><li class='xr-var-item'><div class='xr-var-name'><span>Lifted_Index</span></div><div class='xr-var-dims'>(Cell_Along_Swath, Cell_Across_Swath)</div><div class='xr-var-dtype'>float64</div><div class='xr-var-preview xr-preview'>...</div><input id='attrs-ee2fd9f1-7d25-45b4-9529-2c227355e92f' class='xr-var-attrs-in' type='checkbox' ><label for='attrs-ee2fd9f1-7d25-45b4-9529-2c227355e92f' title='Show/Hide attributes'><svg class='icon xr-icon-file-text2'><use xlink:href='#icon-file-text2'></use></svg></label><input id='data-1ac3d9a5-c805-4791-868f-1e6a720714ef' class='xr-var-data-in' type='checkbox'><label for='data-1ac3d9a5-c805-4791-868f-1e6a720714ef' title='Show/Hide data repr'><svg class='icon xr-icon-database'><use xlink:href='#icon-database'></use></svg></label><div class='xr-var-attrs'><dl class='xr-attrs'><dt><span>valid_range :</span></dt><dd>[-2000  4000]</dd><dt><span>long_name :</span></dt><dd>Lifted Index</dd><dt><span>units :</span></dt><dd>K</dd><dt><span>Parameter_Type :</span></dt><dd>Output</dd><dt><span>Cell_Along_Swath_Sampling :</span></dt><dd>[   3 2028    5]</dd><dt><span>Cell_Across_Swath_Sampling :</span></dt><dd>[   3 1348    5]</dd><dt><span>Geolocation_Pointer :</span></dt><dd>Internal geolocation arrays</dd></dl></div><div class='xr-var-data'><pre>[109620 values with dtype=float64]</pre></div></li><li class='xr-var-item'><div class='xr-var-name'><span>K_Index</span></div><div class='xr-var-dims'>(Cell_Along_Swath, Cell_Across_Swath)</div><div class='xr-var-dtype'>float64</div><div class='xr-var-preview xr-preview'>...</div><input id='attrs-95752c77-9132-4983-a605-20286376f6ca' class='xr-var-attrs-in' type='checkbox' ><label for='attrs-95752c77-9132-4983-a605-20286376f6ca' title='Show/Hide attributes'><svg class='icon xr-icon-file-text2'><use xlink:href='#icon-file-text2'></use></svg></label><input id='data-ebcddb2c-179f-40d7-8c43-b22a1143cc3a' class='xr-var-data-in' type='checkbox'><label for='data-ebcddb2c-179f-40d7-8c43-b22a1143cc3a' title='Show/Hide data repr'><svg class='icon xr-icon-database'><use xlink:href='#icon-database'></use></svg></label><div class='xr-var-attrs'><dl class='xr-attrs'><dt><span>valid_range :</span></dt><dd>[11500 20000]</dd><dt><span>long_name :</span></dt><dd>K_Index</dd><dt><span>units :</span></dt><dd>K</dd><dt><span>Parameter_Type :</span></dt><dd>Output</dd><dt><span>Cell_Along_Swath_Sampling :</span></dt><dd>[   3 2028    5]</dd><dt><span>Cell_Across_Swath_Sampling :</span></dt><dd>[   3 1348    5]</dd><dt><span>Geolocation_Pointer :</span></dt><dd>Internal geolocation arrays</dd></dl></div><div class='xr-var-data'><pre>[109620 values with dtype=float64]</pre></div></li><li class='xr-var-item'><div class='xr-var-name'><span>Water_Vapor</span></div><div class='xr-var-dims'>(Cell_Along_Swath, Cell_Across_Swath)</div><div class='xr-var-dtype'>float64</div><div class='xr-var-preview xr-preview'>...</div><input id='attrs-0d761ee2-bf98-468e-a093-d6fc708c3e03' class='xr-var-attrs-in' type='checkbox' ><label for='attrs-0d761ee2-bf98-468e-a093-d6fc708c3e03' title='Show/Hide attributes'><svg class='icon xr-icon-file-text2'><use xlink:href='#icon-file-text2'></use></svg></label><input id='data-d24242f9-c59c-431f-bd5e-cb27f64c46f5' class='xr-var-data-in' type='checkbox'><label for='data-d24242f9-c59c-431f-bd5e-cb27f64c46f5' title='Show/Hide data repr'><svg class='icon xr-icon-database'><use xlink:href='#icon-database'></use></svg></label><div class='xr-var-attrs'><dl class='xr-attrs'><dt><span>valid_range :</span></dt><dd>[    0 20000]</dd><dt><span>long_name :</span></dt><dd>Total Column Precipitable Water Vapor - IR Retrieval</dd><dt><span>units :</span></dt><dd>cm</dd><dt><span>Parameter_Type :</span></dt><dd>Output</dd><dt><span>Cell_Along_Swath_Sampling :</span></dt><dd>[   3 2028    5]</dd><dt><span>Cell_Across_Swath_Sampling :</span></dt><dd>[   3 1348    5]</dd><dt><span>Geolocation_Pointer :</span></dt><dd>Internal geolocation arrays</dd></dl></div><div class='xr-var-data'><pre>[109620 values with dtype=float64]</pre></div></li><li class='xr-var-item'><div class='xr-var-name'><span>Water_Vapor_Direct</span></div><div class='xr-var-dims'>(Cell_Along_Swath, Cell_Across_Swath)</div><div class='xr-var-dtype'>float64</div><div class='xr-var-preview xr-preview'>...</div><input id='attrs-b1f7f44d-811f-4c79-8426-c986563bcfb2' class='xr-var-attrs-in' type='checkbox' ><label for='attrs-b1f7f44d-811f-4c79-8426-c986563bcfb2' title='Show/Hide attributes'><svg class='icon xr-icon-file-text2'><use xlink:href='#icon-file-text2'></use></svg></label><input id='data-f62ac7cc-85f5-4386-bc4d-8f498c724fe5' class='xr-var-data-in' type='checkbox'><label for='data-f62ac7cc-85f5-4386-bc4d-8f498c724fe5' title='Show/Hide data repr'><svg class='icon xr-icon-database'><use xlink:href='#icon-database'></use></svg></label><div class='xr-var-attrs'><dl class='xr-attrs'><dt><span>valid_range :</span></dt><dd>[    0 20000]</dd><dt><span>long_name :</span></dt><dd>Total Column Precipitable Water Vapor - Direct IR Retrieval</dd><dt><span>units :</span></dt><dd>cm</dd><dt><span>Parameter_Type :</span></dt><dd>Output</dd><dt><span>Cell_Along_Swath_Sampling :</span></dt><dd>[   3 2028    5]</dd><dt><span>Cell_Across_Swath_Sampling :</span></dt><dd>[   3 1348    5]</dd><dt><span>Geolocation_Pointer :</span></dt><dd>Internal geolocation arrays</dd></dl></div><div class='xr-var-data'><pre>[109620 values with dtype=float64]</pre></div></li><li class='xr-var-item'><div class='xr-var-name'><span>Water_Vapor_Low</span></div><div class='xr-var-dims'>(Cell_Along_Swath, Cell_Across_Swath)</div><div class='xr-var-dtype'>float64</div><div class='xr-var-preview xr-preview'>...</div><input id='attrs-ae5e9b70-24d3-4208-a359-dd2355e5a351' class='xr-var-attrs-in' type='checkbox' ><label for='attrs-ae5e9b70-24d3-4208-a359-dd2355e5a351' title='Show/Hide attributes'><svg class='icon xr-icon-file-text2'><use xlink:href='#icon-file-text2'></use></svg></label><input id='data-6cc2c1be-e864-4385-a22c-540c935c0e3c' class='xr-var-data-in' type='checkbox'><label for='data-6cc2c1be-e864-4385-a22c-540c935c0e3c' title='Show/Hide data repr'><svg class='icon xr-icon-database'><use xlink:href='#icon-database'></use></svg></label><div class='xr-var-attrs'><dl class='xr-attrs'><dt><span>valid_range :</span></dt><dd>[    0 20000]</dd><dt><span>long_name :</span></dt><dd>Precipitable Water Vapor Low - IR Retrieval</dd><dt><span>units :</span></dt><dd>cm</dd><dt><span>Parameter_Type :</span></dt><dd>Output</dd><dt><span>Cell_Along_Swath_Sampling :</span></dt><dd>[   3 2028    5]</dd><dt><span>Cell_Across_Swath_Sampling :</span></dt><dd>[   3 1348    5]</dd><dt><span>Geolocation_Pointer :</span></dt><dd>Internal geolocation arrays</dd></dl></div><div class='xr-var-data'><pre>[109620 values with dtype=float64]</pre></div></li><li class='xr-var-item'><div class='xr-var-name'><span>Water_Vapor_High</span></div><div class='xr-var-dims'>(Cell_Along_Swath, Cell_Across_Swath)</div><div class='xr-var-dtype'>float64</div><div class='xr-var-preview xr-preview'>...</div><input id='attrs-305dc8db-fc9b-41ab-a388-a6bd4109b5ba' class='xr-var-attrs-in' type='checkbox' ><label for='attrs-305dc8db-fc9b-41ab-a388-a6bd4109b5ba' title='Show/Hide attributes'><svg class='icon xr-icon-file-text2'><use xlink:href='#icon-file-text2'></use></svg></label><input id='data-0fdb6453-a12d-4e84-ac0b-9bea692386d7' class='xr-var-data-in' type='checkbox'><label for='data-0fdb6453-a12d-4e84-ac0b-9bea692386d7' title='Show/Hide data repr'><svg class='icon xr-icon-database'><use xlink:href='#icon-database'></use></svg></label><div class='xr-var-attrs'><dl class='xr-attrs'><dt><span>valid_range :</span></dt><dd>[    0 20000]</dd><dt><span>long_name :</span></dt><dd>Precipitable Water Vapor High - IR Retrieval</dd><dt><span>units :</span></dt><dd>cm</dd><dt><span>Parameter_Type :</span></dt><dd>Output</dd><dt><span>Cell_Along_Swath_Sampling :</span></dt><dd>[   3 2028    5]</dd><dt><span>Cell_Across_Swath_Sampling :</span></dt><dd>[   3 1348    5]</dd><dt><span>Geolocation_Pointer :</span></dt><dd>Internal geolocation arrays</dd></dl></div><div class='xr-var-data'><pre>[109620 values with dtype=float64]</pre></div></li><li class='xr-var-item'><div class='xr-var-name'><span>Quality_Assurance</span></div><div class='xr-var-dims'>(Cell_Along_Swath, Cell_Across_Swath, Output_Parameter)</div><div class='xr-var-dtype'>float64</div><div class='xr-var-preview xr-preview'>...</div><input id='attrs-eb8d1742-1f5c-4926-bfc5-fdacd49ad0c9' class='xr-var-attrs-in' type='checkbox' ><label for='attrs-eb8d1742-1f5c-4926-bfc5-fdacd49ad0c9' title='Show/Hide attributes'><svg class='icon xr-icon-file-text2'><use xlink:href='#icon-file-text2'></use></svg></label><input id='data-ea9bbe6a-d8b7-4bd6-9f10-f07f7e14903d' class='xr-var-data-in' type='checkbox'><label for='data-ea9bbe6a-d8b7-4bd6-9f10-f07f7e14903d' title='Show/Hide data repr'><svg class='icon xr-icon-database'><use xlink:href='#icon-database'></use></svg></label><div class='xr-var-attrs'><dl class='xr-attrs'><dt><span>valid_range :</span></dt><dd>[ 0 -1]</dd><dt><span>long_name :</span></dt><dd>Quality Assurance Parameters</dd><dt><span>units :</span></dt><dd>none</dd><dt><span>Parameter_Type :</span></dt><dd>Output</dd><dt><span>Cell_Along_Swath_Sampling :</span></dt><dd>[   3 2028    5]</dd><dt><span>Cell_Across_Swath_Sampling :</span></dt><dd>[   3 1348    5]</dd><dt><span>Geolocation_Pointer :</span></dt><dd>Internal geolocation arrays</dd><dt><span>description :</span></dt><dd>\\n                                                                                  \n",
       "                Product and Optional run time QA flags                              \n",
       "                                                                                    \n",
       "                   Product run time QA flags                                        \n",
       " QA Flag Name     Number of     Bit Value   Description                             \n",
       "                    Bits                                                            \n",
       " -------------------------------------------------------------                      \n",
       " Retrieved Temperature 1            0       not useful                              \n",
       "   Profile QA                       1       useful                                  \n",
       "                                                                                    \n",
       " Retrieved Temperature 2           0-3      4 confidence                            \n",
       "   Profile                                    levels                                \n",
       "   Confidence QA                                                                    \n",
       "                                                                                    \n",
       " Spare                1                                                             \n",
       "                                                                                    \n",
       " Retrieved Moisture   1             0       not useful                              \n",
       "   Profile                          1       useful                                  \n",
       "   QA                                                                               \n",
       "                                                                                    \n",
       " Retrieved Moisture   2            0-3      4 confidence                            \n",
       "   Profile                                    levels                                \n",
       "   Confidence QA                                                                    \n",
       "                                                                                    \n",
       " Spare                1                                                             \n",
       "                                                                                    \n",
       " Total Ozone          1             0       not useful                              \n",
       "   Burden QA                        1       useful                                  \n",
       "                                                                                    \n",
       " Total Ozone          2            0-3      4 confidence                            \n",
       "   Burden                                     levels                                \n",
       "   Confidence QA                                                                    \n",
       "                                                                                    \n",
       " Spare                1                                                             \n",
       "                                                                                    \n",
       " Lifted Index         1             0       not useful                              \n",
       "   Stability                        1       useful                                  \n",
       "   Index QA                                                                         \n",
       "                                                                                    \n",
       " Lifted Index         2            0-3      4 confidence                            \n",
       "   Stability                                  levels                                \n",
       "   Confidence QA                                                                    \n",
       "                                                                                    \n",
       " Spare                1                                                             \n",
       "                                                                                    \n",
       " K Index              1             0       not useful                              \n",
       "   Stability                        1       useful                                  \n",
       "   Index QA                                                                         \n",
       "                                                                                    \n",
       " K Index              2            0-3      4 confidence                            \n",
       "   Stability                                  levels                                \n",
       "   Confidence QA                                                                    \n",
       "                                                                                    \n",
       " Spare                1                                                             \n",
       "                                                                                    \n",
       " Total Totals         1             0       not useful                              \n",
       "   Stability                        1       useful                                  \n",
       "   Index QA                                                                         \n",
       "                                                                                    \n",
       " Total Totals         2            0-3      4 confidence                            \n",
       "   Stability                                  levels                                \n",
       "   Confidence QA                                                                    \n",
       "                                                                                    \n",
       " Spare                1                                                             \n",
       " ---------------------- 3 bytes total -----------------------                       \n",
       "                                                                                    \n",
       "   Optional run time QA flags - processing path flags                               \n",
       " QA Flag Name     Number of     Bit Value   Description                             \n",
       "                    Bits                                                            \n",
       " -------------------------------------------------------------                      \n",
       " Number of            8            0-25                                             \n",
       "   Cloudy Pixels                                                                    \n",
       "   within 5x5 km                                                                    \n",
       "   box                                                                              \n",
       "                                                                                    \n",
       " Number of            8            0-25                                             \n",
       "   Clear Pixels                                                                     \n",
       "   within 5x5 km                                                                    \n",
       "   box                                                                              \n",
       "                                                                                    \n",
       " Number of            8            0-25                                             \n",
       "   Missing                                                                          \n",
       "   Pixels within                                                                    \n",
       "   5x5 km box                                                                       \n",
       "                                                                                    \n",
       " Method               2             0       Statistical                             \n",
       "  of Profiles                       1       Physical                                \n",
       "  Retrieval                         2       Other                                   \n",
       "                                    3       No retrieval                            \n",
       "                                                                                    \n",
       " Method               2             0       RTE Perturbation                        \n",
       "  of Ozone                          1       Upper and Lower                         \n",
       "  Retrieval                                 Stratospheric Ozone Method              \n",
       "                                    2       Other                                   \n",
       "                                    3       No retrieval                            \n",
       "                                                                                    \n",
       " Spares               4                                                             \n",
       " ---------------   4 bytes total -----------------------------                      \n",
       "                                                                                    \n",
       "   Optional run time QA flags - data resource flags                                 \n",
       "                                                                                    \n",
       " QA Flag Name     Number of     Bit Value   Description                             \n",
       "                    Bits                                                            \n",
       " -------------------------------------------------------------                      \n",
       " Guess Moisture       2             0       NCEP                                    \n",
       "   profile                          1       DAO                                     \n",
       "   source                           2       AIRS/AMSU                               \n",
       "                                    3       Not used                                \n",
       "                                                                                    \n",
       " Guess Temperature    2             0       NCEP                                    \n",
       "   Profile                          1       DAO                                     \n",
       "   source                           2       AIRS/AMSU                               \n",
       "                                    3       Not used                                \n",
       "                                                                                    \n",
       " Surface              2             0       NCEP                                    \n",
       "   Temperature                      1       DAO                                     \n",
       "   Over Land                        2       Other                                   \n",
       "                                    3       Not used                                \n",
       "                                                                                    \n",
       " Surface              2             0       Reynolds blended                        \n",
       "   Temperature                      1       DAO                                     \n",
       "   Over Ocean                       2       Other                                   \n",
       "                                    3       Not used                                \n",
       "                                                                                    \n",
       " Surface              2             0       NCEP                                    \n",
       "   Pressure                         1       DAO                                     \n",
       "                                    2       Other                                   \n",
       "                                    3       Not used                                \n",
       "                                                                                    \n",
       " Ozone                2             0       TOMS                                    \n",
       "   Profile                          1       TOVS                                    \n",
       "   First                            2       DAO                                     \n",
       "   Guess                            3       Other                                   \n",
       "                                                                                    \n",
       " Spares              12                                                             \n",
       " ------------------ 2 bytes total ----------------------------                      \n",
       "</dd></dl></div><div class='xr-var-data'><pre>[1096200 values with dtype=float64]</pre></div></li><li class='xr-var-item'><div class='xr-var-name'><span>Quality_Assurance_Infrared</span></div><div class='xr-var-dims'>(Cell_Along_Swath, Cell_Across_Swath, Water_Vapor_QA_Bytes)</div><div class='xr-var-dtype'>float64</div><div class='xr-var-preview xr-preview'>...</div><input id='attrs-66bbef44-4dd7-48fd-994e-16dc0180f5e9' class='xr-var-attrs-in' type='checkbox' ><label for='attrs-66bbef44-4dd7-48fd-994e-16dc0180f5e9' title='Show/Hide attributes'><svg class='icon xr-icon-file-text2'><use xlink:href='#icon-file-text2'></use></svg></label><input id='data-08abf244-04d9-4478-a9eb-34b1c35f3811' class='xr-var-data-in' type='checkbox'><label for='data-08abf244-04d9-4478-a9eb-34b1c35f3811' title='Show/Hide data repr'><svg class='icon xr-icon-database'><use xlink:href='#icon-database'></use></svg></label><div class='xr-var-attrs'><dl class='xr-attrs'><dt><span>valid_range :</span></dt><dd>[ 0 -1]</dd><dt><span>long_name :</span></dt><dd>Run time QA flags</dd><dt><span>units :</span></dt><dd>none</dd><dt><span>Parameter_Type :</span></dt><dd>Output</dd><dt><span>Cell_Along_Swath_Sampling :</span></dt><dd>[   3 2028    5]</dd><dt><span>Cell_Across_Swath_Sampling :</span></dt><dd>[   3 1348    5]</dd><dt><span>Geolocation_Pointer :</span></dt><dd>Internal geolocation arrays</dd><dt><span>description :</span></dt><dd>\\n                                                                                  \n",
       "                                                                                    \n",
       "  Water Vapor IR product and Optional run time QA flags                             \n",
       "                                                                                    \n",
       "                   Product run time QA flags                                        \n",
       " QA Flag Name     Number of     Bit Value   Description                             \n",
       "                    Bits                                                            \n",
       " -------------------------------------------------------------                      \n",
       " IR Water Vapor       1             0       not useful                              \n",
       "   QA                               1       useful                                  \n",
       "                                                                                    \n",
       " IR Water Vapor       2            0-3      4 confidence                            \n",
       "   Confidence QA                              levels                                \n",
       "                                                                                    \n",
       " Spares               5                                                             \n",
       " ---------------------- 1 byte total -------------------------                      \n",
       "                                                                                    \n",
       "   Optional run time QA flags - processing path flags                               \n",
       " QA Flag Name     Number of     Bit Value   Description                             \n",
       "                    Bits                                                            \n",
       " -------------------------------------------------------------                      \n",
       " Number of            8            0-25                                             \n",
       "   Cloudy Pixels                                                                    \n",
       "   within 5x5 km                                                                    \n",
       "   box                                                                              \n",
       "                                                                                    \n",
       " Number of            8            0-25                                             \n",
       "   Clear Pixels                                                                     \n",
       "   within 5x5 km                                                                    \n",
       "   box                                                                              \n",
       "                                                                                    \n",
       " Number of            8            0-25                                             \n",
       "   Missing                                                                          \n",
       "   Pixels within                                                                    \n",
       "   5x5 km box                                                                       \n",
       "                                                                                    \n",
       " IR Water Vapor       2             0      Split Window (11- 12) technique          \n",
       "   Retrieval                        1      Integration of moisture  profile         \n",
       "   Method Used                      2      Other                                    \n",
       "                                    3      No Retrieval                             \n",
       "                                                                                    \n",
       " Spares               6                                                             \n",
       " ---------------------- 4 bytes total -----------------------                       \n",
       "</dd></dl></div><div class='xr-var-data'><pre>[548100 values with dtype=float64]</pre></div></li></ul></div></li><li class='xr-section-item'><input id='section-9adee23c-6750-45bd-a022-8884d635d619' class='xr-section-summary-in' type='checkbox'  ><label for='section-9adee23c-6750-45bd-a022-8884d635d619' class='xr-section-summary' >Indexes: <span>(4)</span></label><div class='xr-section-inline-details'></div><div class='xr-section-details'><ul class='xr-var-list'><li class='xr-var-item'><div class='xr-index-name'><div>Band_Number</div></div><div class='xr-index-preview'>PandasIndex</div><div></div><input id='index-30548ce8-7bd2-4c28-93ab-44b94d5fb70a' class='xr-index-data-in' type='checkbox'/><label for='index-30548ce8-7bd2-4c28-93ab-44b94d5fb70a' title='Show/Hide index repr'><svg class='icon xr-icon-database'><use xlink:href='#icon-database'></use></svg></label><div class='xr-index-data'><pre>PandasIndex(Index([24, 25, 27, 28, 29, 30, 31, 32, 33, 34, 35, 36], dtype=&#x27;int32&#x27;, name=&#x27;Band_Number&#x27;))</pre></div></li><li class='xr-var-item'><div class='xr-index-name'><div>Pressure_Level</div></div><div class='xr-index-preview'>PandasIndex</div><div></div><input id='index-d80d7e3d-e911-42ba-9bec-ef98253c5f75' class='xr-index-data-in' type='checkbox'/><label for='index-d80d7e3d-e911-42ba-9bec-ef98253c5f75' title='Show/Hide index repr'><svg class='icon xr-icon-database'><use xlink:href='#icon-database'></use></svg></label><div class='xr-index-data'><pre>PandasIndex(Index([   5.0,   10.0,   20.0,   30.0,   50.0,   70.0,  100.0,  150.0,  200.0,\n",
       "        250.0,  300.0,  400.0,  500.0,  620.0,  700.0,  780.0,  850.0,  920.0,\n",
       "        950.0, 1000.0],\n",
       "      dtype=&#x27;float32&#x27;, name=&#x27;Pressure_Level&#x27;))</pre></div></li><li class='xr-var-item'><div class='xr-index-name'><div>Output_Parameter</div></div><div class='xr-index-preview'>PandasIndex</div><div></div><input id='index-e42192ed-5705-47bb-99d2-6dc70ab5783f' class='xr-index-data-in' type='checkbox'/><label for='index-e42192ed-5705-47bb-99d2-6dc70ab5783f' title='Show/Hide index repr'><svg class='icon xr-icon-database'><use xlink:href='#icon-database'></use></svg></label><div class='xr-index-data'><pre>PandasIndex(Index([0, 1, 2, 3, 4, 5, 6, 7, 8, 9], dtype=&#x27;int32&#x27;, name=&#x27;Output_Parameter&#x27;))</pre></div></li><li class='xr-var-item'><div class='xr-index-name'><div>Water_Vapor_QA_Bytes</div></div><div class='xr-index-preview'>PandasIndex</div><div></div><input id='index-84bada46-2846-456c-ae72-8fb2301bc764' class='xr-index-data-in' type='checkbox'/><label for='index-84bada46-2846-456c-ae72-8fb2301bc764' title='Show/Hide index repr'><svg class='icon xr-icon-database'><use xlink:href='#icon-database'></use></svg></label><div class='xr-index-data'><pre>PandasIndex(Index([0, 1, 2, 3, 4], dtype=&#x27;int32&#x27;, name=&#x27;Water_Vapor_QA_Bytes&#x27;))</pre></div></li></ul></div></li><li class='xr-section-item'><input id='section-8618193c-0a72-4268-9e81-e5555c4e1c20' class='xr-section-summary-in' type='checkbox'  checked><label for='section-8618193c-0a72-4268-9e81-e5555c4e1c20' class='xr-section-summary' >Attributes: <span>(8)</span></label><div class='xr-section-inline-details'></div><div class='xr-section-details'><dl class='xr-attrs'><dt><span>HDFEOSVersion :</span></dt><dd>HDFEOS_V2.19</dd><dt><span>ScaleFactor_AddOffset_Application :</span></dt><dd>Value=scale_factor*(stored integer - add_offset)</dd><dt><span>Pressure_Levels :</span></dt><dd>5, 10, 20, 30, 50, 70, 100, 150, 200, 250, 300, 400, 500, 620, 700, 780, 850, 920, 950, 1000 hPa</dd><dt><span>title :</span></dt><dd>MODIS Level 2 Atmospheric Profiles                                                  \n",
       "</dd><dt><span>identifier_product_doi :</span></dt><dd>10.5067/MODIS/MOD07_L2.061</dd><dt><span>identifier_product_doi_authority :</span></dt><dd>http://dx.doi.org</dd><dt><span>history :</span></dt><dd>$Id: MOD07.V2.CDL,v 1.1 2005/12/14 16:44:04 kathys Exp $                            \n",
       "2024-09-19 04:54:15 GMT hyrax-1.16.5-294 https://ladsweb.modaps.eosdis.nasa.gov/opendap/RemoteResources/laads/allData/61/MOD07_L2/2020/001/MOD07_L2.A2020001.0015.061.2020002183420.hdf.nc4\n",
       "</dd><dt><span>history_json :</span></dt><dd>[{&quot;$schema&quot;:&quot;https:\\/\\/harmony.earthdata.nasa.gov\\/schemas\\/history\\/0.1.0\\/history-0.1.0.json&quot;,&quot;date_time&quot;:&quot;2024-09-19T04:54:15.522+0000&quot;,&quot;program&quot;:&quot;hyrax&quot;,&quot;version&quot;:&quot;1.16.5-294&quot;,&quot;parameters&quot;:[{&quot;request_url&quot;:&quot;https:\\/\\/ladsweb.modaps.eosdis.nasa.gov\\/opendap\\/RemoteResources\\/laads\\/allData\\/61\\/MOD07_L2\\/2020\\/001\\/MOD07_L2.A2020001.0015.061.2020002183420.hdf.nc4&quot;}]}]</dd></dl></div></li></ul></div></div>"
      ],
      "text/plain": [
       "<xarray.Dataset> Size: 146MB\n",
       "Dimensions:                            (Band_Number: 12, Pressure_Level: 20,\n",
       "                                        Cell_Along_Swath: 406,\n",
       "                                        Cell_Across_Swath: 270,\n",
       "                                        Output_Parameter: 10,\n",
       "                                        Water_Vapor_QA_Bytes: 5)\n",
       "Coordinates:\n",
       "  * Band_Number                        (Band_Number) int32 48B 24 25 ... 35 36\n",
       "  * Pressure_Level                     (Pressure_Level) float32 80B 5.0 ... 1...\n",
       "    Latitude                           (Cell_Along_Swath, Cell_Across_Swath) float32 438kB ...\n",
       "    Longitude                          (Cell_Along_Swath, Cell_Across_Swath) float32 438kB ...\n",
       "  * Output_Parameter                   (Output_Parameter) int32 40B 0 1 ... 8 9\n",
       "  * Water_Vapor_QA_Bytes               (Water_Vapor_QA_Bytes) int32 20B 0 ... 4\n",
       "Dimensions without coordinates: Cell_Along_Swath, Cell_Across_Swath\n",
       "Data variables: (12/29)\n",
       "    Pressure_Levels                    (Pressure_Level) int16 40B ...\n",
       "    Scan_Start_Time                    (Cell_Along_Swath, Cell_Across_Swath) datetime64[ns] 877kB ...\n",
       "    Solar_Zenith                       (Cell_Along_Swath, Cell_Across_Swath) float64 877kB ...\n",
       "    Solar_Azimuth                      (Cell_Along_Swath, Cell_Across_Swath) float64 877kB ...\n",
       "    Sensor_Zenith                      (Cell_Along_Swath, Cell_Across_Swath) float64 877kB ...\n",
       "    Sensor_Azimuth                     (Cell_Along_Swath, Cell_Across_Swath) float64 877kB ...\n",
       "    ...                                 ...\n",
       "    Water_Vapor                        (Cell_Along_Swath, Cell_Across_Swath) float64 877kB ...\n",
       "    Water_Vapor_Direct                 (Cell_Along_Swath, Cell_Across_Swath) float64 877kB ...\n",
       "    Water_Vapor_Low                    (Cell_Along_Swath, Cell_Across_Swath) float64 877kB ...\n",
       "    Water_Vapor_High                   (Cell_Along_Swath, Cell_Across_Swath) float64 877kB ...\n",
       "    Quality_Assurance                  (Cell_Along_Swath, Cell_Across_Swath, Output_Parameter) float64 9MB ...\n",
       "    Quality_Assurance_Infrared         (Cell_Along_Swath, Cell_Across_Swath, Water_Vapor_QA_Bytes) float64 4MB ...\n",
       "Attributes:\n",
       "    HDFEOSVersion:                      HDFEOS_V2.19\n",
       "    ScaleFactor_AddOffset_Application:  Value=scale_factor*(stored integer - ...\n",
       "    Pressure_Levels:                    5, 10, 20, 30, 50, 70, 100, 150, 200,...\n",
       "    title:                              MODIS Level 2 Atmospheric Profiles   ...\n",
       "    identifier_product_doi:             10.5067/MODIS/MOD07_L2.061\n",
       "    identifier_product_doi_authority:   http://dx.doi.org\n",
       "    history:                            $Id: MOD07.V2.CDL,v 1.1 2005/12/14 16...\n",
       "    history_json:                       [{\"$schema\":\"https:\\/\\/harmony.earthd..."
      ]
     },
     "execution_count": 14,
     "metadata": {},
     "output_type": "execute_result"
    }
   ],
   "source": [
    "# Open a file into xarray for analysis\n",
    "ds = xr.open_dataset(dir_list[0])\n",
    "ds"
   ]
  },
  {
   "cell_type": "markdown",
   "id": "6fc7f36c-b9b9-442e-a9eb-2154cd051534",
   "metadata": {},
   "source": [
    "Now we can remove the test data files and the test_data:\n",
    "1) in file browser on the left, navigate to 'test_data' folder\n",
    "2) delete downloaded files\n",
    "3) navigate one folder up\n",
    "4) delete the 'test_data' folder"
   ]
  },
  {
   "cell_type": "markdown",
   "id": "7cb5dacc-e93d-4d13-b760-e0bdfb944bf4",
   "metadata": {},
   "source": [
    "## Summary\n",
    "\n",
    "Congratulations! You’ve completed the tutorial. In this tutorial you have gained the skills to:\n",
    "\n",
    "- Transfrom Coordinate Reference Systems, \n",
    "\n",
    "- Open data into Pandas, GeoPandas and Xarray DataFrames/Arrays,\n",
    "\n",
    "- Use Shapely geometries to define an area of interest and subset data,\n",
    "\n",
    "- Learned to use icepyx and earthaccess for streamlining data access, \n",
    "\n",
    "- Search and access optimized and non-optimized cloud data, non-cloud-hosted data "
   ]
  },
  {
   "cell_type": "markdown",
   "id": "6ac6962a-9f21-418b-adfc-f8af64d127f1",
   "metadata": {},
   "source": [
    "## References\n",
    "\n",
    "Livingstone, S.J., Li, Y., Rutishauser, A. et al. Subglacial lakes and their changing role in a warming climate. Nat Rev Earth Environ 3, 106–124 (2022). doi:[10.1038/s43017-021-00246-9](https://doi.org/10.1038/s43017-021-00246-9)\n",
    "\n",
    "Smith, B., Fricker, H. A., Holschuh, N., Gardner, A. S., Adusumilli, S., Brunt, K. M., et al. (2019). Land ice height-retrieval algorithm for NASA’s ICESat-2 photon-counting laser altimeter. Remote Sensing of Environment, 233, 111352.  doi:[10.1016/j.rse.2019.111352](https://doi.org/10.1016/j.rse.2019.111352)\n",
    "\n",
    "Smith, B., T. Sutterley, S. Dickinson, B. P. Jelley, D. Felikson, T. A. Neumann, H. A. Fricker, A. Gardner, L. Padman, T. Markus, N. Kurtz, S. Bhardwaj, D. Hancock, and J. Lee. (2022). ATLAS/ICESat-2 L3B Gridded Antarctic and Arctic Land Ice Height Change, Version 2 [Data Set]. Boulder, Colorado USA. NASA National Snow and Ice Data Center Distributed Active Archive Center. [https://doi.org/10.5067/ATLAS/ATL15.002](https://doi.org/10.5067/ATLAS/ATL15.002). Date Accessed 2023-03-16.\n",
    "\n",
    "Smith, B., T. Sutterley, S. Dickinson, B. P. Jelley, D. Felikson, T. A. Neumann, H. A. Fricker, A. Gardner, L. Padman, T. Markus, N. Kurtz, S. Bhardwaj, D. Hancock, and J. Lee. “ATL15 Data Dictionary (V01).” National Snow and Ice Data Center (NSIDC), 2021-11-29. [https://nsidc.org/data/documentation/atl15-data-dictionary-v01](https://nsidc.org/data/documentation/atl15-data-dictionary-v01). Date Accessed 2023-03-16."
   ]
  }
 ],
 "metadata": {
  "kernelspec": {
   "display_name": "icepyx",
   "language": "python",
   "name": "icepyx"
  },
  "language_info": {
   "codemirror_mode": {
    "name": "ipython",
    "version": 3
   },
   "file_extension": ".py",
   "mimetype": "text/x-python",
   "name": "python",
   "nbconvert_exporter": "python",
   "pygments_lexer": "ipython3",
   "version": "3.12.1"
  }
 },
 "nbformat": 4,
 "nbformat_minor": 5
}
