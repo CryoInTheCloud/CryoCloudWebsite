{
 "cells": [
  {
   "cell_type": "markdown",
   "id": "a8300489-ed77-475b-9736-69f02af53817",
   "metadata": {},
   "source": [
    "# Using ICESat-2 ATL14/15, Gridded Arctic Land Ice Height to investigate ice-surface height anomalies\n",
    "\n",
    "```{admonition} Learning Objectives\n",
    ":class: tip\n",
    "**Key learning outcomes:**\n",
    "- \n",
    "\n",
    "**Practical skills that will lead to the learning outcomes:**\n",
    "- \n",
    "```"
   ]
  },
  {
   "cell_type": "markdown",
   "id": "f19fdaa2-c9df-4082-8809-41906850985c",
   "metadata": {},
   "source": [
    "## Computing environment\n",
    "\n",
    "We'll be using the following open-source Python libraries in this notebook:"
   ]
  },
  {
   "cell_type": "code",
   "execution_count": null,
   "id": "a95dc296-fc2c-4afc-ad59-405bf9b183dc",
   "metadata": {},
   "outputs": [],
   "source": [
    "# import internal libraries\n",
    "import os\n",
    "\n",
    "# import external libraries\n",
    "import geopandas as gpd\n",
    "import h5py\n",
    "import icepyx as ipx\n",
    "import matplotlib.pyplot as plt\n",
    "from mpl_toolkits.axes_grid1 import make_axes_locatable\n",
    "import numpy as np\n",
    "import pandas as pd\n",
    "import rioxarray\n",
    "import s3fs\n",
    "import xarray as xr"
   ]
  },
  {
   "cell_type": "markdown",
   "id": "30f6acb8-2bc9-4726-a2ea-d54799f08b53",
   "metadata": {},
   "source": [
    "# In this tutorial, we will focus on southwest greenland, where active subglacial lakes have been detected"
   ]
  },
  {
   "cell_type": "markdown",
   "id": "28276a0e-8f71-4e43-bf39-398023649065",
   "metadata": {},
   "source": [
    ":::{figure-md} n-hemisphere-lakes\n",
    "<img src=\"Livingstone2020Fig3a.png\" alt=\"2022 inventory of subglacial lakes\" class=\"bg-primary mb-1\" width=\"600px\">\n",
    "\n",
    "Northern hemisphere subglacial lakes compiled in a global inventory by Livingstone and others (2020).\n",
    ":::"
   ]
  },
  {
   "cell_type": "markdown",
   "id": "171344af-6a10-4309-947d-918d002ed705",
   "metadata": {},
   "source": [
    "```{figure} ../Livingstone2020Fig3a.png\n",
    "---\n",
    "height: 150px\n",
    "name: directive-fig\n",
    "---\n",
    "Here is my figure caption!\n",
    "```"
   ]
  },
  {
   "cell_type": "markdown",
   "id": "d0f66157-b127-426d-b755-3cf253c184d4",
   "metadata": {},
   "source": [
    "We can investigate active subglacial lakes, which drain and fill episodically, use ice surface height anomalies as the overlying ice deforms when active lakes drain and fill. "
   ]
  },
  {
   "cell_type": "markdown",
   "id": "ecf4e669-7c32-4251-b8c8-52ca9f085a6b",
   "metadata": {},
   "source": [
    "## Locate the Greenland active subglacial lakes\n",
    "Consulting the supplementary data of the [Livingstone and others (2020) inventory](https://www.nature.com/articles/s43017-021-00246-9#Sec16), we can construct a [geopandas geodataframe](https://geopandas.org/en/stable/gallery/create_geopandas_from_pandas.html) to investigate Greenland's subglacial.import_rows = np.arange(0,65)"
   ]
  },
  {
   "cell_type": "code",
   "execution_count": null,
   "id": "0602404b-553b-4e06-9760-ceadb0f369ae",
   "metadata": {},
   "outputs": [],
   "source": [
    "# Read in spreadsheet using pandas read_excel\n",
    "url = 'https://static-content.springer.com/esm/art%3A10.1038%2Fs43017-021-00246-9/MediaObjects/43017_2021_246_MOESM1_ESM.xlsx'\n",
    "use_cols = ['Name / Location', 'Lat. oN', 'Lon. oE', 'Lake Type', 'References']\n",
    "import_rows = np.arange(0,65)\n",
    "df = pd.read_excel(url, sheet_name='Greenland', usecols=use_cols, skiprows = lambda x: x not in import_rows)\n",
    "\n",
    "# View pandas dataset head (first 5 rows)\n",
    "df.head()"
   ]
  },
  {
   "cell_type": "markdown",
   "id": "ee648ba5-9b49-4464-b627-bf6494dacc10",
   "metadata": {},
   "source": [
    "Alternatively, if we are working with a dataset that is not cloud hosted or available from a URL, we can upload the data to CryoCloud. \n",
    "\n",
    "First, create data_directory folder in your CryoCloud's base directory to stay organized.\n",
    "\n",
    "Second, download the paper's supplementary data by [clicking here](https://static-content.springer.com/esm/art%3A10.1038%2Fs43017-021-00246-9/MediaObjects/43017_2021_246_MOESM1_ESM.xlsx).\n",
    "\n",
    "Third, upload the supplementary data spreadsheet into your new data directory folder"
   ]
  },
  {
   "cell_type": "code",
   "execution_count": null,
   "id": "aca019f1-51be-47ca-ba89-d065d07671fc",
   "metadata": {},
   "outputs": [],
   "source": [
    "# Read in spreadsheet using pandas read_excel\n",
    "use_cols = ['Name / Location', 'Lat. oN', 'Lon. oE', 'Lake Type', 'References']\n",
    "import_rows = np.arange(0,65)\n",
    "# You may add a path/to/file if you'd like to try reading spreadsheet from where you saved it in a data directory \n",
    "df = pd.read_excel('43017_2021_246_MOESM1_ESM.xlsx', 'Greenland', usecols=use_cols, skiprows = lambda x: x not in import_rows)\n",
    "\n",
    "# View pandas dataset head (first 5 rows)\n",
    "df.head()"
   ]
  },
  {
   "cell_type": "code",
   "execution_count": null,
   "id": "8b037cc3-605c-4ade-8dcc-67b972148083",
   "metadata": {},
   "outputs": [],
   "source": [
    "# Create GeoPandas GeoDataFrame which offers additional functionality beyond pandas \n",
    "# of a geometry column of Shapely objects, here Shapely points\n",
    "gdf = gpd.GeoDataFrame(\n",
    "    df, geometry=gpd.points_from_xy(df['Lon. oE'], df['Lat. oN']))\n",
    "\n",
    "# Set the Coordinate Reference System (CRS) of the geodataframe\n",
    "if gdf.crs is None: \n",
    "    # set CRS WGS84 in lon, lat\n",
    "    gdf.set_crs('epsg:4326', inplace=True)\n",
    "    \n",
    "# Display GeoDataFrame\n",
    "gdf"
   ]
  },
  {
   "cell_type": "code",
   "execution_count": null,
   "id": "ca87e99e-5a6c-4acf-a319-14d6184319f0",
   "metadata": {},
   "outputs": [],
   "source": [
    "# Let's look Greenland's active subglacial lake inventory\n",
    "gdf[gdf['Lake Type'] == 'Active']"
   ]
  },
  {
   "cell_type": "code",
   "execution_count": null,
   "id": "7d9971da-8161-44b3-9791-2020f985673a",
   "metadata": {},
   "outputs": [],
   "source": [
    "# Load \"Natural Earth” countries dataset, bundled with GeoPandas\n",
    "world = gpd.read_file(gpd.datasets.get_path('naturalearth_lowres'))\n",
    "\n",
    "# Create a rough plot to ensure data was read properly\n",
    "fig, ax = plt.subplots()\n",
    "world[world['name'] == 'Greenland'].plot(ax=ax, facecolor='lightgray', edgecolor='gray')\n",
    "gdf[gdf['Lake Type'] == 'Active'].plot(ax=ax, label='active subglacial lake')\n",
    "ax.set_xlabel('longitude'); ax.set_ylabel('latitude')\n",
    "ax.set_title('Active subglacial lake distribution \\nacross Greenland')\n",
    "plt.legend()\n",
    "plt.show()"
   ]
  },
  {
   "cell_type": "code",
   "execution_count": null,
   "id": "3ff9b789-de2e-41d7-b82c-8212b07c5c89",
   "metadata": {},
   "outputs": [],
   "source": [
    "# Load \"Natural Earth” countries dataset, bundled with GeoPandas\n",
    "world = gpd.read_file(gpd.datasets.get_path('naturalearth_lowres'))\n",
    "Greenland = world[world['name'] == 'Greenland']\n",
    "type(Greenland)"
   ]
  },
  {
   "cell_type": "code",
   "execution_count": null,
   "id": "8ef9e552-7e75-4f0a-8cde-63f583977f99",
   "metadata": {},
   "outputs": [],
   "source": [
    "# Create GeoSeries of our GeoDataFrame that converts to Arcic polar stereographic projection \n",
    "# and makes 5-km radius buffered polygon around each lake point\n",
    "gs = gdf.to_crs('3995').buffer(5000)\n",
    "\n",
    "# Create new GeoDataFrame to store the polygons\n",
    "gdf_polys = gpd.GeoDataFrame(gdf, geometry=gs, crs='epsg:3995').to_crs('4623')\n",
    "\n",
    "# Look at active lakes to ensure it worked as expected\n",
    "gdf_polys[gdf_polys['Lake Type'] == 'Active']"
   ]
  },
  {
   "cell_type": "code",
   "execution_count": null,
   "id": "c22c397c-26cb-4bdd-bc5b-c2f70cc3eada",
   "metadata": {},
   "outputs": [],
   "source": [
    "# export to geopackage to subset ICESat-2 data\n",
    "gdf_polys[gdf_polys['Name / Location'] == 'Flade Isblink ice cap'].to_file(os.getcwd() + '/Flade_Isblink_poly.gpkg')"
   ]
  },
  {
   "cell_type": "markdown",
   "id": "dffaaa7e-65f5-4639-a988-840877c30735",
   "metadata": {},
   "source": [
    "## Data\n",
    "- We will be working with cloud-hosted data files. This [guide](https://nsidc.org/data/user-resources/help-center/nasa-earthdata-cloud-data-access-guide) explains how to find and access Earthdata cloud-hosted data. And [here](https://nsidc.org/data/earthdata-cloud) is a complete list of earthdata cloud-hosted data products available from NSIDC.\n",
    "- To read cloud-hosted data from NSIDC we must get temporary AWS S3 credentials: “accessKeyId”, “secretAccessKey”, and “sessionToken” [here](https://data.nsidc.earthdatacloud.nasa.gov/s3credentials). \n",
    "- You must be authenticated into NASA Earthdata ([click here](https://urs.earthdata.nasa.gov/home) to register if you need an Earthdata account)."
   ]
  },
  {
   "cell_type": "code",
   "execution_count": null,
   "id": "1fba471e-9398-4b19-bf9d-0433ab8e1ff0",
   "metadata": {},
   "outputs": [],
   "source": [
    "# Specifying the necessary icepyx parameters\n",
    "short_name = 'ATL15'\n",
    "spatial_extent = 'Flade_Isblink_poly.gpkg' \n",
    "date_range = ['2018-09-15','2023-03-02']"
   ]
  },
  {
   "cell_type": "code",
   "execution_count": null,
   "id": "6ea009c8-b9eb-46f2-bcdf-0f0ca26bb70b",
   "metadata": {},
   "outputs": [],
   "source": [
    "# Setup the Query object\n",
    "region = ipx.Query(short_name, spatial_extent, date_range)"
   ]
  },
  {
   "cell_type": "code",
   "execution_count": null,
   "id": "e726f349-6b9f-4356-84ce-fd2fdb380367",
   "metadata": {},
   "outputs": [],
   "source": [
    "# Visualize area of interest\n",
    "region.visualize_spatial_extent()"
   ]
  },
  {
   "cell_type": "code",
   "execution_count": null,
   "id": "3462d322-8385-4eac-8711-a2d114c35b6f",
   "metadata": {},
   "outputs": [],
   "source": [
    "gran_ids = region.avail_granules()\n",
    "gran_ids"
   ]
  },
  {
   "cell_type": "code",
   "execution_count": null,
   "id": "83377a49-29ec-43dd-a878-7bf5e394611b",
   "metadata": {},
   "outputs": [],
   "source": [
    "gran_ids = region.avail_granules(ids=True, cloud=True)\n",
    "gran_ids"
   ]
  },
  {
   "cell_type": "code",
   "execution_count": null,
   "id": "46abe768-2a09-422f-8df0-fc9d7c30b998",
   "metadata": {},
   "outputs": [],
   "source": [
    "s3url = gran_ids[1][0]\n",
    "s3url"
   ]
  },
  {
   "cell_type": "code",
   "execution_count": null,
   "id": "b1954751-d525-46ba-9ac4-3aa5dbc9f28e",
   "metadata": {},
   "outputs": [],
   "source": [
    "# icepyx doesn't have the s3 urls for the ATL15 data product yet,\n",
    "# so we pulled these from NASA Earth Data\n",
    "# Learn more here: https://nsidc.org/data/user-resources/help-center/nasa-earthdata-cloud-data-access-guide\n",
    "s3url = 's3://nsidc-cumulus-prod-protected/ATLAS/ATL15/002/2019/ATL15_GL_0314_01km_002_01.nc'"
   ]
  },
  {
   "cell_type": "code",
   "execution_count": null,
   "id": "2fc85927-b775-4561-a972-31c7e7589375",
   "metadata": {},
   "outputs": [],
   "source": [
    "# Configure these two according to your credentials\n",
    "earthdata_uid = 'icepyx_devteam'\n",
    "earthdata_email = 'icepyx.dev@gmail.com'\n",
    "\n",
    "region.earthdata_login(earthdata_uid, earthdata_email, s3token=True)"
   ]
  },
  {
   "cell_type": "code",
   "execution_count": null,
   "id": "49131988-15da-4fdf-8893-680ae53f9466",
   "metadata": {},
   "outputs": [],
   "source": [
    "credentials = region._s3login_credentials"
   ]
  },
  {
   "cell_type": "code",
   "execution_count": null,
   "id": "fc6097d8-bce5-487c-b938-ecc34c1b893d",
   "metadata": {},
   "outputs": [],
   "source": [
    "s3 = s3fs.S3FileSystem(key=credentials['accessKeyId'],\n",
    "                       secret=credentials['secretAccessKey'],\n",
    "                       token=credentials['sessionToken'])"
   ]
  },
  {
   "cell_type": "code",
   "execution_count": null,
   "id": "ba6a9f0e-484c-44c2-8ff4-1491743eb225",
   "metadata": {},
   "outputs": [],
   "source": [
    "# Open the file\n",
    "%time f = h5py.File(s3.open(s3url,'rb'),'r')"
   ]
  },
  {
   "cell_type": "code",
   "execution_count": null,
   "id": "76dc985d-98ba-41b1-b4dc-a440b8c09dd6",
   "metadata": {},
   "outputs": [],
   "source": [
    "# View the data file's dictionary keys\n",
    "list(f.keys())"
   ]
  },
  {
   "cell_type": "code",
   "execution_count": null,
   "id": "4e1f1fe7-3b1d-4d45-93b2-56a7438bec45",
   "metadata": {},
   "outputs": [],
   "source": [
    "# Open s3url data file and store in Xarry Dataset\n",
    "with s3.open(s3url,'rb') as f:\n",
    "    # ATL15_dh = rioxarray.open_rasterio(f.read(), group='delta_h')  # FIXME: preferred, but giving error\n",
    "    ATL15_dh = xr.open_dataset(f, group='delta_h')\n",
    "\n",
    "# View Xarray Dataset\n",
    "ATL15_dh"
   ]
  },
  {
   "cell_type": "code",
   "execution_count": null,
   "id": "e49d5702-2368-47b7-9b37-56b32d628216",
   "metadata": {},
   "outputs": [],
   "source": [
    "gdf[gdf['Lake Type'] == 'Active']"
   ]
  },
  {
   "cell_type": "code",
   "execution_count": null,
   "id": "aa0c41ca-7bc2-465e-9118-b7f0d0db0721",
   "metadata": {},
   "outputs": [],
   "source": [
    "# Let's isolate one of the active subglacial lakes into a variable\n",
    "flade_isblink = gdf_polys[gdf_polys['Name / Location'] == 'Flade Isblink ice cap']\n",
    "flade_isblink = world[world['name'] == 'Greenland']\n",
    "\n",
    "# We can look at the lon, lat (x, y) extrema of the polygon with the .bounds method\n",
    "flade_isblink.bounds"
   ]
  },
  {
   "cell_type": "code",
   "execution_count": null,
   "id": "12bc9b07-9ed1-4496-abc7-37927685a132",
   "metadata": {},
   "outputs": [],
   "source": [
    "# define bounding box extrema based on lake polygons we created earlier\n",
    "xmin = flade_isblink.bounds.minx.values[0]\n",
    "ymin = flade_isblink.bounds.minx.values[0]\n",
    "xmax = flade_isblink.bounds.minx.values[0]\n",
    "ymax = flade_isblink.bounds.minx.values[0]\n",
    "\n",
    "# Clip dataset to region of interest for faster plotting\n",
    "mask_x = (ATL15_dh.x >= xmin) & (ATL15_dh.x <= xmax)\n",
    "mask_y = (ATL15_dh.y >= ymin) & (ATL15_dh.y <= ymax)\n",
    "ATL15_dh_sub = ATL15_dh.where(mask_x & mask_y, drop=True)"
   ]
  },
  {
   "cell_type": "code",
   "execution_count": null,
   "id": "a5eb7e62-ece0-47f7-828e-59a986834e37",
   "metadata": {},
   "outputs": [],
   "source": [
    "ATL15_dh"
   ]
  },
  {
   "cell_type": "code",
   "execution_count": null,
   "id": "73af6653-0d74-46d0-b5de-ae1de6f512cd",
   "metadata": {},
   "outputs": [],
   "source": [
    "type(ATL15_dh)"
   ]
  },
  {
   "cell_type": "code",
   "execution_count": null,
   "id": "dc513e86-30ff-4797-9993-082ddcdfe591",
   "metadata": {},
   "outputs": [],
   "source": [
    "fig, ax = plt.subplots()\n",
    "world[world['name'] == 'Greenland'].to_crs(3995).boundary.plot(ax=ax)\n",
    "dhdt = ATL15_dh['delta_h'][0,:,:] - ATL15_dh['delta_h'][0,:,:]\n",
    "ax.imshow(dhdt, extent=[x_min, x_max, y_min, y_max])"
   ]
  },
  {
   "cell_type": "code",
   "execution_count": null,
   "id": "c83558c7-aa7d-4e3e-b589-abe6429e85ec",
   "metadata": {},
   "outputs": [],
   "source": []
  },
  {
   "cell_type": "code",
   "execution_count": null,
   "id": "518620e3-f877-432c-942b-155108ffdda9",
   "metadata": {},
   "outputs": [],
   "source": []
  },
  {
   "cell_type": "code",
   "execution_count": null,
   "id": "31e87b10-61f2-4649-aa3e-b31e32b97858",
   "metadata": {},
   "outputs": [],
   "source": []
  },
  {
   "cell_type": "code",
   "execution_count": null,
   "id": "cc98a4c6-5fd3-4a23-9242-a9ab458bcf9b",
   "metadata": {},
   "outputs": [],
   "source": []
  },
  {
   "cell_type": "code",
   "execution_count": null,
   "id": "24e7d09d-a3c3-46ad-82fe-f3ff4e2e85cc",
   "metadata": {},
   "outputs": [],
   "source": []
  },
  {
   "cell_type": "code",
   "execution_count": null,
   "id": "70a6818d-127c-4f13-b4e3-f1c7342b6cf8",
   "metadata": {},
   "outputs": [],
   "source": [
    "# clean up environment by deleting intermediary files\n",
    "os.remove('Flade_Isblink_poly.gpkg')\n",
    "os.remove('core.257')"
   ]
  },
  {
   "cell_type": "code",
   "execution_count": null,
   "id": "7f4c7f6a-2e9e-4012-9e93-eaaa971a5471",
   "metadata": {},
   "outputs": [],
   "source": [
    "### My Subsection\n"
   ]
  },
  {
   "cell_type": "code",
   "execution_count": null,
   "id": "1b5c8ad8-6116-473d-9487-5d85e8c9bfc3",
   "metadata": {},
   "outputs": [],
   "source": [
    "## Summary\n"
   ]
  },
  {
   "cell_type": "markdown",
   "id": "0ccb4ae4-40b2-484c-9164-59de116d2f51",
   "metadata": {},
   "source": [
    "## References\n",
    "\n",
    "Livingstone, S.J., Li, Y., Rutishauser, A. et al. Subglacial lakes and their changing role in a warming climate. Nat Rev Earth Environ 3, 106–124 (2022). https://doi.org/10.1038/s43017-021-00246-9"
   ]
  },
  {
   "cell_type": "code",
   "execution_count": null,
   "id": "42305b1e-96fb-402b-92c1-144889452a20",
   "metadata": {},
   "outputs": [],
   "source": []
  }
 ],
 "metadata": {
  "kernelspec": {
   "display_name": "Python 3 (ipykernel)",
   "language": "python",
   "name": "python3"
  },
  "language_info": {
   "codemirror_mode": {
    "name": "ipython",
    "version": 3
   },
   "file_extension": ".py",
   "mimetype": "text/x-python",
   "name": "python",
   "nbconvert_exporter": "python",
   "pygments_lexer": "ipython3",
   "version": "3.10.8"
  }
 },
 "nbformat": 4,
 "nbformat_minor": 5
}
