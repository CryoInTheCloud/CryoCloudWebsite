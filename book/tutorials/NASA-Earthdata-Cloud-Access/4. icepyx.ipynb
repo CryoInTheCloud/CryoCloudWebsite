{
 "cells": [
  {
   "cell_type": "markdown",
   "id": "7fd4844a-aee8-4a9c-b22a-02688a8067f9",
   "metadata": {
    "user_expressions": []
   },
   "source": [
    "# NASA Earthdata Cloud and data access using earthaccess and icepyx:\n",
    "## Using the `icepyx` python library to access ICESat-2 data\n",
    "\n",
    "## 1. Tutorial Overview\n",
    "___\n",
    "\n",
    "### Introduction\n",
    "This tutorial is designed for the \"[Cloud Computing and Open-Source Scientific Software for Cryosphere Communities](https://agu.confex.com/agu/fm23/meetingapp.cgi/Session/193477)\" Learning Workshop at the 2023 AGU Fall Meeting.\n",
    "\n",
    "### Credits\n",
    "\n",
    "\n",
    "### Learning Objectives\n",
    "\n",
    "### Prerequisites"
   ]
  },
  {
   "cell_type": "markdown",
   "id": "ad66ecf4-e2e7-43e6-b763-dec2f715e118",
   "metadata": {
    "user_expressions": []
   },
   "source": [
    "## What is `icepyx`?"
   ]
  },
  {
   "cell_type": "markdown",
   "id": "b10b4cdb-9503-482b-9c3a-e580a5af5b4a",
   "metadata": {
    "user_expressions": []
   },
   "source": [
    "<img src=\"https://icepyx.readthedocs.io/en/latest/_static/icepyx_v2_oval_orig_nobackgr.png\" width=350/>"
   ]
  },
  {
   "cell_type": "markdown",
   "id": "95c70c55-5327-4846-a7e8-22fd89a1bde6",
   "metadata": {
    "user_expressions": []
   },
   "source": [
    "icepyx is a community and software library for searching, downloading, and reading ICESat-2 data. While opening data should be straightforward, there are some oddities in navigating the highly nested organization and hundreds of variables of the ICESat-2 data. icepyx provides tools to help with those oddities.\n",
    "\n",
    "### Fitting icepyx into the data access package landscape\n",
    "\n",
    "For ICESat-2 data, the icepyx package can:\n",
    "- search for available data granules (data files)\n",
    "- order and download data\n",
    "- order a subset of data: clipped in space, time, containing fewer variables, or a few other options provided by NSIDC\n",
    "- provides functionality to search through the available data variables\n",
    "- read ICESat-2 data into xarray DataArrays, including merging data from multiple files"
   ]
  },
  {
   "cell_type": "markdown",
   "id": "7cc66d51-9b34-440d-9edc-617499c3cec9",
   "metadata": {
    "tags": [],
    "user_expressions": []
   },
   "source": [
    "## Using `icepyx` to search and access ICESat-2 data"
   ]
  },
  {
   "cell_type": "code",
   "execution_count": null,
   "id": "d070bb18-ff3e-49c3-9cae-d933c871984d",
   "metadata": {},
   "outputs": [],
   "source": []
  }
 ],
 "metadata": {
  "kernelspec": {
   "display_name": "Python 3 (ipykernel)",
   "language": "python",
   "name": "python3"
  },
  "language_info": {
   "codemirror_mode": {
    "name": "ipython",
    "version": 3
   },
   "file_extension": ".py",
   "mimetype": "text/x-python",
   "name": "python",
   "nbconvert_exporter": "python",
   "pygments_lexer": "ipython3",
   "version": "3.10.12"
  }
 },
 "nbformat": 4,
 "nbformat_minor": 5
}
