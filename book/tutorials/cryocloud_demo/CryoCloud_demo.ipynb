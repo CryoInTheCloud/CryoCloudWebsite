{
 "cells": [
  {
   "cell_type": "markdown",
   "id": "bf9d3dd7-7252-42d7-87df-1fcf430bc1f2",
   "metadata": {},
   "source": [
    "---\n",
    "title: Demo CryoCloud\n",
    "date: 2025-09-11\n",
    "github: https://github.com/cryointhecloud/CryocloudWebsite\n",
    "subject: Tutorial\n",
    "authors:\n",
    "  - name: Tasha Snow\n",
    "    affiliations:\n",
    "      - University of Maryland\n",
    "      - NASA Goddard Space Flight Center\n",
    "      - Colorado School of Mines\n",
    "    email: tsnow03@umd.edu\n",
    "    orcid: 0000-0001-5697-5470\n",
    "    github: tsnow03\n",
    "license: MIT\n",
    "---"
   ]
  },
  {
   "cell_type": "markdown",
   "id": "suffering-union",
   "metadata": {},
   "source": [
    "::::{admonition} Learning Objectives\n",
    ":class: tip\n",
    "- Learn how to access and use CryoCloud\n",
    "- Open CryoCloud and clone the CryoCloud website\n",
    "::::"
   ]
  },
  {
   "cell_type": "markdown",
   "id": "3d1f23da-bf31-476f-86b2-780f90d13982",
   "metadata": {},
   "source": [
    "## Access the [CryoCloud powerpoint](https://docs.google.com/presentation/d/1sj5oSAnHQ5Le0zMNqy55T-esZqro-WjVOPJdv_BR08M/edit?usp=sharing) whenever you need to reference it\n",
    "Open the powerpoint by directly clicking on the hyperlink above or to open it in the CryoCloud Linux Desktop web browser as follows:\n",
    "- Copy this hyperlink: `https://docs.google.com/presentation/d/1sj5oSAnHQ5Le0zMNqy55T-esZqro-WjVOPJdv_BR08M/edit?usp=sharing`\n",
    "- Click on the plus (`+`) sign in the `File Browser` to the left to open a `Launcher` window \n",
    "- Under Notebooks, click on `Desktop` to access the Linux Desktop. This will open a new tab.\n",
    "- Click on the `Web Browser` tool (globe) at the bottom of the screen\n",
    "- Paste the url into the search bar"
   ]
  },
  {
   "cell_type": "markdown",
   "id": "2970ead2-4efa-41c8-9920-c14f9eb3365c",
   "metadata": {},
   "source": [
    "```{figure} slides.png\n",
    ":width: 80%\n",
    ":align: center"
   ]
  },
  {
   "cell_type": "markdown",
   "id": "649d863c-5ad1-4b9f-9fa0-416ff04396a4",
   "metadata": {},
   "source": [
    "## Open CryoCloud\n",
    "\n",
    "1) Scroll through the languages. Choose the Python programming language.\n",
    "\n",
    "2) Scroll through the server sizes. Choose the 7 Gb server. \n",
    "\n",
    "::::{admonition} Tip\n",
    "**Be realistic about the max memory you will need. The amount you select, you are guaranteed, but if you use more you risk crashing your server and having to rerun your analysis.**\n",
    "\n",
    "**Check your memory usage at the bottom middle of the screen.**\n",
    "::::\n",
    "\n",
    "3) Sit back and learn about each of the tools!\n",
    "    - JupyterHub options and viewing setup\n",
    "    - Github\n",
    "    - Virtual Linux desktop\n",
    "    - SyncThing\n",
    "    - Viewing and editing of different files"
   ]
  },
  {
   "cell_type": "markdown",
   "id": "71e8e9bf-a844-4eb7-b8df-3b02f44e9030",
   "metadata": {
    "tags": [],
    "user_expressions": []
   },
   "source": [
    "Now after the demo..."
   ]
  },
  {
   "cell_type": "markdown",
   "id": "d73344a2-f797-4218-a99f-a9db0338f002",
   "metadata": {
    "tags": [],
    "user_expressions": []
   },
   "source": [
    "## Task: Clone the CryoCloud jupyterbook\n",
    "\n",
    "We will import the [CryoCloud Website Github repository](https://github.com/CryoInTheCloud/CryoCloudWebsite.git).\n",
    "\n",
    "To do this: \n",
    "1. Select the plus (`+`) sign above the `File Browser` to the left, which will bring up a `Launcher` window. \n",
    "\n",
    "2. Click the `terminal` button under Other to open it. This is your command line like you would have on any computer. \n",
    "\n",
    "Before cloning the repo, you have the option to switch to another file folder using the _change directory_ terminal command: `cd folder` if you do not want the Hackweek repo in your current directory (you can check which directory you are currently in using _print working directory_ command: `pwd`).\n",
    "```\n",
    "cd yourfoldername\n",
    "```\n",
    "\n",
    "3. Now clone the hackweek code into your current directory: \n",
    "```\n",
    "https://github.com/CryoInTheCloud/CryoCloudWebsite.git\n",
    "```\n",
    "\n",
    "4. You will see the folder pop into your `File Browser` on the left if you have the current directory open. Click on the folder to navigate through the files. \n",
    "\n",
    "5. To open this tutorial, click on the `book` subdirectory > `tutorials` and double click on `CryoCloud`. This should open up this tutorial in case you want to review it in the future. \n"
   ]
  },
  {
   "cell_type": "markdown",
   "id": "5b99d916-deb8-4af0-9fce-1e38e5c18d87",
   "metadata": {},
   "source": [
    "## Shutting down your JupyterHub\n",
    "\n",
    "```{admonition} TIP\n",
    "**Best Practice: Shut down the CryoCloud server when you are done to save us money.**\n",
    "\n",
    "**If you only close your tab or click log out, your server will continue running for 90 minutes.**\n",
    "```\n",
    "\n",
    "Whenever you are done, it is best to shut down your server when you sign out to save on money for CryoCloud. Time on the JupyterHub costs money and there are systems in place to make sure your server doesn't run indefinitely if you forget about it. After 90 minutes of no use, it will shut down. We prefer you shut down the server when so we save that 90 minutes of computing cost. To do so:\n",
    "\n",
    "- In upper left, click on `File` > `Hub Control Panel`, which will open another tab\n",
    "- Click the `Stop Server` button. Once this button disappears after you clicked it, your server is off. \n",
    "- Click `Log Out` in the top right of your screen and you will be logged out, or you can start a new server\n",
    "- You can now close this tab and the other tab where you were just working"
   ]
  },
  {
   "cell_type": "markdown",
   "id": "8e200eb4-6534-4bf4-9b13-cd299aeb33a4",
   "metadata": {
    "tags": []
   },
   "source": [
    "```{figure} stop_server.png\n",
    ":width: 80%\n",
    ":align: center"
   ]
  },
  {
   "cell_type": "markdown",
   "id": "surrounded-amateur",
   "metadata": {
    "user_expressions": []
   },
   "source": [
    "## Summary\n",
    "\n",
    " 🎉 Congratulations! You've completed this tutorial and have seen how we can access and use CryoCloud.\n"
   ]
  },
  {
   "cell_type": "markdown",
   "id": "749f5c79-19d7-48ac-9421-852c3c83cc5f",
   "metadata": {},
   "source": [
    "## References\n",
    "\n",
    "To learn more about CryoCloud, gain code for NASA data access, and find other Cryosphere tutorials check out this other documentation:\n",
    "\n",
    "* [CryoCloud JupyterBook](https://book.cryointhecloud.com)"
   ]
  }
 ],
 "metadata": {
  "kernelspec": {
   "display_name": "Python 3 (ipykernel)",
   "language": "python",
   "name": "python3"
  },
  "language_info": {
   "codemirror_mode": {
    "name": "ipython",
    "version": 3
   },
   "file_extension": ".py",
   "mimetype": "text/x-python",
   "name": "python",
   "nbconvert_exporter": "python",
   "pygments_lexer": "ipython3",
   "version": "3.11.11"
  }
 },
 "nbformat": 4,
 "nbformat_minor": 5
}
