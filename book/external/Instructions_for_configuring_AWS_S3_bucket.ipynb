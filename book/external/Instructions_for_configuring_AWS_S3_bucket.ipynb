{
 "cells": [
  {
   "cell_type": "markdown",
   "id": "cd002d1f-e0e2-4db6-ac58-dba51455e2e5",
   "metadata": {
    "jp-MarkdownHeadingCollapsed": true,
    "tags": []
   },
   "source": [
    "# Instructions for setting up an AWS S3 bucket for your project\n",
    "\n",
    "This set of instructions will walk through how to setup an AWS S3 bucket for a specific project and how to configure that bucket to allow all members of the project team to have access.\n",
    "\n",
    "## Create an AWS account and S3 bucket\n",
    "\n",
    "The first step is to create an AWS account that will be billed to your particular project. This can be done using these [instructions](https://aws.amazon.com/premiumsupport/knowledge-center/create-and-activate-aws-account/).\n"
   ]
  },
  {
   "cell_type": "markdown",
   "id": "4950b851-9188-430e-b640-7edb612283dc",
   "metadata": {},
   "source": [
    "## Create AWS S3 bucket\n",
    "Within your new AWS account, create an new S3 bucket:\n",
    "\n",
    "1. Open the AWS S3 console (https://console.aws.amazon.com/s3/)\n",
    "1. From the navigation pane, choose **Buckets**\n",
    "1. Choose **Create bucket**\n",
    "1. Name the bucket and select us-west-2 for the region\n",
    "1. Leave all other default options\n",
    "1. Click **Create Bucket**"
   ]
  },
  {
   "cell_type": "markdown",
   "id": "1c98ff69-e432-4f79-b315-b4b2d621b15c",
   "metadata": {},
   "source": [
    "## Create a user\n",
    "Within the same AWS account, create a new IAM user:\n",
    "\n",
    "1. On the **AWS Console Home** page, select the IAM service\n",
    "1. In the navigation pane, select **Users** and then select **Add users**\n",
    "1. Name the user and click Next\n",
    "1. Attach policies directly\n",
    "1. Do not select any policies\n",
    "1. Click Next\n",
    "1. Create user\n",
    "\n",
    "Once the user has been created, find the user's ARN and copy it.\n",
    "\n",
    "Now, create access keys for this user:\n",
    "\n",
    "1. Select **Users** and click the user that you created\n",
    "1. Open the Security Credentials tab\n",
    "1. Create access key\n",
    "1. Select **Command Line Interface (CLI)**\n",
    "1. Check the box to agree to the recommendation and click **Next**\n",
    "1. Leave the tag blank and click **Create access key**\n",
    "1. IMPORTANT: Copy the access key and the secret access key. This will be used later."
   ]
  },
  {
   "cell_type": "markdown",
   "id": "38ff48ef-f9d6-4bf7-8612-04b337aa207d",
   "metadata": {},
   "source": [
    "## Create the bucket policy\n",
    "Configure a policy for this S3 bucket that will allow the newly created user to access it.\n",
    "\n",
    "1. Open the AWS S3 console (https://console.aws.amazon.com/s3/)\n",
    "1. From the navigation pane, choose **Buckets**\n",
    "1. Select the new S3 bucket that you created\n",
    "1. Open the Permissions tab\n",
    "1. Add the following bucket policy, replacing `USER_ARN` with the ARN that you copied above and `BUCKET_ARN` with the bucket ARN, found on the Edit bucket policy page on the AWS console:\n",
    "\n",
    "```\n",
    "{\n",
    "    \"Version\": \"2012-10-17\",\n",
    "    \"Statement\": [\n",
    "        {\n",
    "            \"Sid\": \"ListBucket\",\n",
    "            \"Effect\": \"Allow\",\n",
    "            \"Principal\": {\n",
    "                \"AWS\": \"USER_ARN\"\n",
    "            },\n",
    "            \"Action\": \"s3:ListBucket\",\n",
    "            \"Resource\": \"BUCKET_ARN\"\n",
    "        },\n",
    "        {\n",
    "            \"Sid\": \"AllObjectActions\",\n",
    "            \"Effect\": \"Allow\",\n",
    "            \"Principal\": {\n",
    "                \"AWS\": \"USER_ARN\"\n",
    "            },\n",
    "            \"Action\": \"s3:*Object\",\n",
    "            \"Resource\": \"BUCKET_ARN/*\"\n",
    "        }\n",
    "    ]\n",
    "}\n",
    "```"
   ]
  },
  {
   "cell_type": "markdown",
   "id": "8688d2f6-2cef-4e1a-8fcb-e358d4eac55c",
   "metadata": {
    "tags": []
   },
   "source": [
    "# Configure local AWS profile\n",
    "\n",
    "To access the bucket from a \"local\" computer (for example, a local computer or a JupyterHub that is running on AWS), an AWS profile must be configured with the access keys to the new S3 bucket.\n",
    "\n",
    "This can be done manually but the easiest way to do it is by using [AWS Command Line Interface (CLI)](https://aws.amazon.com/cli/).\n",
    "\n",
    "On the local computer:\n",
    "1. Open a terminal\n",
    "1. Install AWS CLI (if using the `conda` package manager, you can install like this: `conda install -c conda-forge awscli`)\n",
    "1. Configure the AWS profile with the keys from above and give your profile a new profile name:\n",
    "- `aws configure --profile PROFILE_NAME`\n",
    "- Enter the access key and secret access key\n",
    "- Enter `us-west-2` for the region and `json` for format\n",
    "\n",
    "In the code examples below, the profile name is `icesat2`. Replace this with the profile name that you used."
   ]
  },
  {
   "cell_type": "markdown",
   "id": "40aeaecb-8aa8-48c0-b51d-8d974438fc4b",
   "metadata": {},
   "source": [
    "***"
   ]
  },
  {
   "cell_type": "markdown",
   "id": "56a13341-617a-402a-8660-0b3c9ae62157",
   "metadata": {
    "tags": []
   },
   "source": [
    "# Example code\n",
    "\n",
    "Below is code that can be used to read from and write to the S3 bucket in order to test that the bucket and local AWS profile have been configured correctly. In the examples below, we are accessing a bucket called `gris-outlet-glacier-seasonality-icesat2`. Replace this name with the name of the S3 bucket that you have created."
   ]
  },
  {
   "cell_type": "markdown",
   "id": "b3dc262e-549c-471d-ba9b-428b7b8ba283",
   "metadata": {
    "tags": []
   },
   "source": [
    "## Reading from the S3 bucket"
   ]
  },
  {
   "cell_type": "markdown",
   "id": "16595426-6ff1-43c2-8292-6faba7003b13",
   "metadata": {
    "tags": []
   },
   "source": [
    "### Example: ls bucket using s3fs"
   ]
  },
  {
   "cell_type": "code",
   "execution_count": null,
   "id": "74d27ecd-cceb-436b-adbe-a1855a08ce4f",
   "metadata": {},
   "outputs": [],
   "source": [
    "import s3fs\n",
    "s3 = s3fs.S3FileSystem(anon=False, profile='icesat2')\n",
    "s3.ls('gris-outlet-glacier-seasonality-icesat2')\n"
   ]
  },
  {
   "cell_type": "markdown",
   "id": "afc4e8b4-3c0f-41f5-aed0-7e715d577f57",
   "metadata": {
    "tags": []
   },
   "source": [
    "### Example: open HDF5 file using xarray"
   ]
  },
  {
   "cell_type": "code",
   "execution_count": null,
   "id": "da10f269-9ec8-44ce-8ef9-3412a3a1e338",
   "metadata": {},
   "outputs": [],
   "source": [
    "import s3fs\n",
    "import xarray as xr\n",
    "\n",
    "fs_s3 = s3fs.core.S3FileSystem(profile='icesat2')\n",
    "\n",
    "s3_url = 's3://gris-outlet-glacier-seasonality-icesat2/ssh_grids_v2205_1992101012.nc'\n",
    "s3_file_obj = fs_s3.open(s3_url, mode='rb')\n",
    "ssh_ds = xr.open_dataset(s3_file_obj, engine='h5netcdf')\n",
    "print(ssh_ds)\n"
   ]
  },
  {
   "cell_type": "code",
   "execution_count": null,
   "id": "e179f51d-83a8-46f6-95e4-3e26a554346a",
   "metadata": {},
   "outputs": [],
   "source": [
    "import s3fs\n",
    "\n",
    "import xarray as xr\n",
    "\n",
    "import hvplot.xarray\n",
    "import holoviews as hv\n",
    "\n",
    "fs_s3 = s3fs.core.S3FileSystem(profile='icesat2')\n",
    "\n",
    "s3_url = 's3://gris-outlet-glacier-seasonality-icesat2/ssh_grids_v2205_1992101012.nc'\n",
    "s3_file_obj = fs_s3.open(s3_url, mode='rb')\n",
    "ssh_ds = xr.open_dataset(s3_file_obj, engine='h5netcdf')\n",
    "#ssh_ds\n",
    "\n",
    "ssh_da = ssh_ds.SLA\n",
    "#ssh_da\n",
    "\n",
    "ssh_da.hvplot.image(x='Longitude', y='Latitude', cmap='Spectral_r', geo=True, tiles='ESRI', global_extent=True)\n"
   ]
  },
  {
   "cell_type": "markdown",
   "id": "9032ad27-888e-4527-8ec8-a2e928eef309",
   "metadata": {
    "tags": []
   },
   "source": [
    "### Example: read a geotiff using rasterio"
   ]
  },
  {
   "cell_type": "code",
   "execution_count": null,
   "id": "702da7c3-180f-4408-9fb2-81e96845ff23",
   "metadata": {},
   "outputs": [],
   "source": [
    "import rasterio\n",
    "import numpy as np\n",
    "import matplotlib.pyplot as plt\n",
    "\n",
    "session = rasterio.env.Env(profile_name='icesat2')\n",
    "\n",
    "url = 's3://gris-outlet-glacier-seasonality-icesat2/out.tif'\n",
    "\n",
    "with session:\n",
    "    with rasterio.open(url) as ds:\n",
    "        print(ds.profile)\n",
    "        band1 = ds.read(1)\n",
    "        \n",
    "band1[band1==-9999] = np.nan\n",
    "plt.imshow(band1)\n",
    "plt.colorbar()\n"
   ]
  },
  {
   "cell_type": "markdown",
   "id": "4978e3cf-0bca-4466-85f9-cc7cf56bc1ff",
   "metadata": {},
   "source": [
    "## Writing to the S3 bucket"
   ]
  },
  {
   "cell_type": "code",
   "execution_count": null,
   "id": "13d7a10a-ca75-44bc-8a71-0092af2a983c",
   "metadata": {},
   "outputs": [],
   "source": [
    "s3 = s3fs.core.S3FileSystem(profile='icesat2')\n",
    "\n",
    "with s3.open('gris-outlet-glacier-seasonality-icesat2/new-file', 'wb') as f:\n",
    "    f.write(2*2**20 * b'a')\n",
    "    f.write(2*2**20 * b'a') # data is flushed and file closed\n",
    "\n",
    "s3.du('gris-outlet-glacier-seasonality-icesat2/new-file')"
   ]
  },
  {
   "cell_type": "code",
   "execution_count": null,
   "id": "d998bcdf-ca0b-41bb-9322-65cc6e7d279f",
   "metadata": {},
   "outputs": [],
   "source": []
  }
 ],
 "metadata": {
  "kernelspec": {
   "display_name": "Python 3 (ipykernel)",
   "language": "python",
   "name": "python3"
  },
  "language_info": {
   "codemirror_mode": {
    "name": "ipython",
    "version": 3
   },
   "file_extension": ".py",
   "mimetype": "text/x-python",
   "name": "python",
   "nbconvert_exporter": "python",
   "pygments_lexer": "ipython3",
   "version": "3.10.8"
  }
 },
 "nbformat": 4,
 "nbformat_minor": 5
}
