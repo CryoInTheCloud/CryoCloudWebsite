{
 "cells": [
  {
   "cell_type": "markdown",
   "id": "03d20480-658d-4865-b45a-f07cfeb36820",
   "metadata": {},
   "source": [
    "# Publications, data products, and libraries supported by CryoCloud"
   ]
  },
  {
   "cell_type": "markdown",
   "id": "1e0dd97f-22e0-4b8e-997f-3f82e0bf2c8e",
   "metadata": {},
   "source": [
    ":::{important} Create a pull request to add your CryoCloud-supported content!\n",
    ":class: dropdown\n",
    "\n",
    "You can find the [full documentation for updating this list here](?).\n",
    ":::"
   ]
  },
  {
   "cell_type": "markdown",
   "id": "40cbba69-dc63-4030-930d-19a5ea7c0f67",
   "metadata": {},
   "source": [
    "## Publications and reports"
   ]
  },
  {
   "attachments": {},
   "cell_type": "markdown",
   "id": "4bc0ca11-7a46-42d6-bd48-232940a74b75",
   "metadata": {},
   "source": [
    "Abrahams, E., Snow, T., Pérez, F., Siegfried, M. R. (2024). **A Concise Augmentation Strategy for Preserving Spatial Context in Tiled Imagery for Earth Observation**, *International Conference on Learning Representations (ICLR)*. [arXiv:2404.10927](https://arxiv.org/html/2404.10927v1) "
   ]
  },
  {
   "cell_type": "markdown",
   "id": "3226e610-4c90-4521-b3af-ce4c43092456",
   "metadata": {},
   "source": [
    "Chu, W., Bartholomaus, T., MacGregor, J., Morlighem, M., & Walden, V. (2023). Report on the 2023 Future of Greenland ice Sheet Science (FOGSS) Workshop: Unifying Themes, Cross-Cutting Priorities, and Future Directions. [](https://www.fogss-workshop.org/s/2023-FOGSS-White-Paper.pdf)"
   ]
  },
  {
   "cell_type": "markdown",
   "id": "c7ae7d96-3246-4c5e-8d67-19a82dd40bee",
   "metadata": {},
   "source": [
    "Millstein, J., Snow, T., Sauthoff, W., Scheick, J., & Siegfried, M. (2023). CryoCloud: Accelerating Discovery for NASA Cryosphere Communities with Open-Cloud Infrastructure (NASA Request for Information). *Zenodo*. [10.5281/zenodo.7662993](https://doi.org/10.5281/zenodo.7662993)"
   ]
  },
  {
   "cell_type": "markdown",
   "id": "d9cbf69e-f79d-4e9a-a187-938e0f275b96",
   "metadata": {},
   "source": [
    "## Media"
   ]
  },
  {
   "cell_type": "markdown",
   "id": "895bc921-f861-4918-823f-e674c5bce843",
   "metadata": {},
   "source": [
    "Fisher, M., Stafford, T. (2019) \"Desktop GIS Software in the Cloud with JupyterHub.\" Jupyter Blog, https://blog.jupyter.org/desktop-gis-software-in-the-cloud-with-jupyterhub-ddced297019a."
   ]
  },
  {
   "cell_type": "markdown",
   "id": "d7a8f853-f994-4761-a9ad-517121d6f89d",
   "metadata": {},
   "source": [
    "## Data products"
   ]
  },
  {
   "cell_type": "markdown",
   "id": "d053b35f-6fcd-4915-9e50-2e3d202a5741",
   "metadata": {},
   "source": [
    "Sauthoff, W., & Freer, B. (2024). Subglacial water flow paths beneath Whillans Ice Plain, West Antarctica (Version 1.0) [Data set]. NERC EDS UK Polar Data Centre. https://doi.org/10.5285/0df5d4e9-2fcd-4420-b403-24d76848a5a5"
   ]
  },
  {
   "cell_type": "markdown",
   "id": "2cd61b54-3f46-4249-910e-0a6fc566687b",
   "metadata": {},
   "source": [
    "## Open source libraries"
   ]
  },
  {
   "cell_type": "markdown",
   "id": "396b095e-badc-41d4-b54a-0e637db59e3e",
   "metadata": {},
   "source": [
    "[icepyx](https://github.com/icesat2py/icepyx) from [Jessica Scheick](https://github.com/JessicaS11) and others - Python tools for obtaining and working with ICESat-2 data"
   ]
  },
  {
   "cell_type": "markdown",
   "id": "e6ba8f6d-6abb-4f1c-acdc-9324669eeaec",
   "metadata": {},
   "source": [
    "[earthaccess](https://github.com/nsidc/earthaccess) from [Luis Lopez](https://github.com/betolink) and others - Python library to search for, and download or stream NASA Earth science data with just a few lines of code"
   ]
  },
  {
   "cell_type": "markdown",
   "id": "39c3509f-51c2-465c-bf53-5685b800dddb",
   "metadata": {},
   "source": [
    "[FlipNSlide](https://github.com/elliesch/flipnslide/) from [Ellianna Abrahams](https://github.com/elliesch) and others - Python library that improves image tiling and augmentation for geospatial machine learning applications\n",
    "\n",
    "```{figure} https://raw.githubusercontent.com/elliesch/flipnslide/main/figure_1.jpg\n",
    ":name: flipnslide\n",
    ":align: right\n",
    ":width: 60%\n",
    "FlipNSlide tiling scheme\n",
    "```"
   ]
  },
  {
   "cell_type": "markdown",
   "id": "05b8c11a-f51f-4291-af2a-506e2d2934d4",
   "metadata": {},
   "source": [
    "[SlideRule](https://github.com/SlideRuleEarth/sliderule) and [sliderule-python](https://github.com/jpswinski/sliderule-python) from [David Shean](https://github.com/dshean), [JP Soinski](https://github.com/jpswinski) and others - Python client and notebooks that make it easier to interact with [SlideRule Earth](https://slideruleearth.io/) on-demand data"
   ]
  },
  {
   "cell_type": "markdown",
   "id": "93e4403d-022a-4ebb-b987-9be8eda4939f",
   "metadata": {},
   "source": [
    "[ITS_LIVE-Downloader-Tracker](https://github.com/vdevauxchupin/ITS-LIVE-Downloader-Tracker) from [Victor Devaux-Chupin](https://github.com/vdevauxchupin) and others - a Python library for [ITS_LIVE](https://its-live.jpl.nasa.gov/) datacube downloading & tracking/strains calculation"
   ]
  }
 ],
 "metadata": {
  "kernelspec": {
   "display_name": "Python 3 (ipykernel)",
   "language": "python",
   "name": "python3"
  },
  "language_info": {
   "codemirror_mode": {
    "name": "ipython",
    "version": 3
   },
   "file_extension": ".py",
   "mimetype": "text/x-python",
   "name": "python",
   "nbconvert_exporter": "python",
   "pygments_lexer": "ipython3",
   "version": "3.11.9"
  }
 },
 "nbformat": 4,
 "nbformat_minor": 5
}
