{
 "cells": [
  {
   "cell_type": "markdown",
   "id": "03d20480-658d-4865-b45a-f07cfeb36820",
   "metadata": {},
   "source": [
    "# Publications, data products, and libraries supported by CryoCloud"
   ]
  },
  {
   "cell_type": "markdown",
   "id": "1e0dd97f-22e0-4b8e-997f-3f82e0bf2c8e",
   "metadata": {},
   "source": [
    ":::{important} Create a pull request to add your CryoCloud-supported content!\n",
    ":class: dropdown\n",
    "\n",
    "You can find the [full documentation for updating this list here](?).\n",
    ":::"
   ]
  },
  {
   "cell_type": "markdown",
   "id": "40cbba69-dc63-4030-930d-19a5ea7c0f67",
   "metadata": {},
   "source": [
    "## Publications and reports"
   ]
  },
  {
   "cell_type": "markdown",
   "id": "c6a44eda-8b27-4939-ac40-9a159a311abc",
   "metadata": {},
   "source": [
    "Petty, A. A., C. Cardinale, M. Smith, (in review). Constraining CMIP6 sea ice simulations with ICESat-2, *EGUsphere* (preprint), 2025-766, doi: [10.5194/egusphere-2025-766](https://egusphere.copernicus.org/preprints/2025/egusphere-2025-766/), *Geoscientific Model Development (GMD)*."
   ]
  },
  {
   "cell_type": "markdown",
   "id": "99de5157-071e-4205-bd31-671209b822e0",
   "metadata": {},
   "source": [
    "Landy, J. C., C. de Rijke-Thomas, C. Nab, I. Lawrence, I. A. Glissenaar, R. D. C. Mallett, R. M. F. Hansen, A. Petty, M. C. Tsamados, A. R. Macfarlane, A. Braakmann-Folgmann, (in review). Anticipating CRISTAL: An exploration of multi-frequency satellite altimeter snow depth observations over Arctic sea ice, 2018-2023, EGUsphere (preprint), 2024-2904, *The Cryosphere Discuss*."
   ]
  },
  {
   "cell_type": "markdown",
   "id": "acef6c76-fede-463a-b49e-63aefee0d4a1",
   "metadata": {},
   "source": [
    "Liu, W. M. C. Tsamados, A. Petty, T. Jin, W. Chen, J. Stroeve, (2025), Enhanced Sea Ice Classification for ICESat-2 Using Combined Unsupervised and Supervised Machine Learning, *Remote Sensing of Environment*, 318, 114607, doi: [10.1016/j.rse.2025.114607](https://www.sciencedirect.com/science/article/abs/pii/S0034425725000112)."
   ]
  },
  {
   "cell_type": "markdown",
   "id": "b324a24a-ea28-4840-b7df-63f100f355ae",
   "metadata": {},
   "source": [
    "Snow, T., Harris, A., Scambos, T., Grigsby, S., Abrahams, E., Pérez, F., Savidge, E., Shuman, C., Abdalati, W., Siegfried, M.R. (submitted). Polar application of a new Landsat sea surface temperature algorithm to the Amundsen Sea, West Antarctica. *IEEE Transactions on Geoscience and Remote Sensing*."
   ]
  },
  {
   "cell_type": "markdown",
   "id": "dd0ceb75-ac5b-4ab8-afc8-34c7c104aa50",
   "metadata": {},
   "source": [
    "Wild, C., Snow, T., Dotto, T., Davis, P., Tyler, S., Scambos, T., Pettit, E., Heywood, K. (in review). Thwaites Eastern Ice Shelf Cavity Observations Reveal Multi-year Sea Ice Dynamics and Deep-Water Warming in Pine Island Bay, West Antarctica. *Ocean Science*."
   ]
  },
  {
   "cell_type": "markdown",
   "id": "fbdb9df3-f229-4e09-b353-41736ae0c1fa",
   "metadata": {},
   "source": [
    "Abrahams, A., McKenzie, M., Perez, F., Venturelli, R. (2024). Automatic identification of streamlined subglacial bedforms usingmachine learning: an open-source Python approach. *Boreas*. [10.1111/bor.12682](https://doi.org/10.1111/bor.12682)"
   ]
  },
  {
   "cell_type": "markdown",
   "id": "3eef30c4-40e5-4d44-8f2e-899c12ad27f3",
   "metadata": {},
   "source": [
    "Fair, Z., Vuyovich, C., Neumann, T.A., Larsen, C.F., Stuefer, S.L., Mason, M., May, L. (submitted). \"Characterizing ICESat-2 Snow Depths Over the Boreal Forests and Tundra of Alaska in Support of the SnowEx 2023 Campaign.\" *Water Resources Research*."
   ]
  },
  {
   "cell_type": "markdown",
   "id": "846874b7-a4f4-4432-b109-3bb295a1bc9c",
   "metadata": {},
   "source": [
    "Brencher, G., Henderson, S., and Shean, D. (submitted). \"Quantifying degradation of the Imja Lake moraine dam with fused InSAR and SAR feature tracking time series.\" *EGUsphere 2024*: 1-30. [10.5194/egusphere-2024-3196](https://doi.org/10.5194/egusphere-2024-3196)"
   ]
  },
  {
   "cell_type": "markdown",
   "id": "720df86f-5180-4a11-b8ce-bc1a60c6348c",
   "metadata": {},
   "source": [
    "Freer, B., Marsh, O., Fricker, H., Hogg, A., Siegfried, M., Floricioiu, D., Sauthoff, W., Rigby, R., Wilson, S. (accepted) Coincident lake drainage and grounding line retreat at Engelhardt Subglacial Lake, West Antarctica, West Antarctica. *Journal of Geophysical Research - Earth Surface*. "
   ]
  },
  {
   "cell_type": "markdown",
   "id": "ab6ac31e-7cde-499b-9682-6708937c1c91",
   "metadata": {},
   "source": [
    "Wåhlin, A., Alley, K.E., Begeman, C., Hegrenæs, Ø., Yuan, X., Graham, A.G.C., Hogan, K., Davis, P.E.D., Dotto, T. S., Eayrs, C., Hall, RA., Holland, D., Kim, T.W., Larter, R., Ling, L., Muto, A., Pettit, E.C., Schmidt, B.E., Snow, T., Stedt, F., Washam, P. M., Wahlgren, S., Wild, C., Wellner, J., Zheng, Y., Heywood, K.J. (2024). Swirls and scoops: Ice base melt revealed by multibeam imagery of an Antarctic ice shelf, *Science Advances*, 10(31). [10.1126/sciadv.adn9188](10.1126/sciadv.adn9188)"
   ]
  },
  {
   "cell_type": "markdown",
   "id": "4bc0ca11-7a46-42d6-bd48-232940a74b75",
   "metadata": {},
   "source": [
    "Abrahams, E., Snow, T., Pérez, F., Siegfried, M. R. (2024). A Concise Augmentation Strategy for Preserving Spatial Context in Tiled Imagery for Earth Observation, *Machine Learning for Remote Sensing Workshop {ML4RS} at The Twelfth International Conference on Learning Representations, {ICLR} 2024, Vienna, Austria, May 7-11, 2024*. [arXiv:2404.10927](https://arxiv.org/html/2404.10927v1) "
   ]
  },
  {
   "cell_type": "markdown",
   "id": "58c46ade-43ee-4be3-a15b-a940791cd50a",
   "metadata": {},
   "source": [
    "Savidge, E., Snow, T., Siegfried, M. R. (2023). Multi-decadal Record of Sensible-Heat Polynya Variability from Satellite Optical and Thermal Imagery at Pine Island Glacier, West Antarctica, Geophysical Research Letters. doi.org/10.1029/2023GL106178\n",
    "\n",
    "Savidge, E., Snow, T., Siegfried, M. R., Zheng, Y., Bôas, A., Bortolotto, G. A., Boehme, L., Alley, K. E. (2023). Wintertime Polynya Structure and Variability at Pine Island Glacier, West Antarctica, from Thermal Remote Sensing and Seal-borne Observations, IEEE Transactions on Geoscience and Remote Sensing. doi.org/10.1109/TGRS.2023.3271453\n",
    "\tAnalysis code: doi.org/10.5281/zenodo.7843547 \n"
   ]
  },
  {
   "cell_type": "markdown",
   "id": "567b793c-3fcf-4d84-9c1b-51d180217e59",
   "metadata": {},
   "source": [
    "Snow, T., Zhang, W., Schreiber, E., Siegfried, M., Abdalati, W., Scambos, T. (2023). Alongshore winds force warm Atlantic Water toward Helheim Glacier in southeast Greenland, *Journal of Geophysical Research: Oceans*, 128 (9). [10.1029/2023JC019953](doi.org/10.1029/2023JC019953)"
   ]
  },
  {
   "cell_type": "markdown",
   "id": "c7ae7d96-3246-4c5e-8d67-19a82dd40bee",
   "metadata": {},
   "source": [
    "Millstein, J., Snow, T., Sauthoff, W., Scheick, J., & Siegfried, M. (2023). CryoCloud: Accelerating Discovery for NASA Cryosphere Communities with Open-Cloud Infrastructure (NASA Request for Information). *Zenodo*. [10.5281/zenodo.7662993](https://doi.org/10.5281/zenodo.7662993)"
   ]
  },
  {
   "cell_type": "markdown",
   "id": "3226e610-4c90-4521-b3af-ce4c43092456",
   "metadata": {},
   "source": [
    "Chu, W., Bartholomaus, T., MacGregor, J., Morlighem, M., & Walden, V. (2023). Report on the 2023 Future of Greenland ice Sheet Science (FOGSS) Workshop: Unifying Themes, Cross-Cutting Priorities, and Future Directions. [](https://www.fogss-workshop.org/s/2023-FOGSS-White-Paper.pdf)"
   ]
  },
  {
   "cell_type": "markdown",
   "id": "d9cbf69e-f79d-4e9a-a187-938e0f275b96",
   "metadata": {},
   "source": [
    "## Media"
   ]
  },
  {
   "cell_type": "markdown",
   "id": "fcd2d76f-0aeb-4c72-b3b4-ee877728832c",
   "metadata": {},
   "source": [
    "Wong, J. (2024). \"Keeping PACE with GPU enabled compute to detect global cloud cover using satellite data.\" 2i2c Blog, [https://2i2c.org/blog/2024/pace-hackweek](https://2i2c.org/blog/2024/pace-hackweek)."
   ]
  },
  {
   "cell_type": "markdown",
   "id": "895bc921-f861-4918-823f-e674c5bce843",
   "metadata": {},
   "source": [
    "Fisher, M., Stafford, T. (2019) \"Desktop GIS Software in the Cloud with JupyterHub.\" Jupyter Blog, https://blog.jupyter.org/desktop-gis-software-in-the-cloud-with-jupyterhub-ddced297019a."
   ]
  },
  {
   "cell_type": "markdown",
   "id": "d7a8f853-f994-4761-a9ad-517121d6f89d",
   "metadata": {},
   "source": [
    "## Data products"
   ]
  },
  {
   "cell_type": "markdown",
   "id": "d053b35f-6fcd-4915-9e50-2e3d202a5741",
   "metadata": {},
   "source": [
    "Sauthoff, W., & Freer, B. (2024). Subglacial water flow paths beneath Whillans Ice Plain, West Antarctica (Version 1.0) [Data set]. NERC EDS UK Polar Data Centre. https://doi.org/10.5285/0df5d4e9-2fcd-4420-b403-24d76848a5a5"
   ]
  },
  {
   "cell_type": "markdown",
   "id": "2cd61b54-3f46-4249-910e-0a6fc566687b",
   "metadata": {},
   "source": [
    "## Open source libraries"
   ]
  },
  {
   "cell_type": "markdown",
   "id": "396b095e-badc-41d4-b54a-0e637db59e3e",
   "metadata": {},
   "source": [
    "<img align=\"right\" width=\"200px\" src=https://icepyx.readthedocs.io/en/latest/_static/icepyx_v2_oval_orig_nobackgr.png>\n",
    "\n",
    "<u>[icepyx](https://github.com/icesat2py/icepyx)</u> from [Jessica Scheick](https://github.com/JessicaS11) and others - Python tools for obtaining and working with ICESat-2 data\n",
    "\n",
    "<br clear=\"right\"/>"
   ]
  },
  {
   "cell_type": "markdown",
   "id": "5a1ff75c-68ba-42ad-8d8f-52c04fd8182d",
   "metadata": {},
   "source": [
    "<u>[bedfinder](https://pypi.org/project/bedfinder/)</u> from Marion Mackenzie and Ellianna Abrahams - Python library for the Automatic Detection of Glacially-derived Bedforms"
   ]
  },
  {
   "cell_type": "markdown",
   "id": "e6ba8f6d-6abb-4f1c-acdc-9324669eeaec",
   "metadata": {},
   "source": [
    "<img align=\"left\" width=\"100px\" src=\"https://earthdata.nasa.gov/s3fs-public/2024-01/earthaccess%20logo%20good.png?VersionId=20DCNEsBps8qzPBfOPXzeZL5iNnBAo5y\">\n",
    "\n",
    "<u>[earthaccess](https://github.com/nsidc/earthaccess)</u> from [Luis Lopez](https://github.com/betolink) and others - Python library to search for, and download or stream NASA Earth science data with just a few lines of code\n",
    "\n",
    "<br clear=\"left\"/>"
   ]
  },
  {
   "cell_type": "markdown",
   "id": "39c3509f-51c2-465c-bf53-5685b800dddb",
   "metadata": {},
   "source": [
    "<img align=\"right\" width=\"450px\" src=https://raw.githubusercontent.com/elliesch/flipnslide/main/figure_1.jpg>\n",
    "\n",
    "<u>[FlipNSlide](https://github.com/elliesch/flipnslide/)</u> from [Ellianna Abrahams](https://github.com/elliesch) and others - Python library that improves image tiling and augmentation for geospatial machine learning applications\n",
    "\n",
    "<br clear=\"right\"/>"
   ]
  },
  {
   "cell_type": "markdown",
   "id": "05b8c11a-f51f-4291-af2a-506e2d2934d4",
   "metadata": {},
   "source": [
    "<img align=\"left\" width=\"400px\" src=https://raw.githubusercontent.com/SlideRuleEarth/sliderule/main/docs/jekyll/assets/images/doc_frontpage.jpg>\n",
    "\n",
    "<u>[SlideRule](https://github.com/SlideRuleEarth/sliderule)</u> and [sliderule-python](https://github.com/jpswinski/sliderule-python) from [David Shean](https://github.com/dshean), [JP Soinski](https://github.com/jpswinski) and others - Python client and notebooks that make it easier to interact with [SlideRule Earth](https://slideruleearth.io/) on-demand data\n",
    "\n",
    "<br clear=\"left\"/>"
   ]
  },
  {
   "cell_type": "markdown",
   "id": "93e4403d-022a-4ebb-b987-9be8eda4939f",
   "metadata": {},
   "source": [
    "<u>[ITS_LIVE-Downloader-Tracker](https://github.com/vdevauxchupin/ITS-LIVE-Downloader-Tracker)</u> from [Victor Devaux-Chupin](https://github.com/vdevauxchupin) and others - a Python library for [ITS_LIVE](https://its-live.jpl.nasa.gov/) datacube downloading & tracking/strains calculation"
   ]
  },
  {
   "cell_type": "markdown",
   "id": "ddb3caf8-c527-4a9f-a9c3-e9d52c6ebc9c",
   "metadata": {},
   "source": [
    "<img align=\"right\" width=\"400px\" src=https://raw.githubusercontent.com/geojupyter/jupytergis/main/jupytergis.png>\n",
    "\n",
    "<u>[Jupyter-GIS](https://github.com/geojupyter/jupytergis)</u> by Matthew Fisher and others - A Python JupyterLab extension for collaborative GIS\n",
    "\n",
    "<br clear=\"right\"/>"
   ]
  },
  {
   "cell_type": "markdown",
   "id": "105bd78d-cf8a-4055-90f7-2bf7c01cdc17",
   "metadata": {},
   "source": [
    "<img align=\"left\" width=\"400px\" src=https://raw.githubusercontent.com/nsidc/qgreenland/main/doc/_images/qgreenland-examples.jpg>\n",
    "\n",
    "<u>[QGreenland](https://qgreenland.org/)</u> by [Twila Moon](http://changingice.com/) and others - A free QGIS mapping tool that combines key datasets into a unified, all-in-one GIS analysis and visualization environment for offline and online use.\n",
    "\n",
    "<br clear=\"left\"/>"
   ]
  }
 ],
 "metadata": {
  "kernelspec": {
   "display_name": "Python 3 (ipykernel)",
   "language": "python",
   "name": "python3"
  },
  "language_info": {
   "codemirror_mode": {
    "name": "ipython",
    "version": 3
   },
   "file_extension": ".py",
   "mimetype": "text/x-python",
   "name": "python",
   "nbconvert_exporter": "python",
   "pygments_lexer": "ipython3",
   "version": "3.11.12"
  }
 },
 "nbformat": 4,
 "nbformat_minor": 5
}
