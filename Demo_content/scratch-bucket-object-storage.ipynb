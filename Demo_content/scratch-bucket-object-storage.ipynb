{
 "cells": [
  {
   "cell_type": "markdown",
   "metadata": {},
   "source": [
    "# Working with object storage"
   ]
  },
  {
   "cell_type": "markdown",
   "metadata": {},
   "source": [
    "## Amazon S3 example"
   ]
  },
  {
   "cell_type": "markdown",
   "metadata": {},
   "source": [
    "### Access credentials\n",
    "\n",
    "Credentials are setup ahead of time via environment variables."
   ]
  },
  {
   "cell_type": "code",
   "execution_count": 19,
   "metadata": {},
   "outputs": [
    {
     "name": "stdout",
     "output_type": "stream",
     "text": [
      "AWS_DEFAULT_REGION=us-west-2\n",
      "AWS_REGION=us-west-2\n",
      "AWS_ROLE_ARN=arn:aws:iam::286354552638:role/eksctl-jmte-addon-iamserviceaccount-prod-s3-Role1-KABCYRSSWEQR\n",
      "AWS_WEB_IDENTITY_TOKEN_FILE=/var/run/secrets/eks.amazonaws.com/serviceaccount/token\n"
     ]
    }
   ],
   "source": [
    "%%bash\n",
    "env | grep AWS"
   ]
  },
  {
   "cell_type": "markdown",
   "metadata": {},
   "source": [
    "### The SCRATCH_BUCKET environment variable\n",
    "\n",
    "References a personal location to write files. Useful when sharing code."
   ]
  },
  {
   "cell_type": "code",
   "execution_count": 24,
   "metadata": {},
   "outputs": [
    {
     "name": "stdout",
     "output_type": "stream",
     "text": [
      "s3://jmte-scratch/consideratio\n"
     ]
    }
   ],
   "source": [
    "%%bash\n",
    "echo $SCRATCH_BUCKET"
   ]
  },
  {
   "cell_type": "markdown",
   "metadata": {
    "tags": []
   },
   "source": [
    "### Syncing a folder with a bucket"
   ]
  },
  {
   "cell_type": "markdown",
   "metadata": {
    "tags": []
   },
   "source": [
    "### Create a folder with files"
   ]
  },
  {
   "cell_type": "code",
   "execution_count": 21,
   "metadata": {
    "tags": []
   },
   "outputs": [
    {
     "name": "stdout",
     "output_type": "stream",
     "text": [
      "my-file.txt\n"
     ]
    }
   ],
   "source": [
    "%%bash\n",
    "mkdir -p /tmp/my-tmp-folder\n",
    "echo \"hello object storage\" > /tmp/my-tmp-folder/my-file.txt\n",
    "ls /tmp/my-tmp-folder"
   ]
  },
  {
   "cell_type": "markdown",
   "metadata": {},
   "source": [
    "### Sync folder to S3"
   ]
  },
  {
   "cell_type": "code",
   "execution_count": 22,
   "metadata": {
    "tags": []
   },
   "outputs": [
    {
     "name": "stdout",
     "output_type": "stream",
     "text": [
      "upload: ../../../../tmp/my-tmp-folder/my-file.txt to s3://jmte-scratch/consideratio/my-tmp-folder/my-file.txt\n"
     ]
    }
   ],
   "source": [
    "%%bash\n",
    "aws s3 sync /tmp/my-tmp-folder $SCRATCH_BUCKET/my-tmp-folder"
   ]
  },
  {
   "cell_type": "markdown",
   "metadata": {},
   "source": [
    "### Sync folder from S3"
   ]
  },
  {
   "cell_type": "code",
   "execution_count": 23,
   "metadata": {
    "tags": []
   },
   "outputs": [
    {
     "name": "stdout",
     "output_type": "stream",
     "text": [
      "my-file.txt\n"
     ]
    }
   ],
   "source": [
    "%%bash\n",
    "aws s3 sync $SCRATCH_BUCKET/my-tmp-folder /tmp/my-other-tmp-folder\n",
    "ls /tmp/my-other-tmp-folder"
   ]
  }
 ],
 "metadata": {
  "kernelspec": {
   "display_name": "Python 3",
   "language": "python",
   "name": "python3"
  },
  "language_info": {
   "codemirror_mode": {
    "name": "ipython",
    "version": 3
   },
   "file_extension": ".py",
   "mimetype": "text/x-python",
   "name": "python",
   "nbconvert_exporter": "python",
   "pygments_lexer": "ipython3",
   "version": "3.8.10"
  }
 },
 "nbformat": 4,
 "nbformat_minor": 4
}
